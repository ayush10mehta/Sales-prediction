{
 "cells": [
  {
   "cell_type": "markdown",
   "metadata": {},
   "source": [
    "# Business Case:"
   ]
  },
  {
   "cell_type": "markdown",
   "metadata": {},
   "source": [
    "- FicZon Inc is an IT solution provider with products ranging from on- premises products to SAAS based solutions.  - FicZon major leads generation channel is digital and through their website.\n",
    "- FicZon business is majorly dependent on the sales force effectiveness. As the market is maturing and more new competitors entering the market, FicZon is experiencing the dip in sales.\n",
    "- Effective sales is dependent on lead quality and as of now, this is based on manual categorization and highly depended on sales staff. Though there is a quality process, which continuously updates the lead categorization, it’s value is in for post analysis, rather than conversation.\n",
    "- FicZon wants to explore Machine Learning to pre-categorize the lead quality and as result, expecting significant increase in sales effectiveness."
   ]
  },
  {
   "cell_type": "markdown",
   "metadata": {},
   "source": [
    "# PROJECT GOAL:"
   ]
  },
  {
   "cell_type": "markdown",
   "metadata": {},
   "source": [
    "1. Data exploration insights – Sales effectiveness.\n",
    "2. ML model to predict the Lead Category (High Potential , Low\n",
    "Potential)"
   ]
  },
  {
   "cell_type": "markdown",
   "metadata": {},
   "source": [
    "# Importing libraries"
   ]
  },
  {
   "cell_type": "code",
   "execution_count": 3,
   "metadata": {},
   "outputs": [
    {
     "data": {
      "text/html": [
       "        <script type=\"text/javascript\">\n",
       "        window.PlotlyConfig = {MathJaxConfig: 'local'};\n",
       "        if (window.MathJax) {MathJax.Hub.Config({SVG: {font: \"STIX-Web\"}});}\n",
       "        if (typeof require !== 'undefined') {\n",
       "        require.undef(\"plotly\");\n",
       "        requirejs.config({\n",
       "            paths: {\n",
       "                'plotly': ['https://cdn.plot.ly/plotly-latest.min']\n",
       "            }\n",
       "        });\n",
       "        require(['plotly'], function(Plotly) {\n",
       "            window._Plotly = Plotly;\n",
       "        });\n",
       "        }\n",
       "        </script>\n",
       "        "
      ]
     },
     "metadata": {},
     "output_type": "display_data"
    },
    {
     "data": {
      "text/html": [
       "        <script type=\"text/javascript\">\n",
       "        window.PlotlyConfig = {MathJaxConfig: 'local'};\n",
       "        if (window.MathJax) {MathJax.Hub.Config({SVG: {font: \"STIX-Web\"}});}\n",
       "        if (typeof require !== 'undefined') {\n",
       "        require.undef(\"plotly\");\n",
       "        requirejs.config({\n",
       "            paths: {\n",
       "                'plotly': ['https://cdn.plot.ly/plotly-latest.min']\n",
       "            }\n",
       "        });\n",
       "        require(['plotly'], function(Plotly) {\n",
       "            window._Plotly = Plotly;\n",
       "        });\n",
       "        }\n",
       "        </script>\n",
       "        "
      ]
     },
     "metadata": {},
     "output_type": "display_data"
    }
   ],
   "source": [
    "import numpy as np\n",
    "import pandas as pd\n",
    "import matplotlib.pyplot as plt\n",
    "import seaborn as sns\n",
    "from plotly import __version__\n",
    "from plotly.offline import download_plotlyjs, init_notebook_mode, plot, iplot\n",
    "import cufflinks as cf\n",
    "init_notebook_mode(connected=True)\n",
    "cf.go_offline()\n",
    "import warnings\n",
    "warnings.filterwarnings(\"ignore\")"
   ]
  },
  {
   "cell_type": "markdown",
   "metadata": {},
   "source": [
    "# Reading the data"
   ]
  },
  {
   "cell_type": "code",
   "execution_count": 2,
   "metadata": {},
   "outputs": [],
   "source": [
    "df= pd.read_csv(\"sales data.csv\")"
   ]
  },
  {
   "cell_type": "code",
   "execution_count": 3,
   "metadata": {},
   "outputs": [
    {
     "data": {
      "text/html": [
       "<div>\n",
       "<style scoped>\n",
       "    .dataframe tbody tr th:only-of-type {\n",
       "        vertical-align: middle;\n",
       "    }\n",
       "\n",
       "    .dataframe tbody tr th {\n",
       "        vertical-align: top;\n",
       "    }\n",
       "\n",
       "    .dataframe thead th {\n",
       "        text-align: right;\n",
       "    }\n",
       "</style>\n",
       "<table border=\"1\" class=\"dataframe\">\n",
       "  <thead>\n",
       "    <tr style=\"text-align: right;\">\n",
       "      <th></th>\n",
       "      <th>Created</th>\n",
       "      <th>Product_ID</th>\n",
       "      <th>Source</th>\n",
       "      <th>Mobile</th>\n",
       "      <th>EMAIL</th>\n",
       "      <th>Sales_Agent</th>\n",
       "      <th>Location</th>\n",
       "      <th>Delivery_Mode</th>\n",
       "      <th>Status</th>\n",
       "    </tr>\n",
       "  </thead>\n",
       "  <tbody>\n",
       "    <tr>\n",
       "      <th>0</th>\n",
       "      <td>14-11-2018 10:05</td>\n",
       "      <td>NaN</td>\n",
       "      <td>Website</td>\n",
       "      <td>984XXXXXXX</td>\n",
       "      <td>aXXXXXXX@gmail.com</td>\n",
       "      <td>Sales-Agent-11</td>\n",
       "      <td>NaN</td>\n",
       "      <td>Mode-5</td>\n",
       "      <td>Open</td>\n",
       "    </tr>\n",
       "    <tr>\n",
       "      <th>1</th>\n",
       "      <td>14-11-2018 09:22</td>\n",
       "      <td>NaN</td>\n",
       "      <td>Website</td>\n",
       "      <td>XXXXXXX</td>\n",
       "      <td>#VALUE!</td>\n",
       "      <td>Sales-Agent-10</td>\n",
       "      <td>NaN</td>\n",
       "      <td>Mode-5</td>\n",
       "      <td>Open</td>\n",
       "    </tr>\n",
       "    <tr>\n",
       "      <th>2</th>\n",
       "      <td>14-11-2018 09:21</td>\n",
       "      <td>NaN</td>\n",
       "      <td>Website</td>\n",
       "      <td>XXXXXXX</td>\n",
       "      <td>dXXXXXXX@yahoo.com</td>\n",
       "      <td>Sales-Agent-10</td>\n",
       "      <td>NaN</td>\n",
       "      <td>Mode-5</td>\n",
       "      <td>Open</td>\n",
       "    </tr>\n",
       "    <tr>\n",
       "      <th>3</th>\n",
       "      <td>14-11-2018 08:46</td>\n",
       "      <td>NaN</td>\n",
       "      <td>Website</td>\n",
       "      <td>XXXXXXX</td>\n",
       "      <td>wXXXXXXX@gmail.com</td>\n",
       "      <td>Sales-Agent-10</td>\n",
       "      <td>NaN</td>\n",
       "      <td>Mode-5</td>\n",
       "      <td>Open</td>\n",
       "    </tr>\n",
       "    <tr>\n",
       "      <th>4</th>\n",
       "      <td>14-11-2018 07:34</td>\n",
       "      <td>NaN</td>\n",
       "      <td>Website</td>\n",
       "      <td>XXXXXXX</td>\n",
       "      <td>cXXXXXXX@gmail.com</td>\n",
       "      <td>Sales-Agent-10</td>\n",
       "      <td>NaN</td>\n",
       "      <td>Mode-5</td>\n",
       "      <td>Open</td>\n",
       "    </tr>\n",
       "  </tbody>\n",
       "</table>\n",
       "</div>"
      ],
      "text/plain": [
       "            Created  Product_ID   Source      Mobile               EMAIL  \\\n",
       "0  14-11-2018 10:05         NaN  Website  984XXXXXXX  aXXXXXXX@gmail.com   \n",
       "1  14-11-2018 09:22         NaN  Website     XXXXXXX             #VALUE!   \n",
       "2  14-11-2018 09:21         NaN  Website     XXXXXXX  dXXXXXXX@yahoo.com   \n",
       "3  14-11-2018 08:46         NaN  Website     XXXXXXX  wXXXXXXX@gmail.com   \n",
       "4  14-11-2018 07:34         NaN  Website     XXXXXXX  cXXXXXXX@gmail.com   \n",
       "\n",
       "      Sales_Agent Location Delivery_Mode Status  \n",
       "0  Sales-Agent-11      NaN        Mode-5   Open  \n",
       "1  Sales-Agent-10      NaN        Mode-5   Open  \n",
       "2  Sales-Agent-10      NaN        Mode-5   Open  \n",
       "3  Sales-Agent-10      NaN        Mode-5   Open  \n",
       "4  Sales-Agent-10      NaN        Mode-5   Open  "
      ]
     },
     "execution_count": 3,
     "metadata": {},
     "output_type": "execute_result"
    }
   ],
   "source": [
    "df.head()"
   ]
  },
  {
   "cell_type": "markdown",
   "metadata": {},
   "source": [
    "# EDA"
   ]
  },
  {
   "cell_type": "markdown",
   "metadata": {},
   "source": [
    "# Tableau Link:- https://public.tableau.com/app/profile/ayush.mehta/viz/ClientProjectstory/Story1"
   ]
  },
  {
   "cell_type": "markdown",
   "metadata": {},
   "source": [
    "### A thorough analysis of the data has been done on tableau please have a look at the above link."
   ]
  },
  {
   "cell_type": "markdown",
   "metadata": {},
   "source": [
    "# Overview of data"
   ]
  },
  {
   "cell_type": "code",
   "execution_count": 4,
   "metadata": {},
   "outputs": [
    {
     "name": "stdout",
     "output_type": "stream",
     "text": [
      "<class 'pandas.core.frame.DataFrame'>\n",
      "RangeIndex: 7422 entries, 0 to 7421\n",
      "Data columns (total 9 columns):\n",
      " #   Column         Non-Null Count  Dtype  \n",
      "---  ------         --------------  -----  \n",
      " 0   Created        7422 non-null   object \n",
      " 1   Product_ID     7364 non-null   float64\n",
      " 2   Source         7405 non-null   object \n",
      " 3   Mobile         5612 non-null   object \n",
      " 4   EMAIL          7422 non-null   object \n",
      " 5   Sales_Agent    7399 non-null   object \n",
      " 6   Location       7364 non-null   object \n",
      " 7   Delivery_Mode  7422 non-null   object \n",
      " 8   Status         7422 non-null   object \n",
      "dtypes: float64(1), object(8)\n",
      "memory usage: 522.0+ KB\n"
     ]
    }
   ],
   "source": [
    "df.info()"
   ]
  },
  {
   "cell_type": "markdown",
   "metadata": {},
   "source": [
    "# Value counts of each data"
   ]
  },
  {
   "cell_type": "code",
   "execution_count": 7,
   "metadata": {},
   "outputs": [
    {
     "data": {
      "application/vnd.plotly.v1+json": {
       "config": {
        "linkText": "Export to plot.ly",
        "plotlyServerURL": "https://plot.ly",
        "showLink": true
       },
       "data": [
        {
         "marker": {
          "color": "rgba(255, 153, 51, 0.6)",
          "line": {
           "color": "rgba(255, 153, 51, 1.0)",
           "width": 1
          }
         },
         "name": "None",
         "orientation": "v",
         "text": "",
         "type": "bar",
         "x": [
          "Created",
          "Product_ID",
          "Source",
          "Mobile",
          "EMAIL",
          "Sales_Agent",
          "Location",
          "Delivery_Mode",
          "Status"
         ],
         "y": [
          7422,
          7364,
          7405,
          5612,
          7422,
          7399,
          7364,
          7422,
          7422
         ]
        }
       ],
       "layout": {
        "legend": {
         "bgcolor": "#F5F6F9",
         "font": {
          "color": "#4D5663"
         }
        },
        "paper_bgcolor": "#F5F6F9",
        "plot_bgcolor": "#F5F6F9",
        "template": {
         "data": {
          "bar": [
           {
            "error_x": {
             "color": "#2a3f5f"
            },
            "error_y": {
             "color": "#2a3f5f"
            },
            "marker": {
             "line": {
              "color": "#E5ECF6",
              "width": 0.5
             }
            },
            "type": "bar"
           }
          ],
          "barpolar": [
           {
            "marker": {
             "line": {
              "color": "#E5ECF6",
              "width": 0.5
             }
            },
            "type": "barpolar"
           }
          ],
          "carpet": [
           {
            "aaxis": {
             "endlinecolor": "#2a3f5f",
             "gridcolor": "white",
             "linecolor": "white",
             "minorgridcolor": "white",
             "startlinecolor": "#2a3f5f"
            },
            "baxis": {
             "endlinecolor": "#2a3f5f",
             "gridcolor": "white",
             "linecolor": "white",
             "minorgridcolor": "white",
             "startlinecolor": "#2a3f5f"
            },
            "type": "carpet"
           }
          ],
          "choropleth": [
           {
            "colorbar": {
             "outlinewidth": 0,
             "ticks": ""
            },
            "type": "choropleth"
           }
          ],
          "contour": [
           {
            "colorbar": {
             "outlinewidth": 0,
             "ticks": ""
            },
            "colorscale": [
             [
              0,
              "#0d0887"
             ],
             [
              0.1111111111111111,
              "#46039f"
             ],
             [
              0.2222222222222222,
              "#7201a8"
             ],
             [
              0.3333333333333333,
              "#9c179e"
             ],
             [
              0.4444444444444444,
              "#bd3786"
             ],
             [
              0.5555555555555556,
              "#d8576b"
             ],
             [
              0.6666666666666666,
              "#ed7953"
             ],
             [
              0.7777777777777778,
              "#fb9f3a"
             ],
             [
              0.8888888888888888,
              "#fdca26"
             ],
             [
              1,
              "#f0f921"
             ]
            ],
            "type": "contour"
           }
          ],
          "contourcarpet": [
           {
            "colorbar": {
             "outlinewidth": 0,
             "ticks": ""
            },
            "type": "contourcarpet"
           }
          ],
          "heatmap": [
           {
            "colorbar": {
             "outlinewidth": 0,
             "ticks": ""
            },
            "colorscale": [
             [
              0,
              "#0d0887"
             ],
             [
              0.1111111111111111,
              "#46039f"
             ],
             [
              0.2222222222222222,
              "#7201a8"
             ],
             [
              0.3333333333333333,
              "#9c179e"
             ],
             [
              0.4444444444444444,
              "#bd3786"
             ],
             [
              0.5555555555555556,
              "#d8576b"
             ],
             [
              0.6666666666666666,
              "#ed7953"
             ],
             [
              0.7777777777777778,
              "#fb9f3a"
             ],
             [
              0.8888888888888888,
              "#fdca26"
             ],
             [
              1,
              "#f0f921"
             ]
            ],
            "type": "heatmap"
           }
          ],
          "heatmapgl": [
           {
            "colorbar": {
             "outlinewidth": 0,
             "ticks": ""
            },
            "colorscale": [
             [
              0,
              "#0d0887"
             ],
             [
              0.1111111111111111,
              "#46039f"
             ],
             [
              0.2222222222222222,
              "#7201a8"
             ],
             [
              0.3333333333333333,
              "#9c179e"
             ],
             [
              0.4444444444444444,
              "#bd3786"
             ],
             [
              0.5555555555555556,
              "#d8576b"
             ],
             [
              0.6666666666666666,
              "#ed7953"
             ],
             [
              0.7777777777777778,
              "#fb9f3a"
             ],
             [
              0.8888888888888888,
              "#fdca26"
             ],
             [
              1,
              "#f0f921"
             ]
            ],
            "type": "heatmapgl"
           }
          ],
          "histogram": [
           {
            "marker": {
             "colorbar": {
              "outlinewidth": 0,
              "ticks": ""
             }
            },
            "type": "histogram"
           }
          ],
          "histogram2d": [
           {
            "colorbar": {
             "outlinewidth": 0,
             "ticks": ""
            },
            "colorscale": [
             [
              0,
              "#0d0887"
             ],
             [
              0.1111111111111111,
              "#46039f"
             ],
             [
              0.2222222222222222,
              "#7201a8"
             ],
             [
              0.3333333333333333,
              "#9c179e"
             ],
             [
              0.4444444444444444,
              "#bd3786"
             ],
             [
              0.5555555555555556,
              "#d8576b"
             ],
             [
              0.6666666666666666,
              "#ed7953"
             ],
             [
              0.7777777777777778,
              "#fb9f3a"
             ],
             [
              0.8888888888888888,
              "#fdca26"
             ],
             [
              1,
              "#f0f921"
             ]
            ],
            "type": "histogram2d"
           }
          ],
          "histogram2dcontour": [
           {
            "colorbar": {
             "outlinewidth": 0,
             "ticks": ""
            },
            "colorscale": [
             [
              0,
              "#0d0887"
             ],
             [
              0.1111111111111111,
              "#46039f"
             ],
             [
              0.2222222222222222,
              "#7201a8"
             ],
             [
              0.3333333333333333,
              "#9c179e"
             ],
             [
              0.4444444444444444,
              "#bd3786"
             ],
             [
              0.5555555555555556,
              "#d8576b"
             ],
             [
              0.6666666666666666,
              "#ed7953"
             ],
             [
              0.7777777777777778,
              "#fb9f3a"
             ],
             [
              0.8888888888888888,
              "#fdca26"
             ],
             [
              1,
              "#f0f921"
             ]
            ],
            "type": "histogram2dcontour"
           }
          ],
          "mesh3d": [
           {
            "colorbar": {
             "outlinewidth": 0,
             "ticks": ""
            },
            "type": "mesh3d"
           }
          ],
          "parcoords": [
           {
            "line": {
             "colorbar": {
              "outlinewidth": 0,
              "ticks": ""
             }
            },
            "type": "parcoords"
           }
          ],
          "pie": [
           {
            "automargin": true,
            "type": "pie"
           }
          ],
          "scatter": [
           {
            "marker": {
             "colorbar": {
              "outlinewidth": 0,
              "ticks": ""
             }
            },
            "type": "scatter"
           }
          ],
          "scatter3d": [
           {
            "line": {
             "colorbar": {
              "outlinewidth": 0,
              "ticks": ""
             }
            },
            "marker": {
             "colorbar": {
              "outlinewidth": 0,
              "ticks": ""
             }
            },
            "type": "scatter3d"
           }
          ],
          "scattercarpet": [
           {
            "marker": {
             "colorbar": {
              "outlinewidth": 0,
              "ticks": ""
             }
            },
            "type": "scattercarpet"
           }
          ],
          "scattergeo": [
           {
            "marker": {
             "colorbar": {
              "outlinewidth": 0,
              "ticks": ""
             }
            },
            "type": "scattergeo"
           }
          ],
          "scattergl": [
           {
            "marker": {
             "colorbar": {
              "outlinewidth": 0,
              "ticks": ""
             }
            },
            "type": "scattergl"
           }
          ],
          "scattermapbox": [
           {
            "marker": {
             "colorbar": {
              "outlinewidth": 0,
              "ticks": ""
             }
            },
            "type": "scattermapbox"
           }
          ],
          "scatterpolar": [
           {
            "marker": {
             "colorbar": {
              "outlinewidth": 0,
              "ticks": ""
             }
            },
            "type": "scatterpolar"
           }
          ],
          "scatterpolargl": [
           {
            "marker": {
             "colorbar": {
              "outlinewidth": 0,
              "ticks": ""
             }
            },
            "type": "scatterpolargl"
           }
          ],
          "scatterternary": [
           {
            "marker": {
             "colorbar": {
              "outlinewidth": 0,
              "ticks": ""
             }
            },
            "type": "scatterternary"
           }
          ],
          "surface": [
           {
            "colorbar": {
             "outlinewidth": 0,
             "ticks": ""
            },
            "colorscale": [
             [
              0,
              "#0d0887"
             ],
             [
              0.1111111111111111,
              "#46039f"
             ],
             [
              0.2222222222222222,
              "#7201a8"
             ],
             [
              0.3333333333333333,
              "#9c179e"
             ],
             [
              0.4444444444444444,
              "#bd3786"
             ],
             [
              0.5555555555555556,
              "#d8576b"
             ],
             [
              0.6666666666666666,
              "#ed7953"
             ],
             [
              0.7777777777777778,
              "#fb9f3a"
             ],
             [
              0.8888888888888888,
              "#fdca26"
             ],
             [
              1,
              "#f0f921"
             ]
            ],
            "type": "surface"
           }
          ],
          "table": [
           {
            "cells": {
             "fill": {
              "color": "#EBF0F8"
             },
             "line": {
              "color": "white"
             }
            },
            "header": {
             "fill": {
              "color": "#C8D4E3"
             },
             "line": {
              "color": "white"
             }
            },
            "type": "table"
           }
          ]
         },
         "layout": {
          "annotationdefaults": {
           "arrowcolor": "#2a3f5f",
           "arrowhead": 0,
           "arrowwidth": 1
          },
          "autotypenumbers": "strict",
          "coloraxis": {
           "colorbar": {
            "outlinewidth": 0,
            "ticks": ""
           }
          },
          "colorscale": {
           "diverging": [
            [
             0,
             "#8e0152"
            ],
            [
             0.1,
             "#c51b7d"
            ],
            [
             0.2,
             "#de77ae"
            ],
            [
             0.3,
             "#f1b6da"
            ],
            [
             0.4,
             "#fde0ef"
            ],
            [
             0.5,
             "#f7f7f7"
            ],
            [
             0.6,
             "#e6f5d0"
            ],
            [
             0.7,
             "#b8e186"
            ],
            [
             0.8,
             "#7fbc41"
            ],
            [
             0.9,
             "#4d9221"
            ],
            [
             1,
             "#276419"
            ]
           ],
           "sequential": [
            [
             0,
             "#0d0887"
            ],
            [
             0.1111111111111111,
             "#46039f"
            ],
            [
             0.2222222222222222,
             "#7201a8"
            ],
            [
             0.3333333333333333,
             "#9c179e"
            ],
            [
             0.4444444444444444,
             "#bd3786"
            ],
            [
             0.5555555555555556,
             "#d8576b"
            ],
            [
             0.6666666666666666,
             "#ed7953"
            ],
            [
             0.7777777777777778,
             "#fb9f3a"
            ],
            [
             0.8888888888888888,
             "#fdca26"
            ],
            [
             1,
             "#f0f921"
            ]
           ],
           "sequentialminus": [
            [
             0,
             "#0d0887"
            ],
            [
             0.1111111111111111,
             "#46039f"
            ],
            [
             0.2222222222222222,
             "#7201a8"
            ],
            [
             0.3333333333333333,
             "#9c179e"
            ],
            [
             0.4444444444444444,
             "#bd3786"
            ],
            [
             0.5555555555555556,
             "#d8576b"
            ],
            [
             0.6666666666666666,
             "#ed7953"
            ],
            [
             0.7777777777777778,
             "#fb9f3a"
            ],
            [
             0.8888888888888888,
             "#fdca26"
            ],
            [
             1,
             "#f0f921"
            ]
           ]
          },
          "colorway": [
           "#636efa",
           "#EF553B",
           "#00cc96",
           "#ab63fa",
           "#FFA15A",
           "#19d3f3",
           "#FF6692",
           "#B6E880",
           "#FF97FF",
           "#FECB52"
          ],
          "font": {
           "color": "#2a3f5f"
          },
          "geo": {
           "bgcolor": "white",
           "lakecolor": "white",
           "landcolor": "#E5ECF6",
           "showlakes": true,
           "showland": true,
           "subunitcolor": "white"
          },
          "hoverlabel": {
           "align": "left"
          },
          "hovermode": "closest",
          "mapbox": {
           "style": "light"
          },
          "paper_bgcolor": "white",
          "plot_bgcolor": "#E5ECF6",
          "polar": {
           "angularaxis": {
            "gridcolor": "white",
            "linecolor": "white",
            "ticks": ""
           },
           "bgcolor": "#E5ECF6",
           "radialaxis": {
            "gridcolor": "white",
            "linecolor": "white",
            "ticks": ""
           }
          },
          "scene": {
           "xaxis": {
            "backgroundcolor": "#E5ECF6",
            "gridcolor": "white",
            "gridwidth": 2,
            "linecolor": "white",
            "showbackground": true,
            "ticks": "",
            "zerolinecolor": "white"
           },
           "yaxis": {
            "backgroundcolor": "#E5ECF6",
            "gridcolor": "white",
            "gridwidth": 2,
            "linecolor": "white",
            "showbackground": true,
            "ticks": "",
            "zerolinecolor": "white"
           },
           "zaxis": {
            "backgroundcolor": "#E5ECF6",
            "gridcolor": "white",
            "gridwidth": 2,
            "linecolor": "white",
            "showbackground": true,
            "ticks": "",
            "zerolinecolor": "white"
           }
          },
          "shapedefaults": {
           "line": {
            "color": "#2a3f5f"
           }
          },
          "ternary": {
           "aaxis": {
            "gridcolor": "white",
            "linecolor": "white",
            "ticks": ""
           },
           "baxis": {
            "gridcolor": "white",
            "linecolor": "white",
            "ticks": ""
           },
           "bgcolor": "#E5ECF6",
           "caxis": {
            "gridcolor": "white",
            "linecolor": "white",
            "ticks": ""
           }
          },
          "title": {
           "x": 0.05
          },
          "xaxis": {
           "automargin": true,
           "gridcolor": "white",
           "linecolor": "white",
           "ticks": "",
           "title": {
            "standoff": 15
           },
           "zerolinecolor": "white",
           "zerolinewidth": 2
          },
          "yaxis": {
           "automargin": true,
           "gridcolor": "white",
           "linecolor": "white",
           "ticks": "",
           "title": {
            "standoff": 15
           },
           "zerolinecolor": "white",
           "zerolinewidth": 2
          }
         }
        },
        "title": {
         "font": {
          "color": "#4D5663"
         }
        },
        "xaxis": {
         "gridcolor": "#E1E5ED",
         "showgrid": true,
         "tickfont": {
          "color": "#4D5663"
         },
         "title": {
          "font": {
           "color": "#4D5663"
          },
          "text": ""
         },
         "zerolinecolor": "#E1E5ED"
        },
        "yaxis": {
         "gridcolor": "#E1E5ED",
         "showgrid": true,
         "tickfont": {
          "color": "#4D5663"
         },
         "title": {
          "font": {
           "color": "#4D5663"
          },
          "text": ""
         },
         "zerolinecolor": "#E1E5ED"
        }
       }
      },
      "text/html": [
       "<div>                            <div id=\"61d119e4-ddc7-4f03-aaf6-1fadd20c547f\" class=\"plotly-graph-div\" style=\"height:525px; width:100%;\"></div>            <script type=\"text/javascript\">                require([\"plotly\"], function(Plotly) {                    window.PLOTLYENV=window.PLOTLYENV || {};\n",
       "                    window.PLOTLYENV.BASE_URL='https://plot.ly';                                    if (document.getElementById(\"61d119e4-ddc7-4f03-aaf6-1fadd20c547f\")) {                    Plotly.newPlot(                        \"61d119e4-ddc7-4f03-aaf6-1fadd20c547f\",                        [{\"marker\": {\"color\": \"rgba(255, 153, 51, 0.6)\", \"line\": {\"color\": \"rgba(255, 153, 51, 1.0)\", \"width\": 1}}, \"name\": \"None\", \"orientation\": \"v\", \"text\": \"\", \"type\": \"bar\", \"x\": [\"Created\", \"Product_ID\", \"Source\", \"Mobile\", \"EMAIL\", \"Sales_Agent\", \"Location\", \"Delivery_Mode\", \"Status\"], \"y\": [7422, 7364, 7405, 5612, 7422, 7399, 7364, 7422, 7422]}],                        {\"legend\": {\"bgcolor\": \"#F5F6F9\", \"font\": {\"color\": \"#4D5663\"}}, \"paper_bgcolor\": \"#F5F6F9\", \"plot_bgcolor\": \"#F5F6F9\", \"template\": {\"data\": {\"bar\": [{\"error_x\": {\"color\": \"#2a3f5f\"}, \"error_y\": {\"color\": \"#2a3f5f\"}, \"marker\": {\"line\": {\"color\": \"#E5ECF6\", \"width\": 0.5}}, \"type\": \"bar\"}], \"barpolar\": [{\"marker\": {\"line\": {\"color\": \"#E5ECF6\", \"width\": 0.5}}, \"type\": \"barpolar\"}], \"carpet\": [{\"aaxis\": {\"endlinecolor\": \"#2a3f5f\", \"gridcolor\": \"white\", \"linecolor\": \"white\", \"minorgridcolor\": \"white\", \"startlinecolor\": \"#2a3f5f\"}, \"baxis\": {\"endlinecolor\": \"#2a3f5f\", \"gridcolor\": \"white\", \"linecolor\": \"white\", \"minorgridcolor\": \"white\", \"startlinecolor\": \"#2a3f5f\"}, \"type\": \"carpet\"}], \"choropleth\": [{\"colorbar\": {\"outlinewidth\": 0, \"ticks\": \"\"}, \"type\": \"choropleth\"}], \"contour\": [{\"colorbar\": {\"outlinewidth\": 0, \"ticks\": \"\"}, \"colorscale\": [[0.0, \"#0d0887\"], [0.1111111111111111, \"#46039f\"], [0.2222222222222222, \"#7201a8\"], [0.3333333333333333, \"#9c179e\"], [0.4444444444444444, \"#bd3786\"], [0.5555555555555556, \"#d8576b\"], [0.6666666666666666, \"#ed7953\"], [0.7777777777777778, \"#fb9f3a\"], [0.8888888888888888, \"#fdca26\"], [1.0, \"#f0f921\"]], \"type\": \"contour\"}], \"contourcarpet\": [{\"colorbar\": {\"outlinewidth\": 0, \"ticks\": \"\"}, \"type\": \"contourcarpet\"}], \"heatmap\": [{\"colorbar\": {\"outlinewidth\": 0, \"ticks\": \"\"}, \"colorscale\": [[0.0, \"#0d0887\"], [0.1111111111111111, \"#46039f\"], [0.2222222222222222, \"#7201a8\"], [0.3333333333333333, \"#9c179e\"], [0.4444444444444444, \"#bd3786\"], [0.5555555555555556, \"#d8576b\"], [0.6666666666666666, \"#ed7953\"], [0.7777777777777778, \"#fb9f3a\"], [0.8888888888888888, \"#fdca26\"], [1.0, \"#f0f921\"]], \"type\": \"heatmap\"}], \"heatmapgl\": [{\"colorbar\": {\"outlinewidth\": 0, \"ticks\": \"\"}, \"colorscale\": [[0.0, \"#0d0887\"], [0.1111111111111111, \"#46039f\"], [0.2222222222222222, \"#7201a8\"], [0.3333333333333333, \"#9c179e\"], [0.4444444444444444, \"#bd3786\"], [0.5555555555555556, \"#d8576b\"], [0.6666666666666666, \"#ed7953\"], [0.7777777777777778, \"#fb9f3a\"], [0.8888888888888888, \"#fdca26\"], [1.0, \"#f0f921\"]], \"type\": \"heatmapgl\"}], \"histogram\": [{\"marker\": {\"colorbar\": {\"outlinewidth\": 0, \"ticks\": \"\"}}, \"type\": \"histogram\"}], \"histogram2d\": [{\"colorbar\": {\"outlinewidth\": 0, \"ticks\": \"\"}, \"colorscale\": [[0.0, \"#0d0887\"], [0.1111111111111111, \"#46039f\"], [0.2222222222222222, \"#7201a8\"], [0.3333333333333333, \"#9c179e\"], [0.4444444444444444, \"#bd3786\"], [0.5555555555555556, \"#d8576b\"], [0.6666666666666666, \"#ed7953\"], [0.7777777777777778, \"#fb9f3a\"], [0.8888888888888888, \"#fdca26\"], [1.0, \"#f0f921\"]], \"type\": \"histogram2d\"}], \"histogram2dcontour\": [{\"colorbar\": {\"outlinewidth\": 0, \"ticks\": \"\"}, \"colorscale\": [[0.0, \"#0d0887\"], [0.1111111111111111, \"#46039f\"], [0.2222222222222222, \"#7201a8\"], [0.3333333333333333, \"#9c179e\"], [0.4444444444444444, \"#bd3786\"], [0.5555555555555556, \"#d8576b\"], [0.6666666666666666, \"#ed7953\"], [0.7777777777777778, \"#fb9f3a\"], [0.8888888888888888, \"#fdca26\"], [1.0, \"#f0f921\"]], \"type\": \"histogram2dcontour\"}], \"mesh3d\": [{\"colorbar\": {\"outlinewidth\": 0, \"ticks\": \"\"}, \"type\": \"mesh3d\"}], \"parcoords\": [{\"line\": {\"colorbar\": {\"outlinewidth\": 0, \"ticks\": \"\"}}, \"type\": \"parcoords\"}], \"pie\": [{\"automargin\": true, \"type\": \"pie\"}], \"scatter\": [{\"marker\": {\"colorbar\": {\"outlinewidth\": 0, \"ticks\": \"\"}}, \"type\": \"scatter\"}], \"scatter3d\": [{\"line\": {\"colorbar\": {\"outlinewidth\": 0, \"ticks\": \"\"}}, \"marker\": {\"colorbar\": {\"outlinewidth\": 0, \"ticks\": \"\"}}, \"type\": \"scatter3d\"}], \"scattercarpet\": [{\"marker\": {\"colorbar\": {\"outlinewidth\": 0, \"ticks\": \"\"}}, \"type\": \"scattercarpet\"}], \"scattergeo\": [{\"marker\": {\"colorbar\": {\"outlinewidth\": 0, \"ticks\": \"\"}}, \"type\": \"scattergeo\"}], \"scattergl\": [{\"marker\": {\"colorbar\": {\"outlinewidth\": 0, \"ticks\": \"\"}}, \"type\": \"scattergl\"}], \"scattermapbox\": [{\"marker\": {\"colorbar\": {\"outlinewidth\": 0, \"ticks\": \"\"}}, \"type\": \"scattermapbox\"}], \"scatterpolar\": [{\"marker\": {\"colorbar\": {\"outlinewidth\": 0, \"ticks\": \"\"}}, \"type\": \"scatterpolar\"}], \"scatterpolargl\": [{\"marker\": {\"colorbar\": {\"outlinewidth\": 0, \"ticks\": \"\"}}, \"type\": \"scatterpolargl\"}], \"scatterternary\": [{\"marker\": {\"colorbar\": {\"outlinewidth\": 0, \"ticks\": \"\"}}, \"type\": \"scatterternary\"}], \"surface\": [{\"colorbar\": {\"outlinewidth\": 0, \"ticks\": \"\"}, \"colorscale\": [[0.0, \"#0d0887\"], [0.1111111111111111, \"#46039f\"], [0.2222222222222222, \"#7201a8\"], [0.3333333333333333, \"#9c179e\"], [0.4444444444444444, \"#bd3786\"], [0.5555555555555556, \"#d8576b\"], [0.6666666666666666, \"#ed7953\"], [0.7777777777777778, \"#fb9f3a\"], [0.8888888888888888, \"#fdca26\"], [1.0, \"#f0f921\"]], \"type\": \"surface\"}], \"table\": [{\"cells\": {\"fill\": {\"color\": \"#EBF0F8\"}, \"line\": {\"color\": \"white\"}}, \"header\": {\"fill\": {\"color\": \"#C8D4E3\"}, \"line\": {\"color\": \"white\"}}, \"type\": \"table\"}]}, \"layout\": {\"annotationdefaults\": {\"arrowcolor\": \"#2a3f5f\", \"arrowhead\": 0, \"arrowwidth\": 1}, \"autotypenumbers\": \"strict\", \"coloraxis\": {\"colorbar\": {\"outlinewidth\": 0, \"ticks\": \"\"}}, \"colorscale\": {\"diverging\": [[0, \"#8e0152\"], [0.1, \"#c51b7d\"], [0.2, \"#de77ae\"], [0.3, \"#f1b6da\"], [0.4, \"#fde0ef\"], [0.5, \"#f7f7f7\"], [0.6, \"#e6f5d0\"], [0.7, \"#b8e186\"], [0.8, \"#7fbc41\"], [0.9, \"#4d9221\"], [1, \"#276419\"]], \"sequential\": [[0.0, \"#0d0887\"], [0.1111111111111111, \"#46039f\"], [0.2222222222222222, \"#7201a8\"], [0.3333333333333333, \"#9c179e\"], [0.4444444444444444, \"#bd3786\"], [0.5555555555555556, \"#d8576b\"], [0.6666666666666666, \"#ed7953\"], [0.7777777777777778, \"#fb9f3a\"], [0.8888888888888888, \"#fdca26\"], [1.0, \"#f0f921\"]], \"sequentialminus\": [[0.0, \"#0d0887\"], [0.1111111111111111, \"#46039f\"], [0.2222222222222222, \"#7201a8\"], [0.3333333333333333, \"#9c179e\"], [0.4444444444444444, \"#bd3786\"], [0.5555555555555556, \"#d8576b\"], [0.6666666666666666, \"#ed7953\"], [0.7777777777777778, \"#fb9f3a\"], [0.8888888888888888, \"#fdca26\"], [1.0, \"#f0f921\"]]}, \"colorway\": [\"#636efa\", \"#EF553B\", \"#00cc96\", \"#ab63fa\", \"#FFA15A\", \"#19d3f3\", \"#FF6692\", \"#B6E880\", \"#FF97FF\", \"#FECB52\"], \"font\": {\"color\": \"#2a3f5f\"}, \"geo\": {\"bgcolor\": \"white\", \"lakecolor\": \"white\", \"landcolor\": \"#E5ECF6\", \"showlakes\": true, \"showland\": true, \"subunitcolor\": \"white\"}, \"hoverlabel\": {\"align\": \"left\"}, \"hovermode\": \"closest\", \"mapbox\": {\"style\": \"light\"}, \"paper_bgcolor\": \"white\", \"plot_bgcolor\": \"#E5ECF6\", \"polar\": {\"angularaxis\": {\"gridcolor\": \"white\", \"linecolor\": \"white\", \"ticks\": \"\"}, \"bgcolor\": \"#E5ECF6\", \"radialaxis\": {\"gridcolor\": \"white\", \"linecolor\": \"white\", \"ticks\": \"\"}}, \"scene\": {\"xaxis\": {\"backgroundcolor\": \"#E5ECF6\", \"gridcolor\": \"white\", \"gridwidth\": 2, \"linecolor\": \"white\", \"showbackground\": true, \"ticks\": \"\", \"zerolinecolor\": \"white\"}, \"yaxis\": {\"backgroundcolor\": \"#E5ECF6\", \"gridcolor\": \"white\", \"gridwidth\": 2, \"linecolor\": \"white\", \"showbackground\": true, \"ticks\": \"\", \"zerolinecolor\": \"white\"}, \"zaxis\": {\"backgroundcolor\": \"#E5ECF6\", \"gridcolor\": \"white\", \"gridwidth\": 2, \"linecolor\": \"white\", \"showbackground\": true, \"ticks\": \"\", \"zerolinecolor\": \"white\"}}, \"shapedefaults\": {\"line\": {\"color\": \"#2a3f5f\"}}, \"ternary\": {\"aaxis\": {\"gridcolor\": \"white\", \"linecolor\": \"white\", \"ticks\": \"\"}, \"baxis\": {\"gridcolor\": \"white\", \"linecolor\": \"white\", \"ticks\": \"\"}, \"bgcolor\": \"#E5ECF6\", \"caxis\": {\"gridcolor\": \"white\", \"linecolor\": \"white\", \"ticks\": \"\"}}, \"title\": {\"x\": 0.05}, \"xaxis\": {\"automargin\": true, \"gridcolor\": \"white\", \"linecolor\": \"white\", \"ticks\": \"\", \"title\": {\"standoff\": 15}, \"zerolinecolor\": \"white\", \"zerolinewidth\": 2}, \"yaxis\": {\"automargin\": true, \"gridcolor\": \"white\", \"linecolor\": \"white\", \"ticks\": \"\", \"title\": {\"standoff\": 15}, \"zerolinecolor\": \"white\", \"zerolinewidth\": 2}}}, \"title\": {\"font\": {\"color\": \"#4D5663\"}}, \"xaxis\": {\"gridcolor\": \"#E1E5ED\", \"showgrid\": true, \"tickfont\": {\"color\": \"#4D5663\"}, \"title\": {\"font\": {\"color\": \"#4D5663\"}, \"text\": \"\"}, \"zerolinecolor\": \"#E1E5ED\"}, \"yaxis\": {\"gridcolor\": \"#E1E5ED\", \"showgrid\": true, \"tickfont\": {\"color\": \"#4D5663\"}, \"title\": {\"font\": {\"color\": \"#4D5663\"}, \"text\": \"\"}, \"zerolinecolor\": \"#E1E5ED\"}},                        {\"showLink\": true, \"linkText\": \"Export to plot.ly\", \"plotlyServerURL\": \"https://plot.ly\", \"responsive\": true}                    ).then(function(){\n",
       "                            \n",
       "var gd = document.getElementById('61d119e4-ddc7-4f03-aaf6-1fadd20c547f');\n",
       "var x = new MutationObserver(function (mutations, observer) {{\n",
       "        var display = window.getComputedStyle(gd).display;\n",
       "        if (!display || display === 'none') {{\n",
       "            console.log([gd, 'removed!']);\n",
       "            Plotly.purge(gd);\n",
       "            observer.disconnect();\n",
       "        }}\n",
       "}});\n",
       "\n",
       "// Listen for the removal of the full notebook cells\n",
       "var notebookContainer = gd.closest('#notebook-container');\n",
       "if (notebookContainer) {{\n",
       "    x.observe(notebookContainer, {childList: true});\n",
       "}}\n",
       "\n",
       "// Listen for the clearing of the current output cell\n",
       "var outputEl = gd.closest('.output');\n",
       "if (outputEl) {{\n",
       "    x.observe(outputEl, {childList: true});\n",
       "}}\n",
       "\n",
       "                        })                };                });            </script>        </div>"
      ]
     },
     "metadata": {},
     "output_type": "display_data"
    }
   ],
   "source": [
    "df.count().iplot(kind='bar')"
   ]
  },
  {
   "cell_type": "markdown",
   "metadata": {},
   "source": [
    "# Status count"
   ]
  },
  {
   "cell_type": "code",
   "execution_count": 8,
   "metadata": {},
   "outputs": [
    {
     "data": {
      "text/plain": [
       "<AxesSubplot:xlabel='Status', ylabel='count'>"
      ]
     },
     "execution_count": 8,
     "metadata": {},
     "output_type": "execute_result"
    },
    {
     "data": {
      "image/png": "[encoded data removed]",
      "text/plain": [
       "<Figure size 2000x600 with 1 Axes>"
      ]
     },
     "metadata": {
      "needs_background": "light"
     },
     "output_type": "display_data"
    }
   ],
   "source": [
    "fig = plt.figure(figsize=(20,6), dpi=100)\n",
    "sns.countplot(x='Status',data=df)"
   ]
  },
  {
   "cell_type": "markdown",
   "metadata": {},
   "source": [
    "# Sales agent count"
   ]
  },
  {
   "cell_type": "code",
   "execution_count": 9,
   "metadata": {},
   "outputs": [
    {
     "data": {
      "text/plain": [
       "<AxesSubplot:xlabel='Sales_Agent', ylabel='count'>"
      ]
     },
     "execution_count": 9,
     "metadata": {},
     "output_type": "execute_result"
    },
    {
     "data": {
      "image/png": "[encoded data removed]",
      "text/plain": [
       "<Figure size 2000x600 with 1 Axes>"
      ]
     },
     "metadata": {
      "needs_background": "light"
     },
     "output_type": "display_data"
    }
   ],
   "source": [
    "fig = plt.figure(figsize=(20,6), dpi=100)\n",
    "sns.countplot(x='Sales_Agent',data=df)"
   ]
  },
  {
   "cell_type": "markdown",
   "metadata": {},
   "source": [
    "# Location count"
   ]
  },
  {
   "cell_type": "code",
   "execution_count": 10,
   "metadata": {},
   "outputs": [
    {
     "data": {
      "text/plain": [
       "<AxesSubplot:xlabel='Location', ylabel='count'>"
      ]
     },
     "execution_count": 10,
     "metadata": {},
     "output_type": "execute_result"
    },
    {
     "data": {
      "image/png": "[encoded data removed]",
      "text/plain": [
       "<Figure size 2000x600 with 1 Axes>"
      ]
     },
     "metadata": {
      "needs_background": "light"
     },
     "output_type": "display_data"
    }
   ],
   "source": [
    "fig = plt.figure(figsize=(20,6), dpi=100)\n",
    "sns.countplot(x='Location',data=df)"
   ]
  },
  {
   "cell_type": "markdown",
   "metadata": {},
   "source": [
    "# Source count"
   ]
  },
  {
   "cell_type": "code",
   "execution_count": 11,
   "metadata": {},
   "outputs": [
    {
     "data": {
      "text/plain": [
       "<AxesSubplot:xlabel='Source', ylabel='count'>"
      ]
     },
     "execution_count": 11,
     "metadata": {},
     "output_type": "execute_result"
    },
    {
     "data": {
      "image/png": "[encoded data removed]",
      "text/plain": [
       "<Figure size 6000x3000 with 1 Axes>"
      ]
     },
     "metadata": {
      "needs_background": "light"
     },
     "output_type": "display_data"
    }
   ],
   "source": [
    "fig = plt.figure(figsize=(60,30), dpi=100)\n",
    "sns.countplot(x='Source',data=df)"
   ]
  },
  {
   "cell_type": "markdown",
   "metadata": {},
   "source": [
    "# Delivery mode distribution"
   ]
  },
  {
   "cell_type": "code",
   "execution_count": 12,
   "metadata": {},
   "outputs": [
    {
     "data": {
      "text/plain": [
       "<Figure size 2000x2000 with 0 Axes>"
      ]
     },
     "metadata": {},
     "output_type": "display_data"
    },
    {
     "data": {
      "image/png": "[encoded data removed]",
      "text/plain": [
       "<Figure size 576x576 with 1 Axes>"
      ]
     },
     "metadata": {},
     "output_type": "display_data"
    }
   ],
   "source": [
    "data = df.groupby(\"Delivery_Mode\")[\"Status\"].count()\n",
    "data\n",
    "\n",
    "fig = plt.figure(figsize=(20,20), dpi=100)\n",
    "\n",
    "sizes = [2627, 11, 1688, 121, 2975]\n",
    "labels = 'Mode-1', 'Mode-2', 'Mode-3', 'Mode-4','Mode-5'\n",
    "explode = (0.05, 0, 0, 0, 0.1)\n",
    "\n",
    "fig1, ax1 = plt.subplots()\n",
    "ax1.pie(sizes, explode=explode, labels=labels, autopct='%1.1f%%',\n",
    "        shadow=True, startangle=90)\n",
    "ax1.legend(title=\"Delivery-Modes\",\n",
    "          loc=\"center left\",\n",
    "          bbox_to_anchor=(1, 0, 0.5, 1))\n",
    "fig1.set_size_inches(8, 8)\n",
    "\n",
    "\n",
    "plt.show()"
   ]
  },
  {
   "cell_type": "markdown",
   "metadata": {},
   "source": [
    "# Dealing with null values"
   ]
  },
  {
   "cell_type": "code",
   "execution_count": 21,
   "metadata": {},
   "outputs": [
    {
     "data": {
      "text/plain": [
       "Created             0\n",
       "Product_ID         58\n",
       "Source             17\n",
       "Mobile           1810\n",
       "EMAIL               0\n",
       "Sales_Agent        23\n",
       "Location           58\n",
       "Delivery_Mode       0\n",
       "Status              0\n",
       "dtype: int64"
      ]
     },
     "execution_count": 21,
     "metadata": {},
     "output_type": "execute_result"
    }
   ],
   "source": [
    "df.isnull().sum()"
   ]
  },
  {
   "cell_type": "code",
   "execution_count": 22,
   "metadata": {},
   "outputs": [],
   "source": [
    "cateogry_columns=df.select_dtypes(include=['object']).columns.tolist()\n",
    "integer_columns=df.select_dtypes(include=['int64','float64']).columns.tolist()\n",
    "\n",
    "for column in df:\n",
    "    if df[column].isnull().any():\n",
    "        if(column in cateogry_columns):\n",
    "            df[column]=df[column].fillna(df[column].mode()[0])\n",
    "        else:\n",
    "            df[column]=df[column].fillna(df[column].mean)"
   ]
  },
  {
   "cell_type": "code",
   "execution_count": 23,
   "metadata": {},
   "outputs": [
    {
     "data": {
      "text/plain": [
       "Created          0\n",
       "Product_ID       0\n",
       "Source           0\n",
       "Mobile           0\n",
       "EMAIL            0\n",
       "Sales_Agent      0\n",
       "Location         0\n",
       "Delivery_Mode    0\n",
       "Status           0\n",
       "dtype: int64"
      ]
     },
     "execution_count": 23,
     "metadata": {},
     "output_type": "execute_result"
    }
   ],
   "source": [
    "df.isnull().sum()"
   ]
  },
  {
   "cell_type": "markdown",
   "metadata": {},
   "source": [
    "# Grouping the status"
   ]
  },
  {
   "cell_type": "code",
   "execution_count": 28,
   "metadata": {},
   "outputs": [
    {
     "data": {
      "text/plain": [
       "array(['Open', 'Potential', 'In Progress Positive', 'Not Responding',\n",
       "       'Just Enquiry', 'Junk Lead', 'CONVERTED', 'In Progress Negative',\n",
       "       'LOST', 'Long Term', 'converted'], dtype=object)"
      ]
     },
     "execution_count": 28,
     "metadata": {},
     "output_type": "execute_result"
    }
   ],
   "source": [
    "df.Status.unique()"
   ]
  },
  {
   "cell_type": "code",
   "execution_count": 24,
   "metadata": {},
   "outputs": [],
   "source": [
    "Final_status= []\n",
    "for i in df[\"Status\"]:\n",
    "    if (i == 'Open' ) or (i == 'Just Enquiry') or (i == 'In Progress Negative') or (i == 'Not Responding') or (i== 'Junk Lead') or (i =='LOST') :\n",
    "        Final_status.append(\"Low Potential\")\n",
    "    else:\n",
    "        Final_status.append(\"High Potential\") "
   ]
  },
  {
   "cell_type": "code",
   "execution_count": 25,
   "metadata": {},
   "outputs": [],
   "source": [
    "df['Final_status'] = Final_status"
   ]
  },
  {
   "cell_type": "code",
   "execution_count": 26,
   "metadata": {},
   "outputs": [
    {
     "data": {
      "text/plain": [
       "array(['Low Potential', 'High Potential'], dtype=object)"
      ]
     },
     "execution_count": 26,
     "metadata": {},
     "output_type": "execute_result"
    }
   ],
   "source": [
    "df.Final_status.unique()"
   ]
  },
  {
   "cell_type": "code",
   "execution_count": 38,
   "metadata": {},
   "outputs": [
    {
     "data": {
      "text/plain": [
       "<AxesSubplot:xlabel='Final_status', ylabel='count'>"
      ]
     },
     "execution_count": 38,
     "metadata": {},
     "output_type": "execute_result"
    },
    {
     "data": {
      "image/png": "[encoded data removed]",
      "text/plain": [
       "<Figure size 500x500 with 1 Axes>"
      ]
     },
     "metadata": {
      "needs_background": "light"
     },
     "output_type": "display_data"
    }
   ],
   "source": [
    "fig = plt.figure(figsize=(5,5), dpi=100)\n",
    "sns.countplot(x='Final_status', data=df,linewidth=5,edgecolor=sns.color_palette(\"dark\", 3))"
   ]
  },
  {
   "cell_type": "markdown",
   "metadata": {},
   "source": [
    "# Grouping the source"
   ]
  },
  {
   "cell_type": "code",
   "execution_count": 30,
   "metadata": {},
   "outputs": [
    {
     "data": {
      "text/plain": [
       "array(['Website', 'Call', 'Live Chat-Google Organic', 'Live Chat-Direct',\n",
       "       'By Recommendation', 'Customer Referral', 'Live Chat-Blog',\n",
       "       'Live Chat -PPC', 'Live Chat-Google Ads',\n",
       "       'Live Chat-Adwords Remarketing', 'E-Mail Message',\n",
       "       'Existing Client', 'Live Chat-CPC', 'Existing Customer',\n",
       "       'Live Chat-Quora', 'US Website', 'Just Dial', 'Campaign', 'Other',\n",
       "       'E-mail Campaign', 'CRM form', 'SMS Campaign', 'Personal Contact',\n",
       "       'Live Chat-Youtube', 'Live Chat-Justdial'], dtype=object)"
      ]
     },
     "execution_count": 30,
     "metadata": {},
     "output_type": "execute_result"
    }
   ],
   "source": [
    "df.Source.unique()"
   ]
  },
  {
   "cell_type": "code",
   "execution_count": 31,
   "metadata": {},
   "outputs": [],
   "source": [
    "Final_source= []\n",
    "for i in df[\"Source\"]:\n",
    "    if (i == 'Website' ) or (i == 'US Website') :\n",
    "        Final_source.append(\"Website\")\n",
    "    elif (i == 'E-mail Campaign') or (i== 'E-Mail Message'):\n",
    "        Final_source.append(\"E-mail\")\n",
    "    elif (i == 'Call'):\n",
    "        Final_source.append(\"Call\")\n",
    "    elif (i == 'Live Chat-Direct') or (i== 'Live Chat-Blog') or (i == 'Live Chat -PPC') or (i== 'Live Chat-Google Ads') or (i== 'Live Chat-Adwords Remarketing') or (i== 'Live Chat-Google Organic') or (i =='Live Chat-CPC') or (i== 'Live Chat-Quora') or (i =='Live Chat-Youtube') or (i =='Live Chat-Justdial') or (i=='Just Dial'):\n",
    "        Final_source.append(\"Live Chat\")  \n",
    "    elif (i == 'By Recommendation') or (i== 'Customer Referral'):\n",
    "        Final_source.append(\"Recommendation\")  \n",
    "    elif (i == 'Existing Client') or (i== 'Existing Customer'):\n",
    "        Final_source.append(\"Existing Customer\")\n",
    "    elif (i == 'Campaign'):\n",
    "        Final_source.append(\"Campaign\")\n",
    "    elif (i == 'Other'):\n",
    "        Final_source.append(\"Other\")\n",
    "    elif (i == 'CRM form'):\n",
    "        Final_source.append(\"CRM form\")\n",
    "    elif (i == 'SMS Campaign'):\n",
    "        Final_source.append(\"SMS Campaign\")\n",
    "    else:\n",
    "        Final_source.append(\"Personal Contact\")"
   ]
  },
  {
   "cell_type": "code",
   "execution_count": 32,
   "metadata": {},
   "outputs": [],
   "source": [
    "df['Final_source'] = Final_source"
   ]
  },
  {
   "cell_type": "code",
   "execution_count": 33,
   "metadata": {},
   "outputs": [
    {
     "data": {
      "text/plain": [
       "array(['Website', 'Call', 'Live Chat', 'Recommendation', 'E-mail',\n",
       "       'Existing Customer', 'Campaign', 'Other', 'CRM form',\n",
       "       'SMS Campaign', 'Personal Contact'], dtype=object)"
      ]
     },
     "execution_count": 33,
     "metadata": {},
     "output_type": "execute_result"
    }
   ],
   "source": [
    "df['Final_source'].unique()"
   ]
  },
  {
   "cell_type": "code",
   "execution_count": 43,
   "metadata": {},
   "outputs": [
    {
     "data": {
      "text/plain": [
       "<AxesSubplot:xlabel='Final_source', ylabel='count'>"
      ]
     },
     "execution_count": 43,
     "metadata": {},
     "output_type": "execute_result"
    },
    {
     "data": {
      "image/png": "[encoded data removed]",
      "text/plain": [
       "<Figure size 2000x500 with 1 Axes>"
      ]
     },
     "metadata": {
      "needs_background": "light"
     },
     "output_type": "display_data"
    }
   ],
   "source": [
    "fig = plt.figure(figsize=(20,5), dpi=100)\n",
    "sns.countplot(x='Final_source', data=df,linewidth=5,edgecolor=sns.color_palette(\"dark\", 3))"
   ]
  },
  {
   "cell_type": "markdown",
   "metadata": {},
   "source": [
    "# Grouping the Location"
   ]
  },
  {
   "cell_type": "code",
   "execution_count": 34,
   "metadata": {},
   "outputs": [
    {
     "data": {
      "text/plain": [
       "array(['Other Locations', 'Bangalore', 'UAE', 'Trivandrum', 'Hyderabad',\n",
       "       'Chennai', 'UK', 'USA', 'Delhi', 'Mumbai', 'Kolkata', 'Singapore',\n",
       "       'Pune', 'AUSTRALIA', 'EUROPE', 'Malaysia', 'Howrah'], dtype=object)"
      ]
     },
     "execution_count": 34,
     "metadata": {},
     "output_type": "execute_result"
    }
   ],
   "source": [
    "df.Location.unique()"
   ]
  },
  {
   "cell_type": "code",
   "execution_count": 35,
   "metadata": {},
   "outputs": [],
   "source": [
    "Final_location= []\n",
    "for i in df[\"Location\"]:\n",
    "    if (i == 'Bangalore' ) or (i == 'Trivandrum') or (i == 'Hyderabad') or (i == 'Chennai') or (i == 'Howrah') or (i == 'Kolkata') :\n",
    "        Final_location.append(\"South India\")\n",
    "    elif (i == 'UAE') or (i== 'Singapore') or (i== 'Malaysia'):\n",
    "        Final_location.append(\"Asia\")\n",
    "    elif (i == 'Other Locations'):\n",
    "        Final_location.append(\"Other Locations\")\n",
    "    elif (i == 'Delhi') or (i== 'Mumbai') or (i == 'Pune'):\n",
    "        Final_location.append(\"North India\")  \n",
    "    elif (i == 'EUROPE') or (i== 'UK'):\n",
    "        Final_location.append(\"EUROPE\")  \n",
    "    elif (i == 'USA'):\n",
    "        Final_location.append(\"USA\")\n",
    "    else:\n",
    "        Final_location.append(\"AUSTRALIA\")"
   ]
  },
  {
   "cell_type": "code",
   "execution_count": 36,
   "metadata": {},
   "outputs": [],
   "source": [
    "df['Final_location'] = Final_location"
   ]
  },
  {
   "cell_type": "code",
   "execution_count": 45,
   "metadata": {},
   "outputs": [
    {
     "data": {
      "text/plain": [
       "<AxesSubplot:xlabel='Final_location', ylabel='count'>"
      ]
     },
     "execution_count": 45,
     "metadata": {},
     "output_type": "execute_result"
    },
    {
     "data": {
      "image/png": "[encoded data removed]",
      "text/plain": [
       "<Figure size 1000x500 with 1 Axes>"
      ]
     },
     "metadata": {
      "needs_background": "light"
     },
     "output_type": "display_data"
    }
   ],
   "source": [
    "fig = plt.figure(figsize=(10,5), dpi=100)\n",
    "sns.countplot(x='Final_location', data=df,linewidth=5,edgecolor=sns.color_palette(\"dark\", 3))"
   ]
  },
  {
   "cell_type": "markdown",
   "metadata": {},
   "source": [
    "# Creating the final data frame for modeling"
   ]
  },
  {
   "cell_type": "markdown",
   "metadata": {},
   "source": [
    "## Removing 5 fields as they are no use for modeling (Created,Product_ID,Mobile,EMAIL,Status)"
   ]
  },
  {
   "cell_type": "code",
   "execution_count": 47,
   "metadata": {},
   "outputs": [],
   "source": [
    "df_final=df[['Final_source', 'Sales_Agent','Delivery_Mode', 'Final_status','Final_location']]"
   ]
  },
  {
   "cell_type": "code",
   "execution_count": 48,
   "metadata": {},
   "outputs": [
    {
     "data": {
      "text/html": [
       "<div>\n",
       "<style scoped>\n",
       "    .dataframe tbody tr th:only-of-type {\n",
       "        vertical-align: middle;\n",
       "    }\n",
       "\n",
       "    .dataframe tbody tr th {\n",
       "        vertical-align: top;\n",
       "    }\n",
       "\n",
       "    .dataframe thead th {\n",
       "        text-align: right;\n",
       "    }\n",
       "</style>\n",
       "<table border=\"1\" class=\"dataframe\">\n",
       "  <thead>\n",
       "    <tr style=\"text-align: right;\">\n",
       "      <th></th>\n",
       "      <th>Final_source</th>\n",
       "      <th>Sales_Agent</th>\n",
       "      <th>Delivery_Mode</th>\n",
       "      <th>Final_status</th>\n",
       "      <th>Final_location</th>\n",
       "    </tr>\n",
       "  </thead>\n",
       "  <tbody>\n",
       "    <tr>\n",
       "      <th>0</th>\n",
       "      <td>Website</td>\n",
       "      <td>Sales-Agent-11</td>\n",
       "      <td>Mode-5</td>\n",
       "      <td>Low Potential</td>\n",
       "      <td>Other Locations</td>\n",
       "    </tr>\n",
       "    <tr>\n",
       "      <th>1</th>\n",
       "      <td>Website</td>\n",
       "      <td>Sales-Agent-10</td>\n",
       "      <td>Mode-5</td>\n",
       "      <td>Low Potential</td>\n",
       "      <td>Other Locations</td>\n",
       "    </tr>\n",
       "    <tr>\n",
       "      <th>2</th>\n",
       "      <td>Website</td>\n",
       "      <td>Sales-Agent-10</td>\n",
       "      <td>Mode-5</td>\n",
       "      <td>Low Potential</td>\n",
       "      <td>Other Locations</td>\n",
       "    </tr>\n",
       "    <tr>\n",
       "      <th>3</th>\n",
       "      <td>Website</td>\n",
       "      <td>Sales-Agent-10</td>\n",
       "      <td>Mode-5</td>\n",
       "      <td>Low Potential</td>\n",
       "      <td>Other Locations</td>\n",
       "    </tr>\n",
       "    <tr>\n",
       "      <th>4</th>\n",
       "      <td>Website</td>\n",
       "      <td>Sales-Agent-10</td>\n",
       "      <td>Mode-5</td>\n",
       "      <td>Low Potential</td>\n",
       "      <td>Other Locations</td>\n",
       "    </tr>\n",
       "  </tbody>\n",
       "</table>\n",
       "</div>"
      ],
      "text/plain": [
       "  Final_source     Sales_Agent Delivery_Mode   Final_status   Final_location\n",
       "0      Website  Sales-Agent-11        Mode-5  Low Potential  Other Locations\n",
       "1      Website  Sales-Agent-10        Mode-5  Low Potential  Other Locations\n",
       "2      Website  Sales-Agent-10        Mode-5  Low Potential  Other Locations\n",
       "3      Website  Sales-Agent-10        Mode-5  Low Potential  Other Locations\n",
       "4      Website  Sales-Agent-10        Mode-5  Low Potential  Other Locations"
      ]
     },
     "execution_count": 48,
     "metadata": {},
     "output_type": "execute_result"
    }
   ],
   "source": [
    "df_final.head()"
   ]
  },
  {
   "cell_type": "markdown",
   "metadata": {},
   "source": [
    "# One hot encoding"
   ]
  },
  {
   "cell_type": "markdown",
   "metadata": {},
   "source": [
    "### One hot encoding is a process by which categorical variables are converted into a form that could be provided to ML algorithms to do a better job in prediction."
   ]
  },
  {
   "cell_type": "code",
   "execution_count": 57,
   "metadata": {},
   "outputs": [],
   "source": [
    "import category_encoders as ce\n",
    "#Create object for one-hot encoding\n",
    "encoder=ce.OneHotEncoder(cols='Final_source',handle_unknown='return_nan',return_df=True,use_cat_names=True)\n",
    "#Fit and transform Data\n",
    "source_encoded = encoder.fit_transform(df_final)\n",
    "#Create object for one-hot encoding\n",
    "encoder=ce.OneHotEncoder(cols='Sales_Agent',handle_unknown='return_nan',return_df=True,use_cat_names=True)\n",
    "#Fit and transform Data\n",
    "agent_encoded = encoder.fit_transform(source_encoded)\n",
    "encoder=ce.OneHotEncoder(cols='Delivery_Mode',handle_unknown='return_nan',return_df=True,use_cat_names=True)\n",
    "#Fit and transform Data\n",
    "mode_encoded = encoder.fit_transform(agent_encoded)\n",
    "#Create object for one-hot encoding\n",
    "encoder=ce.OneHotEncoder(cols='Final_location',handle_unknown='return_nan',return_df=True,use_cat_names=True)\n",
    "#Fit and transform Data\n",
    "df_final1 = encoder.fit_transform(mode_encoded)"
   ]
  },
  {
   "cell_type": "code",
   "execution_count": 59,
   "metadata": {},
   "outputs": [
    {
     "data": {
      "text/html": [
       "<div>\n",
       "<style scoped>\n",
       "    .dataframe tbody tr th:only-of-type {\n",
       "        vertical-align: middle;\n",
       "    }\n",
       "\n",
       "    .dataframe tbody tr th {\n",
       "        vertical-align: top;\n",
       "    }\n",
       "\n",
       "    .dataframe thead th {\n",
       "        text-align: right;\n",
       "    }\n",
       "</style>\n",
       "<table border=\"1\" class=\"dataframe\">\n",
       "  <thead>\n",
       "    <tr style=\"text-align: right;\">\n",
       "      <th></th>\n",
       "      <th>Final_source_Website</th>\n",
       "      <th>Final_source_Call</th>\n",
       "      <th>Final_source_Live Chat</th>\n",
       "      <th>Final_source_Recommendation</th>\n",
       "      <th>Final_source_E-mail</th>\n",
       "      <th>Final_source_Existing Customer</th>\n",
       "      <th>Final_source_Campaign</th>\n",
       "      <th>Final_source_Other</th>\n",
       "      <th>Final_source_CRM form</th>\n",
       "      <th>Final_source_SMS Campaign</th>\n",
       "      <th>...</th>\n",
       "      <th>Delivery_Mode_Mode-2</th>\n",
       "      <th>Delivery_Mode_Mode-4</th>\n",
       "      <th>Final_status</th>\n",
       "      <th>Final_location_Other Locations</th>\n",
       "      <th>Final_location_South India</th>\n",
       "      <th>Final_location_Asia</th>\n",
       "      <th>Final_location_EUROPE</th>\n",
       "      <th>Final_location_USA</th>\n",
       "      <th>Final_location_North India</th>\n",
       "      <th>Final_location_AUSTRALIA</th>\n",
       "    </tr>\n",
       "  </thead>\n",
       "  <tbody>\n",
       "    <tr>\n",
       "      <th>0</th>\n",
       "      <td>1.0</td>\n",
       "      <td>0.0</td>\n",
       "      <td>0.0</td>\n",
       "      <td>0.0</td>\n",
       "      <td>0.0</td>\n",
       "      <td>0.0</td>\n",
       "      <td>0.0</td>\n",
       "      <td>0.0</td>\n",
       "      <td>0.0</td>\n",
       "      <td>0.0</td>\n",
       "      <td>...</td>\n",
       "      <td>0.0</td>\n",
       "      <td>0.0</td>\n",
       "      <td>Low Potential</td>\n",
       "      <td>1.0</td>\n",
       "      <td>0.0</td>\n",
       "      <td>0.0</td>\n",
       "      <td>0.0</td>\n",
       "      <td>0.0</td>\n",
       "      <td>0.0</td>\n",
       "      <td>0.0</td>\n",
       "    </tr>\n",
       "    <tr>\n",
       "      <th>1</th>\n",
       "      <td>1.0</td>\n",
       "      <td>0.0</td>\n",
       "      <td>0.0</td>\n",
       "      <td>0.0</td>\n",
       "      <td>0.0</td>\n",
       "      <td>0.0</td>\n",
       "      <td>0.0</td>\n",
       "      <td>0.0</td>\n",
       "      <td>0.0</td>\n",
       "      <td>0.0</td>\n",
       "      <td>...</td>\n",
       "      <td>0.0</td>\n",
       "      <td>0.0</td>\n",
       "      <td>Low Potential</td>\n",
       "      <td>1.0</td>\n",
       "      <td>0.0</td>\n",
       "      <td>0.0</td>\n",
       "      <td>0.0</td>\n",
       "      <td>0.0</td>\n",
       "      <td>0.0</td>\n",
       "      <td>0.0</td>\n",
       "    </tr>\n",
       "    <tr>\n",
       "      <th>2</th>\n",
       "      <td>1.0</td>\n",
       "      <td>0.0</td>\n",
       "      <td>0.0</td>\n",
       "      <td>0.0</td>\n",
       "      <td>0.0</td>\n",
       "      <td>0.0</td>\n",
       "      <td>0.0</td>\n",
       "      <td>0.0</td>\n",
       "      <td>0.0</td>\n",
       "      <td>0.0</td>\n",
       "      <td>...</td>\n",
       "      <td>0.0</td>\n",
       "      <td>0.0</td>\n",
       "      <td>Low Potential</td>\n",
       "      <td>1.0</td>\n",
       "      <td>0.0</td>\n",
       "      <td>0.0</td>\n",
       "      <td>0.0</td>\n",
       "      <td>0.0</td>\n",
       "      <td>0.0</td>\n",
       "      <td>0.0</td>\n",
       "    </tr>\n",
       "    <tr>\n",
       "      <th>3</th>\n",
       "      <td>1.0</td>\n",
       "      <td>0.0</td>\n",
       "      <td>0.0</td>\n",
       "      <td>0.0</td>\n",
       "      <td>0.0</td>\n",
       "      <td>0.0</td>\n",
       "      <td>0.0</td>\n",
       "      <td>0.0</td>\n",
       "      <td>0.0</td>\n",
       "      <td>0.0</td>\n",
       "      <td>...</td>\n",
       "      <td>0.0</td>\n",
       "      <td>0.0</td>\n",
       "      <td>Low Potential</td>\n",
       "      <td>1.0</td>\n",
       "      <td>0.0</td>\n",
       "      <td>0.0</td>\n",
       "      <td>0.0</td>\n",
       "      <td>0.0</td>\n",
       "      <td>0.0</td>\n",
       "      <td>0.0</td>\n",
       "    </tr>\n",
       "    <tr>\n",
       "      <th>4</th>\n",
       "      <td>1.0</td>\n",
       "      <td>0.0</td>\n",
       "      <td>0.0</td>\n",
       "      <td>0.0</td>\n",
       "      <td>0.0</td>\n",
       "      <td>0.0</td>\n",
       "      <td>0.0</td>\n",
       "      <td>0.0</td>\n",
       "      <td>0.0</td>\n",
       "      <td>0.0</td>\n",
       "      <td>...</td>\n",
       "      <td>0.0</td>\n",
       "      <td>0.0</td>\n",
       "      <td>Low Potential</td>\n",
       "      <td>1.0</td>\n",
       "      <td>0.0</td>\n",
       "      <td>0.0</td>\n",
       "      <td>0.0</td>\n",
       "      <td>0.0</td>\n",
       "      <td>0.0</td>\n",
       "      <td>0.0</td>\n",
       "    </tr>\n",
       "  </tbody>\n",
       "</table>\n",
       "<p>5 rows × 36 columns</p>\n",
       "</div>"
      ],
      "text/plain": [
       "   Final_source_Website  Final_source_Call  Final_source_Live Chat  \\\n",
       "0                   1.0                0.0                     0.0   \n",
       "1                   1.0                0.0                     0.0   \n",
       "2                   1.0                0.0                     0.0   \n",
       "3                   1.0                0.0                     0.0   \n",
       "4                   1.0                0.0                     0.0   \n",
       "\n",
       "   Final_source_Recommendation  Final_source_E-mail  \\\n",
       "0                          0.0                  0.0   \n",
       "1                          0.0                  0.0   \n",
       "2                          0.0                  0.0   \n",
       "3                          0.0                  0.0   \n",
       "4                          0.0                  0.0   \n",
       "\n",
       "   Final_source_Existing Customer  Final_source_Campaign  Final_source_Other  \\\n",
       "0                             0.0                    0.0                 0.0   \n",
       "1                             0.0                    0.0                 0.0   \n",
       "2                             0.0                    0.0                 0.0   \n",
       "3                             0.0                    0.0                 0.0   \n",
       "4                             0.0                    0.0                 0.0   \n",
       "\n",
       "   Final_source_CRM form  Final_source_SMS Campaign  ...  \\\n",
       "0                    0.0                        0.0  ...   \n",
       "1                    0.0                        0.0  ...   \n",
       "2                    0.0                        0.0  ...   \n",
       "3                    0.0                        0.0  ...   \n",
       "4                    0.0                        0.0  ...   \n",
       "\n",
       "   Delivery_Mode_Mode-2  Delivery_Mode_Mode-4   Final_status  \\\n",
       "0                   0.0                   0.0  Low Potential   \n",
       "1                   0.0                   0.0  Low Potential   \n",
       "2                   0.0                   0.0  Low Potential   \n",
       "3                   0.0                   0.0  Low Potential   \n",
       "4                   0.0                   0.0  Low Potential   \n",
       "\n",
       "   Final_location_Other Locations  Final_location_South India  \\\n",
       "0                             1.0                         0.0   \n",
       "1                             1.0                         0.0   \n",
       "2                             1.0                         0.0   \n",
       "3                             1.0                         0.0   \n",
       "4                             1.0                         0.0   \n",
       "\n",
       "   Final_location_Asia  Final_location_EUROPE  Final_location_USA  \\\n",
       "0                  0.0                    0.0                 0.0   \n",
       "1                  0.0                    0.0                 0.0   \n",
       "2                  0.0                    0.0                 0.0   \n",
       "3                  0.0                    0.0                 0.0   \n",
       "4                  0.0                    0.0                 0.0   \n",
       "\n",
       "   Final_location_North India  Final_location_AUSTRALIA  \n",
       "0                         0.0                       0.0  \n",
       "1                         0.0                       0.0  \n",
       "2                         0.0                       0.0  \n",
       "3                         0.0                       0.0  \n",
       "4                         0.0                       0.0  \n",
       "\n",
       "[5 rows x 36 columns]"
      ]
     },
     "execution_count": 59,
     "metadata": {},
     "output_type": "execute_result"
    }
   ],
   "source": [
    "df_final1.head()"
   ]
  },
  {
   "cell_type": "code",
   "execution_count": 61,
   "metadata": {},
   "outputs": [
    {
     "data": {
      "text/plain": [
       "Index(['Final_source_Website', 'Final_source_Call', 'Final_source_Live Chat',\n",
       "       'Final_source_Recommendation', 'Final_source_E-mail',\n",
       "       'Final_source_Existing Customer', 'Final_source_Campaign',\n",
       "       'Final_source_Other', 'Final_source_CRM form',\n",
       "       'Final_source_SMS Campaign', 'Final_source_Personal Contact',\n",
       "       'Sales_Agent_Sales-Agent-11', 'Sales_Agent_Sales-Agent-10',\n",
       "       'Sales_Agent_Sales-Agent-3', 'Sales_Agent_Sales-Agent-4',\n",
       "       'Sales_Agent_Sales-Agent-9', 'Sales_Agent_Sales-Agent-7',\n",
       "       'Sales_Agent_Sales-Agent-8', 'Sales_Agent_Sales-Agent-5',\n",
       "       'Sales_Agent_Sales-Agent-2', 'Sales_Agent_Sales-Agent-12',\n",
       "       'Sales_Agent_Sales-Agent-1', 'Sales_Agent_Sales-Agent-6',\n",
       "       'Delivery_Mode_Mode-5', 'Delivery_Mode_Mode-1', 'Delivery_Mode_Mode-3',\n",
       "       'Delivery_Mode_Mode-2', 'Delivery_Mode_Mode-4', 'Final_status',\n",
       "       'Final_location_Other Locations', 'Final_location_South India',\n",
       "       'Final_location_Asia', 'Final_location_EUROPE', 'Final_location_USA',\n",
       "       'Final_location_North India', 'Final_location_AUSTRALIA'],\n",
       "      dtype='object')"
      ]
     },
     "execution_count": 61,
     "metadata": {},
     "output_type": "execute_result"
    }
   ],
   "source": [
    "df_final1.columns"
   ]
  },
  {
   "cell_type": "markdown",
   "metadata": {},
   "source": [
    "# Splitting data into features and targets"
   ]
  },
  {
   "cell_type": "code",
   "execution_count": 62,
   "metadata": {},
   "outputs": [],
   "source": [
    "X=df_final1[['Final_source_Website', 'Final_source_Call', 'Final_source_Live Chat',\n",
    "       'Final_source_Recommendation', 'Final_source_E-mail',\n",
    "       'Final_source_Existing Customer', 'Final_source_Campaign',\n",
    "       'Final_source_Other', 'Final_source_CRM form',\n",
    "       'Final_source_SMS Campaign', 'Final_source_Personal Contact',\n",
    "       'Sales_Agent_Sales-Agent-11', 'Sales_Agent_Sales-Agent-10',\n",
    "       'Sales_Agent_Sales-Agent-3', 'Sales_Agent_Sales-Agent-4',\n",
    "       'Sales_Agent_Sales-Agent-9', 'Sales_Agent_Sales-Agent-7',\n",
    "       'Sales_Agent_Sales-Agent-8', 'Sales_Agent_Sales-Agent-5',\n",
    "       'Sales_Agent_Sales-Agent-2', 'Sales_Agent_Sales-Agent-12',\n",
    "       'Sales_Agent_Sales-Agent-1', 'Sales_Agent_Sales-Agent-6',\n",
    "       'Delivery_Mode_Mode-5', 'Delivery_Mode_Mode-1', 'Delivery_Mode_Mode-3',\n",
    "       'Delivery_Mode_Mode-2', 'Delivery_Mode_Mode-4',\n",
    "       'Final_location_Other Locations', 'Final_location_South India',\n",
    "       'Final_location_Asia', 'Final_location_EUROPE', 'Final_location_USA',\n",
    "       'Final_location_North India', 'Final_location_AUSTRALIA']]\n",
    "y=df_final1['Final_status']"
   ]
  },
  {
   "cell_type": "markdown",
   "metadata": {},
   "source": [
    "# Splitting the data into train test split"
   ]
  },
  {
   "cell_type": "code",
   "execution_count": 63,
   "metadata": {},
   "outputs": [],
   "source": [
    "from sklearn.model_selection import train_test_split\n",
    "X_train,X_test,y_train,y_test=train_test_split(X,y,test_size=0.2,random_state=15)"
   ]
  },
  {
   "cell_type": "code",
   "execution_count": 64,
   "metadata": {},
   "outputs": [
    {
     "data": {
      "text/plain": [
       "Low Potential     3647\n",
       "High Potential    2290\n",
       "Name: Final_status, dtype: int64"
      ]
     },
     "execution_count": 64,
     "metadata": {},
     "output_type": "execute_result"
    }
   ],
   "source": [
    "y_train.value_counts()"
   ]
  },
  {
   "cell_type": "code",
   "execution_count": 65,
   "metadata": {},
   "outputs": [
    {
     "data": {
      "text/plain": [
       "<AxesSubplot:xlabel='Final_status', ylabel='count'>"
      ]
     },
     "execution_count": 65,
     "metadata": {},
     "output_type": "execute_result"
    },
    {
     "data": {
      "image/png": "[encoded data removed]",
      "text/plain": [
       "<Figure size 500x500 with 1 Axes>"
      ]
     },
     "metadata": {
      "needs_background": "light"
     },
     "output_type": "display_data"
    }
   ],
   "source": [
    "fig = plt.figure(figsize=(5,5), dpi=100)\n",
    "sns.countplot(x='Final_status', data=df,linewidth=5,edgecolor=sns.color_palette(\"dark\", 3))"
   ]
  },
  {
   "cell_type": "markdown",
   "metadata": {},
   "source": [
    "## As we can see above clearly that the tatget is imbalanced so we need to balance the target."
   ]
  },
  {
   "cell_type": "code",
   "execution_count": 69,
   "metadata": {},
   "outputs": [],
   "source": [
    "high= df_final1[df_final1[\"Final_status\"]==\"High Potential\"]\n",
    "low= df_final1[df_final1[\"Final_status\"]==\"Low Potential\"]"
   ]
  },
  {
   "cell_type": "code",
   "execution_count": 71,
   "metadata": {},
   "outputs": [],
   "source": [
    "def train_batch(high,low,start_l,end_l):\n",
    "    df_train=pd.concat([low[start_l:end_l],high],axis=0)\n",
    "    \n",
    "    \n",
    "    X=df_train[['Final_source_Website', 'Final_source_Call', 'Final_source_Live Chat',\n",
    "       'Final_source_Recommendation', 'Final_source_E-mail',\n",
    "       'Final_source_Existing Customer', 'Final_source_Campaign',\n",
    "       'Final_source_Other', 'Final_source_CRM form',\n",
    "       'Final_source_SMS Campaign', 'Final_source_Personal Contact',\n",
    "       'Sales_Agent_Sales-Agent-11', 'Sales_Agent_Sales-Agent-10',\n",
    "       'Sales_Agent_Sales-Agent-3', 'Sales_Agent_Sales-Agent-4',\n",
    "       'Sales_Agent_Sales-Agent-9', 'Sales_Agent_Sales-Agent-7',\n",
    "       'Sales_Agent_Sales-Agent-8', 'Sales_Agent_Sales-Agent-5',\n",
    "       'Sales_Agent_Sales-Agent-2', 'Sales_Agent_Sales-Agent-12',\n",
    "       'Sales_Agent_Sales-Agent-1', 'Sales_Agent_Sales-Agent-6',\n",
    "       'Delivery_Mode_Mode-5', 'Delivery_Mode_Mode-1', 'Delivery_Mode_Mode-3',\n",
    "       'Delivery_Mode_Mode-2', 'Delivery_Mode_Mode-4',\n",
    "       'Final_location_Other Locations', 'Final_location_South India',\n",
    "       'Final_location_Asia', 'Final_location_EUROPE', 'Final_location_USA',\n",
    "       'Final_location_North India', 'Final_location_AUSTRALIA']]\n",
    "    y=df_train['Final_status']\n",
    "    #getting x_train, y_train  \n",
    "    \n",
    "    return X_train,y_train"
   ]
  },
  {
   "cell_type": "markdown",
   "metadata": {},
   "source": [
    "# The 2 training sets are ready"
   ]
  },
  {
   "cell_type": "code",
   "execution_count": 72,
   "metadata": {},
   "outputs": [],
   "source": [
    "X_train1,y_train1 = train_batch(high,low, 0, 2850)"
   ]
  },
  {
   "cell_type": "code",
   "execution_count": 73,
   "metadata": {},
   "outputs": [],
   "source": [
    "X_train2,y_train2 = train_batch(high,low, 2850,4573)"
   ]
  },
  {
   "cell_type": "markdown",
   "metadata": {},
   "source": [
    "# Model 1"
   ]
  },
  {
   "cell_type": "markdown",
   "metadata": {},
   "source": [
    "## Initializing the model"
   ]
  },
  {
   "cell_type": "code",
   "execution_count": 114,
   "metadata": {},
   "outputs": [],
   "source": [
    "from sklearn.linear_model import LogisticRegression\n",
    "model1= LogisticRegression()"
   ]
  },
  {
   "cell_type": "markdown",
   "metadata": {},
   "source": [
    "## Fitting the model"
   ]
  },
  {
   "cell_type": "code",
   "execution_count": 115,
   "metadata": {},
   "outputs": [],
   "source": [
    "model1.fit(X_train1,y_train1)\n",
    "y_predict1= model1.predict(X_test)"
   ]
  },
  {
   "cell_type": "markdown",
   "metadata": {},
   "source": [
    "## Evaluation of model"
   ]
  },
  {
   "cell_type": "code",
   "execution_count": 116,
   "metadata": {},
   "outputs": [
    {
     "data": {
      "text/plain": [
       "0.7164983164983165"
      ]
     },
     "execution_count": 116,
     "metadata": {},
     "output_type": "execute_result"
    }
   ],
   "source": [
    "from sklearn.metrics import accuracy_score\n",
    "accuracy_score(y_test,y_predict1)"
   ]
  },
  {
   "cell_type": "code",
   "execution_count": 117,
   "metadata": {},
   "outputs": [
    {
     "name": "stdout",
     "output_type": "stream",
     "text": [
      "                precision    recall  f1-score   support\n",
      "\n",
      "High Potential       0.55      0.65      0.59       474\n",
      " Low Potential       0.82      0.75      0.78      1011\n",
      "\n",
      "      accuracy                           0.72      1485\n",
      "     macro avg       0.68      0.70      0.69      1485\n",
      "  weighted avg       0.73      0.72      0.72      1485\n",
      "\n"
     ]
    }
   ],
   "source": [
    "from sklearn.metrics import classification_report\n",
    "print(classification_report(y_predict1,y_test))"
   ]
  },
  {
   "cell_type": "markdown",
   "metadata": {},
   "source": [
    "# Grid search of model 1"
   ]
  },
  {
   "cell_type": "code",
   "execution_count": 79,
   "metadata": {
    "collapsed": true
   },
   "outputs": [
    {
     "name": "stdout",
     "output_type": "stream",
     "text": [
      "Fitting 5 folds for each of 240 candidates, totalling 1200 fits\n",
      "[CV] END ..............C=0.1, penalty=none, solver=newton cg; total time=   0.0s\n",
      "[CV] END ..............C=0.1, penalty=none, solver=newton cg; total time=   0.0s\n",
      "[CV] END ..............C=0.1, penalty=none, solver=newton cg; total time=   0.0s\n",
      "[CV] END ..............C=0.1, penalty=none, solver=newton cg; total time=   0.0s\n",
      "[CV] END ..............C=0.1, penalty=none, solver=newton cg; total time=   0.0s\n",
      "[CV] END ..................C=0.1, penalty=none, solver=lbfgs; total time=   0.1s\n",
      "[CV] END ..................C=0.1, penalty=none, solver=lbfgs; total time=   0.1s\n",
      "[CV] END ..................C=0.1, penalty=none, solver=lbfgs; total time=   0.1s\n",
      "[CV] END ..................C=0.1, penalty=none, solver=lbfgs; total time=   0.1s\n",
      "[CV] END ..................C=0.1, penalty=none, solver=lbfgs; total time=   0.1s\n",
      "[CV] END ..............C=0.1, penalty=none, solver=liblinear; total time=   0.0s\n",
      "[CV] END ..............C=0.1, penalty=none, solver=liblinear; total time=   0.0s\n",
      "[CV] END ..............C=0.1, penalty=none, solver=liblinear; total time=   0.0s\n",
      "[CV] END ..............C=0.1, penalty=none, solver=liblinear; total time=   0.0s\n",
      "[CV] END ..............C=0.1, penalty=none, solver=liblinear; total time=   0.0s\n",
      "[CV] END ....................C=0.1, penalty=none, solver=sag; total time=   0.2s\n",
      "[CV] END ....................C=0.1, penalty=none, solver=sag; total time=   0.2s\n",
      "[CV] END ....................C=0.1, penalty=none, solver=sag; total time=   0.2s\n",
      "[CV] END ....................C=0.1, penalty=none, solver=sag; total time=   0.2s\n",
      "[CV] END ....................C=0.1, penalty=none, solver=sag; total time=   0.2s\n",
      "[CV] END ...................C=0.1, penalty=none, solver=saga; total time=   0.2s\n",
      "[CV] END ...................C=0.1, penalty=none, solver=saga; total time=   0.2s\n",
      "[CV] END ...................C=0.1, penalty=none, solver=saga; total time=   0.2s\n",
      "[CV] END ...................C=0.1, penalty=none, solver=saga; total time=   0.2s\n",
      "[CV] END ...................C=0.1, penalty=none, solver=saga; total time=   0.2s\n",
      "[CV] END ................C=0.1, penalty=l1, solver=newton cg; total time=   0.0s\n",
      "[CV] END ................C=0.1, penalty=l1, solver=newton cg; total time=   0.0s\n",
      "[CV] END ................C=0.1, penalty=l1, solver=newton cg; total time=   0.0s\n",
      "[CV] END ................C=0.1, penalty=l1, solver=newton cg; total time=   0.0s\n",
      "[CV] END ................C=0.1, penalty=l1, solver=newton cg; total time=   0.0s\n",
      "[CV] END ....................C=0.1, penalty=l1, solver=lbfgs; total time=   0.0s\n",
      "[CV] END ....................C=0.1, penalty=l1, solver=lbfgs; total time=   0.0s\n",
      "[CV] END ....................C=0.1, penalty=l1, solver=lbfgs; total time=   0.0s\n",
      "[CV] END ....................C=0.1, penalty=l1, solver=lbfgs; total time=   0.0s\n",
      "[CV] END ....................C=0.1, penalty=l1, solver=lbfgs; total time=   0.0s\n",
      "[CV] END ................C=0.1, penalty=l1, solver=liblinear; total time=   0.0s\n",
      "[CV] END ................C=0.1, penalty=l1, solver=liblinear; total time=   0.0s\n",
      "[CV] END ................C=0.1, penalty=l1, solver=liblinear; total time=   0.0s\n",
      "[CV] END ................C=0.1, penalty=l1, solver=liblinear; total time=   0.0s\n",
      "[CV] END ................C=0.1, penalty=l1, solver=liblinear; total time=   0.0s\n",
      "[CV] END ......................C=0.1, penalty=l1, solver=sag; total time=   0.0s\n",
      "[CV] END ......................C=0.1, penalty=l1, solver=sag; total time=   0.0s\n",
      "[CV] END ......................C=0.1, penalty=l1, solver=sag; total time=   0.0s\n",
      "[CV] END ......................C=0.1, penalty=l1, solver=sag; total time=   0.0s\n",
      "[CV] END ......................C=0.1, penalty=l1, solver=sag; total time=   0.0s\n",
      "[CV] END .....................C=0.1, penalty=l1, solver=saga; total time=   0.1s\n",
      "[CV] END .....................C=0.1, penalty=l1, solver=saga; total time=   0.1s\n",
      "[CV] END .....................C=0.1, penalty=l1, solver=saga; total time=   0.1s\n",
      "[CV] END .....................C=0.1, penalty=l1, solver=saga; total time=   0.1s\n",
      "[CV] END .....................C=0.1, penalty=l1, solver=saga; total time=   0.1s\n",
      "[CV] END ................C=0.1, penalty=l2, solver=newton cg; total time=   0.0s\n",
      "[CV] END ................C=0.1, penalty=l2, solver=newton cg; total time=   0.0s\n",
      "[CV] END ................C=0.1, penalty=l2, solver=newton cg; total time=   0.0s\n",
      "[CV] END ................C=0.1, penalty=l2, solver=newton cg; total time=   0.0s\n",
      "[CV] END ................C=0.1, penalty=l2, solver=newton cg; total time=   0.0s\n",
      "[CV] END ....................C=0.1, penalty=l2, solver=lbfgs; total time=   0.0s\n",
      "[CV] END ....................C=0.1, penalty=l2, solver=lbfgs; total time=   0.0s\n",
      "[CV] END ....................C=0.1, penalty=l2, solver=lbfgs; total time=   0.0s\n",
      "[CV] END ....................C=0.1, penalty=l2, solver=lbfgs; total time=   0.0s\n",
      "[CV] END ....................C=0.1, penalty=l2, solver=lbfgs; total time=   0.0s\n",
      "[CV] END ................C=0.1, penalty=l2, solver=liblinear; total time=   0.0s\n",
      "[CV] END ................C=0.1, penalty=l2, solver=liblinear; total time=   0.0s\n",
      "[CV] END ................C=0.1, penalty=l2, solver=liblinear; total time=   0.0s\n",
      "[CV] END ................C=0.1, penalty=l2, solver=liblinear; total time=   0.0s\n",
      "[CV] END ................C=0.1, penalty=l2, solver=liblinear; total time=   0.0s\n",
      "[CV] END ......................C=0.1, penalty=l2, solver=sag; total time=   0.0s\n",
      "[CV] END ......................C=0.1, penalty=l2, solver=sag; total time=   0.0s\n",
      "[CV] END ......................C=0.1, penalty=l2, solver=sag; total time=   0.0s\n",
      "[CV] END ......................C=0.1, penalty=l2, solver=sag; total time=   0.0s\n",
      "[CV] END ......................C=0.1, penalty=l2, solver=sag; total time=   0.0s\n",
      "[CV] END .....................C=0.1, penalty=l2, solver=saga; total time=   0.0s\n",
      "[CV] END .....................C=0.1, penalty=l2, solver=saga; total time=   0.1s\n",
      "[CV] END .....................C=0.1, penalty=l2, solver=saga; total time=   0.1s\n",
      "[CV] END .....................C=0.1, penalty=l2, solver=saga; total time=   0.1s\n",
      "[CV] END .....................C=0.1, penalty=l2, solver=saga; total time=   0.1s\n",
      "[CV] END ........C=0.1, penalty=elasticnet, solver=newton cg; total time=   0.0s\n",
      "[CV] END ........C=0.1, penalty=elasticnet, solver=newton cg; total time=   0.0s\n",
      "[CV] END ........C=0.1, penalty=elasticnet, solver=newton cg; total time=   0.0s\n",
      "[CV] END ........C=0.1, penalty=elasticnet, solver=newton cg; total time=   0.0s\n",
      "[CV] END ........C=0.1, penalty=elasticnet, solver=newton cg; total time=   0.0s\n",
      "[CV] END ............C=0.1, penalty=elasticnet, solver=lbfgs; total time=   0.0s\n",
      "[CV] END ............C=0.1, penalty=elasticnet, solver=lbfgs; total time=   0.0s\n",
      "[CV] END ............C=0.1, penalty=elasticnet, solver=lbfgs; total time=   0.0s\n",
      "[CV] END ............C=0.1, penalty=elasticnet, solver=lbfgs; total time=   0.0s\n",
      "[CV] END ............C=0.1, penalty=elasticnet, solver=lbfgs; total time=   0.0s\n",
      "[CV] END ........C=0.1, penalty=elasticnet, solver=liblinear; total time=   0.0s\n",
      "[CV] END ........C=0.1, penalty=elasticnet, solver=liblinear; total time=   0.0s\n",
      "[CV] END ........C=0.1, penalty=elasticnet, solver=liblinear; total time=   0.0s\n",
      "[CV] END ........C=0.1, penalty=elasticnet, solver=liblinear; total time=   0.0s\n",
      "[CV] END ........C=0.1, penalty=elasticnet, solver=liblinear; total time=   0.0s\n",
      "[CV] END ..............C=0.1, penalty=elasticnet, solver=sag; total time=   0.0s\n",
      "[CV] END ..............C=0.1, penalty=elasticnet, solver=sag; total time=   0.0s\n",
      "[CV] END ..............C=0.1, penalty=elasticnet, solver=sag; total time=   0.0s\n",
      "[CV] END ..............C=0.1, penalty=elasticnet, solver=sag; total time=   0.0s\n",
      "[CV] END ..............C=0.1, penalty=elasticnet, solver=sag; total time=   0.0s\n",
      "[CV] END .............C=0.1, penalty=elasticnet, solver=saga; total time=   0.0s\n",
      "[CV] END .............C=0.1, penalty=elasticnet, solver=saga; total time=   0.0s\n",
      "[CV] END .............C=0.1, penalty=elasticnet, solver=saga; total time=   0.0s\n",
      "[CV] END .............C=0.1, penalty=elasticnet, solver=saga; total time=   0.0s\n",
      "[CV] END .............C=0.1, penalty=elasticnet, solver=saga; total time=   0.0s\n",
      "[CV] END ..............C=0.2, penalty=none, solver=newton cg; total time=   0.0s\n",
      "[CV] END ..............C=0.2, penalty=none, solver=newton cg; total time=   0.0s\n",
      "[CV] END ..............C=0.2, penalty=none, solver=newton cg; total time=   0.0s\n",
      "[CV] END ..............C=0.2, penalty=none, solver=newton cg; total time=   0.0s\n",
      "[CV] END ..............C=0.2, penalty=none, solver=newton cg; total time=   0.0s\n"
     ]
    },
    {
     "name": "stdout",
     "output_type": "stream",
     "text": [
      "[CV] END ..................C=0.2, penalty=none, solver=lbfgs; total time=   0.1s\n",
      "[CV] END ..................C=0.2, penalty=none, solver=lbfgs; total time=   0.1s\n",
      "[CV] END ..................C=0.2, penalty=none, solver=lbfgs; total time=   0.1s\n",
      "[CV] END ..................C=0.2, penalty=none, solver=lbfgs; total time=   0.1s\n",
      "[CV] END ..................C=0.2, penalty=none, solver=lbfgs; total time=   0.1s\n",
      "[CV] END ..............C=0.2, penalty=none, solver=liblinear; total time=   0.0s\n",
      "[CV] END ..............C=0.2, penalty=none, solver=liblinear; total time=   0.0s\n",
      "[CV] END ..............C=0.2, penalty=none, solver=liblinear; total time=   0.0s\n",
      "[CV] END ..............C=0.2, penalty=none, solver=liblinear; total time=   0.0s\n",
      "[CV] END ..............C=0.2, penalty=none, solver=liblinear; total time=   0.0s\n",
      "[CV] END ....................C=0.2, penalty=none, solver=sag; total time=   0.2s\n",
      "[CV] END ....................C=0.2, penalty=none, solver=sag; total time=   0.2s\n",
      "[CV] END ....................C=0.2, penalty=none, solver=sag; total time=   0.2s\n",
      "[CV] END ....................C=0.2, penalty=none, solver=sag; total time=   0.2s\n",
      "[CV] END ....................C=0.2, penalty=none, solver=sag; total time=   0.2s\n",
      "[CV] END ...................C=0.2, penalty=none, solver=saga; total time=   0.2s\n",
      "[CV] END ...................C=0.2, penalty=none, solver=saga; total time=   0.2s\n",
      "[CV] END ...................C=0.2, penalty=none, solver=saga; total time=   0.2s\n",
      "[CV] END ...................C=0.2, penalty=none, solver=saga; total time=   0.2s\n",
      "[CV] END ...................C=0.2, penalty=none, solver=saga; total time=   0.2s\n",
      "[CV] END ................C=0.2, penalty=l1, solver=newton cg; total time=   0.0s\n",
      "[CV] END ................C=0.2, penalty=l1, solver=newton cg; total time=   0.0s\n",
      "[CV] END ................C=0.2, penalty=l1, solver=newton cg; total time=   0.0s\n",
      "[CV] END ................C=0.2, penalty=l1, solver=newton cg; total time=   0.0s\n",
      "[CV] END ................C=0.2, penalty=l1, solver=newton cg; total time=   0.0s\n",
      "[CV] END ....................C=0.2, penalty=l1, solver=lbfgs; total time=   0.0s\n",
      "[CV] END ....................C=0.2, penalty=l1, solver=lbfgs; total time=   0.0s\n",
      "[CV] END ....................C=0.2, penalty=l1, solver=lbfgs; total time=   0.0s\n",
      "[CV] END ....................C=0.2, penalty=l1, solver=lbfgs; total time=   0.0s\n",
      "[CV] END ....................C=0.2, penalty=l1, solver=lbfgs; total time=   0.0s\n",
      "[CV] END ................C=0.2, penalty=l1, solver=liblinear; total time=   0.0s\n",
      "[CV] END ................C=0.2, penalty=l1, solver=liblinear; total time=   0.0s\n",
      "[CV] END ................C=0.2, penalty=l1, solver=liblinear; total time=   0.0s\n",
      "[CV] END ................C=0.2, penalty=l1, solver=liblinear; total time=   0.0s\n",
      "[CV] END ................C=0.2, penalty=l1, solver=liblinear; total time=   0.0s\n",
      "[CV] END ......................C=0.2, penalty=l1, solver=sag; total time=   0.0s\n",
      "[CV] END ......................C=0.2, penalty=l1, solver=sag; total time=   0.0s\n",
      "[CV] END ......................C=0.2, penalty=l1, solver=sag; total time=   0.0s\n",
      "[CV] END ......................C=0.2, penalty=l1, solver=sag; total time=   0.0s\n",
      "[CV] END ......................C=0.2, penalty=l1, solver=sag; total time=   0.0s\n",
      "[CV] END .....................C=0.2, penalty=l1, solver=saga; total time=   0.1s\n",
      "[CV] END .....................C=0.2, penalty=l1, solver=saga; total time=   0.1s\n",
      "[CV] END .....................C=0.2, penalty=l1, solver=saga; total time=   0.1s\n",
      "[CV] END .....................C=0.2, penalty=l1, solver=saga; total time=   0.1s\n",
      "[CV] END .....................C=0.2, penalty=l1, solver=saga; total time=   0.1s\n",
      "[CV] END ................C=0.2, penalty=l2, solver=newton cg; total time=   0.0s\n",
      "[CV] END ................C=0.2, penalty=l2, solver=newton cg; total time=   0.0s\n",
      "[CV] END ................C=0.2, penalty=l2, solver=newton cg; total time=   0.0s\n",
      "[CV] END ................C=0.2, penalty=l2, solver=newton cg; total time=   0.0s\n",
      "[CV] END ................C=0.2, penalty=l2, solver=newton cg; total time=   0.0s\n",
      "[CV] END ....................C=0.2, penalty=l2, solver=lbfgs; total time=   0.0s\n",
      "[CV] END ....................C=0.2, penalty=l2, solver=lbfgs; total time=   0.0s\n",
      "[CV] END ....................C=0.2, penalty=l2, solver=lbfgs; total time=   0.0s\n",
      "[CV] END ....................C=0.2, penalty=l2, solver=lbfgs; total time=   0.0s\n",
      "[CV] END ....................C=0.2, penalty=l2, solver=lbfgs; total time=   0.0s\n",
      "[CV] END ................C=0.2, penalty=l2, solver=liblinear; total time=   0.0s\n",
      "[CV] END ................C=0.2, penalty=l2, solver=liblinear; total time=   0.0s\n",
      "[CV] END ................C=0.2, penalty=l2, solver=liblinear; total time=   0.0s\n",
      "[CV] END ................C=0.2, penalty=l2, solver=liblinear; total time=   0.0s\n",
      "[CV] END ................C=0.2, penalty=l2, solver=liblinear; total time=   0.0s\n",
      "[CV] END ......................C=0.2, penalty=l2, solver=sag; total time=   0.1s\n",
      "[CV] END ......................C=0.2, penalty=l2, solver=sag; total time=   0.1s\n",
      "[CV] END ......................C=0.2, penalty=l2, solver=sag; total time=   0.1s\n",
      "[CV] END ......................C=0.2, penalty=l2, solver=sag; total time=   0.1s\n",
      "[CV] END ......................C=0.2, penalty=l2, solver=sag; total time=   0.1s\n",
      "[CV] END .....................C=0.2, penalty=l2, solver=saga; total time=   0.1s\n",
      "[CV] END .....................C=0.2, penalty=l2, solver=saga; total time=   0.1s\n",
      "[CV] END .....................C=0.2, penalty=l2, solver=saga; total time=   0.1s\n",
      "[CV] END .....................C=0.2, penalty=l2, solver=saga; total time=   0.1s\n",
      "[CV] END .....................C=0.2, penalty=l2, solver=saga; total time=   0.1s\n",
      "[CV] END ........C=0.2, penalty=elasticnet, solver=newton cg; total time=   0.0s\n",
      "[CV] END ........C=0.2, penalty=elasticnet, solver=newton cg; total time=   0.0s\n",
      "[CV] END ........C=0.2, penalty=elasticnet, solver=newton cg; total time=   0.0s\n",
      "[CV] END ........C=0.2, penalty=elasticnet, solver=newton cg; total time=   0.0s\n",
      "[CV] END ........C=0.2, penalty=elasticnet, solver=newton cg; total time=   0.0s\n",
      "[CV] END ............C=0.2, penalty=elasticnet, solver=lbfgs; total time=   0.0s\n",
      "[CV] END ............C=0.2, penalty=elasticnet, solver=lbfgs; total time=   0.0s\n",
      "[CV] END ............C=0.2, penalty=elasticnet, solver=lbfgs; total time=   0.0s\n",
      "[CV] END ............C=0.2, penalty=elasticnet, solver=lbfgs; total time=   0.0s\n",
      "[CV] END ............C=0.2, penalty=elasticnet, solver=lbfgs; total time=   0.0s\n",
      "[CV] END ........C=0.2, penalty=elasticnet, solver=liblinear; total time=   0.0s\n",
      "[CV] END ........C=0.2, penalty=elasticnet, solver=liblinear; total time=   0.0s\n",
      "[CV] END ........C=0.2, penalty=elasticnet, solver=liblinear; total time=   0.0s\n",
      "[CV] END ........C=0.2, penalty=elasticnet, solver=liblinear; total time=   0.0s\n",
      "[CV] END ........C=0.2, penalty=elasticnet, solver=liblinear; total time=   0.0s\n",
      "[CV] END ..............C=0.2, penalty=elasticnet, solver=sag; total time=   0.0s\n",
      "[CV] END ..............C=0.2, penalty=elasticnet, solver=sag; total time=   0.0s\n",
      "[CV] END ..............C=0.2, penalty=elasticnet, solver=sag; total time=   0.0s\n",
      "[CV] END ..............C=0.2, penalty=elasticnet, solver=sag; total time=   0.0s\n",
      "[CV] END ..............C=0.2, penalty=elasticnet, solver=sag; total time=   0.0s\n",
      "[CV] END .............C=0.2, penalty=elasticnet, solver=saga; total time=   0.0s\n",
      "[CV] END .............C=0.2, penalty=elasticnet, solver=saga; total time=   0.0s\n",
      "[CV] END .............C=0.2, penalty=elasticnet, solver=saga; total time=   0.0s\n",
      "[CV] END .............C=0.2, penalty=elasticnet, solver=saga; total time=   0.0s\n",
      "[CV] END .............C=0.2, penalty=elasticnet, solver=saga; total time=   0.0s\n",
      "[CV] END ..............C=0.3, penalty=none, solver=newton cg; total time=   0.0s\n",
      "[CV] END ..............C=0.3, penalty=none, solver=newton cg; total time=   0.0s\n",
      "[CV] END ..............C=0.3, penalty=none, solver=newton cg; total time=   0.0s\n",
      "[CV] END ..............C=0.3, penalty=none, solver=newton cg; total time=   0.0s\n",
      "[CV] END ..............C=0.3, penalty=none, solver=newton cg; total time=   0.0s\n",
      "[CV] END ..................C=0.3, penalty=none, solver=lbfgs; total time=   0.1s\n",
      "[CV] END ..................C=0.3, penalty=none, solver=lbfgs; total time=   0.1s\n"
     ]
    },
    {
     "name": "stdout",
     "output_type": "stream",
     "text": [
      "[CV] END ..................C=0.3, penalty=none, solver=lbfgs; total time=   0.1s\n",
      "[CV] END ..................C=0.3, penalty=none, solver=lbfgs; total time=   0.1s\n",
      "[CV] END ..................C=0.3, penalty=none, solver=lbfgs; total time=   0.1s\n",
      "[CV] END ..............C=0.3, penalty=none, solver=liblinear; total time=   0.0s\n",
      "[CV] END ..............C=0.3, penalty=none, solver=liblinear; total time=   0.0s\n",
      "[CV] END ..............C=0.3, penalty=none, solver=liblinear; total time=   0.0s\n",
      "[CV] END ..............C=0.3, penalty=none, solver=liblinear; total time=   0.0s\n",
      "[CV] END ..............C=0.3, penalty=none, solver=liblinear; total time=   0.0s\n",
      "[CV] END ....................C=0.3, penalty=none, solver=sag; total time=   0.2s\n",
      "[CV] END ....................C=0.3, penalty=none, solver=sag; total time=   0.2s\n",
      "[CV] END ....................C=0.3, penalty=none, solver=sag; total time=   0.2s\n",
      "[CV] END ....................C=0.3, penalty=none, solver=sag; total time=   0.2s\n",
      "[CV] END ....................C=0.3, penalty=none, solver=sag; total time=   0.2s\n",
      "[CV] END ...................C=0.3, penalty=none, solver=saga; total time=   0.2s\n",
      "[CV] END ...................C=0.3, penalty=none, solver=saga; total time=   0.2s\n",
      "[CV] END ...................C=0.3, penalty=none, solver=saga; total time=   0.2s\n",
      "[CV] END ...................C=0.3, penalty=none, solver=saga; total time=   0.2s\n",
      "[CV] END ...................C=0.3, penalty=none, solver=saga; total time=   0.2s\n",
      "[CV] END ................C=0.3, penalty=l1, solver=newton cg; total time=   0.0s\n",
      "[CV] END ................C=0.3, penalty=l1, solver=newton cg; total time=   0.0s\n",
      "[CV] END ................C=0.3, penalty=l1, solver=newton cg; total time=   0.0s\n",
      "[CV] END ................C=0.3, penalty=l1, solver=newton cg; total time=   0.0s\n",
      "[CV] END ................C=0.3, penalty=l1, solver=newton cg; total time=   0.0s\n",
      "[CV] END ....................C=0.3, penalty=l1, solver=lbfgs; total time=   0.0s\n",
      "[CV] END ....................C=0.3, penalty=l1, solver=lbfgs; total time=   0.0s\n",
      "[CV] END ....................C=0.3, penalty=l1, solver=lbfgs; total time=   0.0s\n",
      "[CV] END ....................C=0.3, penalty=l1, solver=lbfgs; total time=   0.0s\n",
      "[CV] END ....................C=0.3, penalty=l1, solver=lbfgs; total time=   0.0s\n",
      "[CV] END ................C=0.3, penalty=l1, solver=liblinear; total time=   0.0s\n",
      "[CV] END ................C=0.3, penalty=l1, solver=liblinear; total time=   0.0s\n",
      "[CV] END ................C=0.3, penalty=l1, solver=liblinear; total time=   0.0s\n",
      "[CV] END ................C=0.3, penalty=l1, solver=liblinear; total time=   0.0s\n",
      "[CV] END ................C=0.3, penalty=l1, solver=liblinear; total time=   0.0s\n",
      "[CV] END ......................C=0.3, penalty=l1, solver=sag; total time=   0.0s\n",
      "[CV] END ......................C=0.3, penalty=l1, solver=sag; total time=   0.0s\n",
      "[CV] END ......................C=0.3, penalty=l1, solver=sag; total time=   0.0s\n",
      "[CV] END ......................C=0.3, penalty=l1, solver=sag; total time=   0.0s\n",
      "[CV] END ......................C=0.3, penalty=l1, solver=sag; total time=   0.0s\n",
      "[CV] END .....................C=0.3, penalty=l1, solver=saga; total time=   0.1s\n",
      "[CV] END .....................C=0.3, penalty=l1, solver=saga; total time=   0.1s\n",
      "[CV] END .....................C=0.3, penalty=l1, solver=saga; total time=   0.1s\n",
      "[CV] END .....................C=0.3, penalty=l1, solver=saga; total time=   0.1s\n",
      "[CV] END .....................C=0.3, penalty=l1, solver=saga; total time=   0.1s\n",
      "[CV] END ................C=0.3, penalty=l2, solver=newton cg; total time=   0.0s\n",
      "[CV] END ................C=0.3, penalty=l2, solver=newton cg; total time=   0.0s\n",
      "[CV] END ................C=0.3, penalty=l2, solver=newton cg; total time=   0.0s\n",
      "[CV] END ................C=0.3, penalty=l2, solver=newton cg; total time=   0.0s\n",
      "[CV] END ................C=0.3, penalty=l2, solver=newton cg; total time=   0.0s\n",
      "[CV] END ....................C=0.3, penalty=l2, solver=lbfgs; total time=   0.0s\n",
      "[CV] END ....................C=0.3, penalty=l2, solver=lbfgs; total time=   0.1s\n",
      "[CV] END ....................C=0.3, penalty=l2, solver=lbfgs; total time=   0.1s\n",
      "[CV] END ....................C=0.3, penalty=l2, solver=lbfgs; total time=   0.1s\n",
      "[CV] END ....................C=0.3, penalty=l2, solver=lbfgs; total time=   0.0s\n",
      "[CV] END ................C=0.3, penalty=l2, solver=liblinear; total time=   0.0s\n",
      "[CV] END ................C=0.3, penalty=l2, solver=liblinear; total time=   0.0s\n",
      "[CV] END ................C=0.3, penalty=l2, solver=liblinear; total time=   0.0s\n",
      "[CV] END ................C=0.3, penalty=l2, solver=liblinear; total time=   0.0s\n",
      "[CV] END ................C=0.3, penalty=l2, solver=liblinear; total time=   0.0s\n",
      "[CV] END ......................C=0.3, penalty=l2, solver=sag; total time=   0.1s\n",
      "[CV] END ......................C=0.3, penalty=l2, solver=sag; total time=   0.1s\n",
      "[CV] END ......................C=0.3, penalty=l2, solver=sag; total time=   0.1s\n",
      "[CV] END ......................C=0.3, penalty=l2, solver=sag; total time=   0.1s\n",
      "[CV] END ......................C=0.3, penalty=l2, solver=sag; total time=   0.1s\n",
      "[CV] END .....................C=0.3, penalty=l2, solver=saga; total time=   0.1s\n",
      "[CV] END .....................C=0.3, penalty=l2, solver=saga; total time=   0.1s\n",
      "[CV] END .....................C=0.3, penalty=l2, solver=saga; total time=   0.1s\n",
      "[CV] END .....................C=0.3, penalty=l2, solver=saga; total time=   0.1s\n",
      "[CV] END .....................C=0.3, penalty=l2, solver=saga; total time=   0.1s\n",
      "[CV] END ........C=0.3, penalty=elasticnet, solver=newton cg; total time=   0.0s\n",
      "[CV] END ........C=0.3, penalty=elasticnet, solver=newton cg; total time=   0.0s\n",
      "[CV] END ........C=0.3, penalty=elasticnet, solver=newton cg; total time=   0.0s\n",
      "[CV] END ........C=0.3, penalty=elasticnet, solver=newton cg; total time=   0.0s\n",
      "[CV] END ........C=0.3, penalty=elasticnet, solver=newton cg; total time=   0.0s\n",
      "[CV] END ............C=0.3, penalty=elasticnet, solver=lbfgs; total time=   0.0s\n",
      "[CV] END ............C=0.3, penalty=elasticnet, solver=lbfgs; total time=   0.0s\n",
      "[CV] END ............C=0.3, penalty=elasticnet, solver=lbfgs; total time=   0.0s\n",
      "[CV] END ............C=0.3, penalty=elasticnet, solver=lbfgs; total time=   0.0s\n",
      "[CV] END ............C=0.3, penalty=elasticnet, solver=lbfgs; total time=   0.0s\n",
      "[CV] END ........C=0.3, penalty=elasticnet, solver=liblinear; total time=   0.0s\n",
      "[CV] END ........C=0.3, penalty=elasticnet, solver=liblinear; total time=   0.0s\n",
      "[CV] END ........C=0.3, penalty=elasticnet, solver=liblinear; total time=   0.0s\n",
      "[CV] END ........C=0.3, penalty=elasticnet, solver=liblinear; total time=   0.0s\n",
      "[CV] END ........C=0.3, penalty=elasticnet, solver=liblinear; total time=   0.0s\n",
      "[CV] END ..............C=0.3, penalty=elasticnet, solver=sag; total time=   0.0s\n",
      "[CV] END ..............C=0.3, penalty=elasticnet, solver=sag; total time=   0.0s\n",
      "[CV] END ..............C=0.3, penalty=elasticnet, solver=sag; total time=   0.0s\n",
      "[CV] END ..............C=0.3, penalty=elasticnet, solver=sag; total time=   0.0s\n",
      "[CV] END ..............C=0.3, penalty=elasticnet, solver=sag; total time=   0.0s\n",
      "[CV] END .............C=0.3, penalty=elasticnet, solver=saga; total time=   0.0s\n",
      "[CV] END .............C=0.3, penalty=elasticnet, solver=saga; total time=   0.0s\n",
      "[CV] END .............C=0.3, penalty=elasticnet, solver=saga; total time=   0.0s\n",
      "[CV] END .............C=0.3, penalty=elasticnet, solver=saga; total time=   0.0s\n",
      "[CV] END .............C=0.3, penalty=elasticnet, solver=saga; total time=   0.0s\n",
      "[CV] END ..............C=0.4, penalty=none, solver=newton cg; total time=   0.0s\n",
      "[CV] END ..............C=0.4, penalty=none, solver=newton cg; total time=   0.0s\n",
      "[CV] END ..............C=0.4, penalty=none, solver=newton cg; total time=   0.0s\n",
      "[CV] END ..............C=0.4, penalty=none, solver=newton cg; total time=   0.0s\n",
      "[CV] END ..............C=0.4, penalty=none, solver=newton cg; total time=   0.0s\n",
      "[CV] END ..................C=0.4, penalty=none, solver=lbfgs; total time=   0.1s\n",
      "[CV] END ..................C=0.4, penalty=none, solver=lbfgs; total time=   0.1s\n",
      "[CV] END ..................C=0.4, penalty=none, solver=lbfgs; total time=   0.1s\n",
      "[CV] END ..................C=0.4, penalty=none, solver=lbfgs; total time=   0.1s\n",
      "[CV] END ..................C=0.4, penalty=none, solver=lbfgs; total time=   0.1s\n",
      "[CV] END ..............C=0.4, penalty=none, solver=liblinear; total time=   0.0s\n",
      "[CV] END ..............C=0.4, penalty=none, solver=liblinear; total time=   0.0s\n",
      "[CV] END ..............C=0.4, penalty=none, solver=liblinear; total time=   0.0s\n",
      "[CV] END ..............C=0.4, penalty=none, solver=liblinear; total time=   0.0s\n",
      "[CV] END ..............C=0.4, penalty=none, solver=liblinear; total time=   0.0s\n"
     ]
    },
    {
     "name": "stdout",
     "output_type": "stream",
     "text": [
      "[CV] END ....................C=0.4, penalty=none, solver=sag; total time=   0.2s\n",
      "[CV] END ....................C=0.4, penalty=none, solver=sag; total time=   0.2s\n",
      "[CV] END ....................C=0.4, penalty=none, solver=sag; total time=   0.2s\n",
      "[CV] END ....................C=0.4, penalty=none, solver=sag; total time=   0.2s\n",
      "[CV] END ....................C=0.4, penalty=none, solver=sag; total time=   0.2s\n",
      "[CV] END ...................C=0.4, penalty=none, solver=saga; total time=   0.2s\n",
      "[CV] END ...................C=0.4, penalty=none, solver=saga; total time=   0.2s\n",
      "[CV] END ...................C=0.4, penalty=none, solver=saga; total time=   0.2s\n",
      "[CV] END ...................C=0.4, penalty=none, solver=saga; total time=   0.2s\n",
      "[CV] END ...................C=0.4, penalty=none, solver=saga; total time=   0.2s\n",
      "[CV] END ................C=0.4, penalty=l1, solver=newton cg; total time=   0.0s\n",
      "[CV] END ................C=0.4, penalty=l1, solver=newton cg; total time=   0.0s\n",
      "[CV] END ................C=0.4, penalty=l1, solver=newton cg; total time=   0.0s\n",
      "[CV] END ................C=0.4, penalty=l1, solver=newton cg; total time=   0.0s\n",
      "[CV] END ................C=0.4, penalty=l1, solver=newton cg; total time=   0.0s\n",
      "[CV] END ....................C=0.4, penalty=l1, solver=lbfgs; total time=   0.0s\n",
      "[CV] END ....................C=0.4, penalty=l1, solver=lbfgs; total time=   0.0s\n",
      "[CV] END ....................C=0.4, penalty=l1, solver=lbfgs; total time=   0.0s\n",
      "[CV] END ....................C=0.4, penalty=l1, solver=lbfgs; total time=   0.0s\n",
      "[CV] END ....................C=0.4, penalty=l1, solver=lbfgs; total time=   0.0s\n",
      "[CV] END ................C=0.4, penalty=l1, solver=liblinear; total time=   0.0s\n",
      "[CV] END ................C=0.4, penalty=l1, solver=liblinear; total time=   0.0s\n",
      "[CV] END ................C=0.4, penalty=l1, solver=liblinear; total time=   0.0s\n",
      "[CV] END ................C=0.4, penalty=l1, solver=liblinear; total time=   0.0s\n",
      "[CV] END ................C=0.4, penalty=l1, solver=liblinear; total time=   0.0s\n",
      "[CV] END ......................C=0.4, penalty=l1, solver=sag; total time=   0.0s\n",
      "[CV] END ......................C=0.4, penalty=l1, solver=sag; total time=   0.0s\n",
      "[CV] END ......................C=0.4, penalty=l1, solver=sag; total time=   0.0s\n",
      "[CV] END ......................C=0.4, penalty=l1, solver=sag; total time=   0.0s\n",
      "[CV] END ......................C=0.4, penalty=l1, solver=sag; total time=   0.0s\n",
      "[CV] END .....................C=0.4, penalty=l1, solver=saga; total time=   0.1s\n",
      "[CV] END .....................C=0.4, penalty=l1, solver=saga; total time=   0.1s\n",
      "[CV] END .....................C=0.4, penalty=l1, solver=saga; total time=   0.1s\n",
      "[CV] END .....................C=0.4, penalty=l1, solver=saga; total time=   0.1s\n",
      "[CV] END .....................C=0.4, penalty=l1, solver=saga; total time=   0.1s\n",
      "[CV] END ................C=0.4, penalty=l2, solver=newton cg; total time=   0.0s\n",
      "[CV] END ................C=0.4, penalty=l2, solver=newton cg; total time=   0.0s\n",
      "[CV] END ................C=0.4, penalty=l2, solver=newton cg; total time=   0.0s\n",
      "[CV] END ................C=0.4, penalty=l2, solver=newton cg; total time=   0.0s\n",
      "[CV] END ................C=0.4, penalty=l2, solver=newton cg; total time=   0.0s\n",
      "[CV] END ....................C=0.4, penalty=l2, solver=lbfgs; total time=   0.0s\n",
      "[CV] END ....................C=0.4, penalty=l2, solver=lbfgs; total time=   0.0s\n",
      "[CV] END ....................C=0.4, penalty=l2, solver=lbfgs; total time=   0.0s\n",
      "[CV] END ....................C=0.4, penalty=l2, solver=lbfgs; total time=   0.0s\n",
      "[CV] END ....................C=0.4, penalty=l2, solver=lbfgs; total time=   0.1s\n",
      "[CV] END ................C=0.4, penalty=l2, solver=liblinear; total time=   0.0s\n",
      "[CV] END ................C=0.4, penalty=l2, solver=liblinear; total time=   0.0s\n",
      "[CV] END ................C=0.4, penalty=l2, solver=liblinear; total time=   0.0s\n",
      "[CV] END ................C=0.4, penalty=l2, solver=liblinear; total time=   0.0s\n",
      "[CV] END ................C=0.4, penalty=l2, solver=liblinear; total time=   0.0s\n",
      "[CV] END ......................C=0.4, penalty=l2, solver=sag; total time=   0.1s\n",
      "[CV] END ......................C=0.4, penalty=l2, solver=sag; total time=   0.1s\n",
      "[CV] END ......................C=0.4, penalty=l2, solver=sag; total time=   0.1s\n",
      "[CV] END ......................C=0.4, penalty=l2, solver=sag; total time=   0.1s\n",
      "[CV] END ......................C=0.4, penalty=l2, solver=sag; total time=   0.1s\n",
      "[CV] END .....................C=0.4, penalty=l2, solver=saga; total time=   0.1s\n",
      "[CV] END .....................C=0.4, penalty=l2, solver=saga; total time=   0.1s\n",
      "[CV] END .....................C=0.4, penalty=l2, solver=saga; total time=   0.1s\n",
      "[CV] END .....................C=0.4, penalty=l2, solver=saga; total time=   0.1s\n",
      "[CV] END .....................C=0.4, penalty=l2, solver=saga; total time=   0.1s\n",
      "[CV] END ........C=0.4, penalty=elasticnet, solver=newton cg; total time=   0.0s\n",
      "[CV] END ........C=0.4, penalty=elasticnet, solver=newton cg; total time=   0.0s\n",
      "[CV] END ........C=0.4, penalty=elasticnet, solver=newton cg; total time=   0.0s\n",
      "[CV] END ........C=0.4, penalty=elasticnet, solver=newton cg; total time=   0.0s\n",
      "[CV] END ........C=0.4, penalty=elasticnet, solver=newton cg; total time=   0.0s\n",
      "[CV] END ............C=0.4, penalty=elasticnet, solver=lbfgs; total time=   0.0s\n",
      "[CV] END ............C=0.4, penalty=elasticnet, solver=lbfgs; total time=   0.0s\n",
      "[CV] END ............C=0.4, penalty=elasticnet, solver=lbfgs; total time=   0.0s\n",
      "[CV] END ............C=0.4, penalty=elasticnet, solver=lbfgs; total time=   0.0s\n",
      "[CV] END ............C=0.4, penalty=elasticnet, solver=lbfgs; total time=   0.0s\n",
      "[CV] END ........C=0.4, penalty=elasticnet, solver=liblinear; total time=   0.0s\n",
      "[CV] END ........C=0.4, penalty=elasticnet, solver=liblinear; total time=   0.0s\n",
      "[CV] END ........C=0.4, penalty=elasticnet, solver=liblinear; total time=   0.0s\n",
      "[CV] END ........C=0.4, penalty=elasticnet, solver=liblinear; total time=   0.0s\n",
      "[CV] END ........C=0.4, penalty=elasticnet, solver=liblinear; total time=   0.0s\n",
      "[CV] END ..............C=0.4, penalty=elasticnet, solver=sag; total time=   0.0s\n",
      "[CV] END ..............C=0.4, penalty=elasticnet, solver=sag; total time=   0.0s\n",
      "[CV] END ..............C=0.4, penalty=elasticnet, solver=sag; total time=   0.0s\n",
      "[CV] END ..............C=0.4, penalty=elasticnet, solver=sag; total time=   0.0s\n",
      "[CV] END ..............C=0.4, penalty=elasticnet, solver=sag; total time=   0.0s\n",
      "[CV] END .............C=0.4, penalty=elasticnet, solver=saga; total time=   0.0s\n",
      "[CV] END .............C=0.4, penalty=elasticnet, solver=saga; total time=   0.0s\n",
      "[CV] END .............C=0.4, penalty=elasticnet, solver=saga; total time=   0.0s\n",
      "[CV] END .............C=0.4, penalty=elasticnet, solver=saga; total time=   0.0s\n",
      "[CV] END .............C=0.4, penalty=elasticnet, solver=saga; total time=   0.0s\n",
      "[CV] END ..............C=0.5, penalty=none, solver=newton cg; total time=   0.0s\n",
      "[CV] END ..............C=0.5, penalty=none, solver=newton cg; total time=   0.0s\n",
      "[CV] END ..............C=0.5, penalty=none, solver=newton cg; total time=   0.0s\n",
      "[CV] END ..............C=0.5, penalty=none, solver=newton cg; total time=   0.0s\n",
      "[CV] END ..............C=0.5, penalty=none, solver=newton cg; total time=   0.0s\n",
      "[CV] END ..................C=0.5, penalty=none, solver=lbfgs; total time=   0.1s\n",
      "[CV] END ..................C=0.5, penalty=none, solver=lbfgs; total time=   0.1s\n",
      "[CV] END ..................C=0.5, penalty=none, solver=lbfgs; total time=   0.1s\n",
      "[CV] END ..................C=0.5, penalty=none, solver=lbfgs; total time=   0.1s\n",
      "[CV] END ..................C=0.5, penalty=none, solver=lbfgs; total time=   0.1s\n",
      "[CV] END ..............C=0.5, penalty=none, solver=liblinear; total time=   0.0s\n",
      "[CV] END ..............C=0.5, penalty=none, solver=liblinear; total time=   0.0s\n",
      "[CV] END ..............C=0.5, penalty=none, solver=liblinear; total time=   0.0s\n",
      "[CV] END ..............C=0.5, penalty=none, solver=liblinear; total time=   0.0s\n",
      "[CV] END ..............C=0.5, penalty=none, solver=liblinear; total time=   0.0s\n",
      "[CV] END ....................C=0.5, penalty=none, solver=sag; total time=   0.3s\n",
      "[CV] END ....................C=0.5, penalty=none, solver=sag; total time=   0.2s\n",
      "[CV] END ....................C=0.5, penalty=none, solver=sag; total time=   0.2s\n"
     ]
    },
    {
     "name": "stdout",
     "output_type": "stream",
     "text": [
      "[CV] END ....................C=0.5, penalty=none, solver=sag; total time=   0.2s\n",
      "[CV] END ....................C=0.5, penalty=none, solver=sag; total time=   0.2s\n",
      "[CV] END ...................C=0.5, penalty=none, solver=saga; total time=   0.2s\n",
      "[CV] END ...................C=0.5, penalty=none, solver=saga; total time=   0.2s\n",
      "[CV] END ...................C=0.5, penalty=none, solver=saga; total time=   0.2s\n",
      "[CV] END ...................C=0.5, penalty=none, solver=saga; total time=   0.2s\n",
      "[CV] END ...................C=0.5, penalty=none, solver=saga; total time=   0.3s\n",
      "[CV] END ................C=0.5, penalty=l1, solver=newton cg; total time=   0.0s\n",
      "[CV] END ................C=0.5, penalty=l1, solver=newton cg; total time=   0.0s\n",
      "[CV] END ................C=0.5, penalty=l1, solver=newton cg; total time=   0.0s\n",
      "[CV] END ................C=0.5, penalty=l1, solver=newton cg; total time=   0.0s\n",
      "[CV] END ................C=0.5, penalty=l1, solver=newton cg; total time=   0.0s\n",
      "[CV] END ....................C=0.5, penalty=l1, solver=lbfgs; total time=   0.0s\n",
      "[CV] END ....................C=0.5, penalty=l1, solver=lbfgs; total time=   0.0s\n",
      "[CV] END ....................C=0.5, penalty=l1, solver=lbfgs; total time=   0.0s\n",
      "[CV] END ....................C=0.5, penalty=l1, solver=lbfgs; total time=   0.0s\n",
      "[CV] END ....................C=0.5, penalty=l1, solver=lbfgs; total time=   0.0s\n",
      "[CV] END ................C=0.5, penalty=l1, solver=liblinear; total time=   0.0s\n",
      "[CV] END ................C=0.5, penalty=l1, solver=liblinear; total time=   0.0s\n",
      "[CV] END ................C=0.5, penalty=l1, solver=liblinear; total time=   0.0s\n",
      "[CV] END ................C=0.5, penalty=l1, solver=liblinear; total time=   0.0s\n",
      "[CV] END ................C=0.5, penalty=l1, solver=liblinear; total time=   0.0s\n",
      "[CV] END ......................C=0.5, penalty=l1, solver=sag; total time=   0.0s\n",
      "[CV] END ......................C=0.5, penalty=l1, solver=sag; total time=   0.0s\n",
      "[CV] END ......................C=0.5, penalty=l1, solver=sag; total time=   0.0s\n",
      "[CV] END ......................C=0.5, penalty=l1, solver=sag; total time=   0.0s\n",
      "[CV] END ......................C=0.5, penalty=l1, solver=sag; total time=   0.0s\n",
      "[CV] END .....................C=0.5, penalty=l1, solver=saga; total time=   0.1s\n",
      "[CV] END .....................C=0.5, penalty=l1, solver=saga; total time=   0.1s\n",
      "[CV] END .....................C=0.5, penalty=l1, solver=saga; total time=   0.1s\n",
      "[CV] END .....................C=0.5, penalty=l1, solver=saga; total time=   0.1s\n",
      "[CV] END .....................C=0.5, penalty=l1, solver=saga; total time=   0.1s\n",
      "[CV] END ................C=0.5, penalty=l2, solver=newton cg; total time=   0.0s\n",
      "[CV] END ................C=0.5, penalty=l2, solver=newton cg; total time=   0.0s\n",
      "[CV] END ................C=0.5, penalty=l2, solver=newton cg; total time=   0.0s\n",
      "[CV] END ................C=0.5, penalty=l2, solver=newton cg; total time=   0.0s\n",
      "[CV] END ................C=0.5, penalty=l2, solver=newton cg; total time=   0.0s\n",
      "[CV] END ....................C=0.5, penalty=l2, solver=lbfgs; total time=   0.1s\n",
      "[CV] END ....................C=0.5, penalty=l2, solver=lbfgs; total time=   0.1s\n",
      "[CV] END ....................C=0.5, penalty=l2, solver=lbfgs; total time=   0.1s\n",
      "[CV] END ....................C=0.5, penalty=l2, solver=lbfgs; total time=   0.1s\n",
      "[CV] END ....................C=0.5, penalty=l2, solver=lbfgs; total time=   0.0s\n",
      "[CV] END ................C=0.5, penalty=l2, solver=liblinear; total time=   0.0s\n",
      "[CV] END ................C=0.5, penalty=l2, solver=liblinear; total time=   0.0s\n",
      "[CV] END ................C=0.5, penalty=l2, solver=liblinear; total time=   0.0s\n",
      "[CV] END ................C=0.5, penalty=l2, solver=liblinear; total time=   0.0s\n",
      "[CV] END ................C=0.5, penalty=l2, solver=liblinear; total time=   0.0s\n",
      "[CV] END ......................C=0.5, penalty=l2, solver=sag; total time=   0.1s\n",
      "[CV] END ......................C=0.5, penalty=l2, solver=sag; total time=   0.1s\n",
      "[CV] END ......................C=0.5, penalty=l2, solver=sag; total time=   0.1s\n",
      "[CV] END ......................C=0.5, penalty=l2, solver=sag; total time=   0.1s\n",
      "[CV] END ......................C=0.5, penalty=l2, solver=sag; total time=   0.1s\n",
      "[CV] END .....................C=0.5, penalty=l2, solver=saga; total time=   0.1s\n",
      "[CV] END .....................C=0.5, penalty=l2, solver=saga; total time=   0.1s\n",
      "[CV] END .....................C=0.5, penalty=l2, solver=saga; total time=   0.1s\n",
      "[CV] END .....................C=0.5, penalty=l2, solver=saga; total time=   0.1s\n",
      "[CV] END .....................C=0.5, penalty=l2, solver=saga; total time=   0.1s\n",
      "[CV] END ........C=0.5, penalty=elasticnet, solver=newton cg; total time=   0.0s\n",
      "[CV] END ........C=0.5, penalty=elasticnet, solver=newton cg; total time=   0.0s\n",
      "[CV] END ........C=0.5, penalty=elasticnet, solver=newton cg; total time=   0.0s\n",
      "[CV] END ........C=0.5, penalty=elasticnet, solver=newton cg; total time=   0.0s\n",
      "[CV] END ........C=0.5, penalty=elasticnet, solver=newton cg; total time=   0.0s\n",
      "[CV] END ............C=0.5, penalty=elasticnet, solver=lbfgs; total time=   0.0s\n",
      "[CV] END ............C=0.5, penalty=elasticnet, solver=lbfgs; total time=   0.0s\n",
      "[CV] END ............C=0.5, penalty=elasticnet, solver=lbfgs; total time=   0.0s\n",
      "[CV] END ............C=0.5, penalty=elasticnet, solver=lbfgs; total time=   0.0s\n",
      "[CV] END ............C=0.5, penalty=elasticnet, solver=lbfgs; total time=   0.0s\n",
      "[CV] END ........C=0.5, penalty=elasticnet, solver=liblinear; total time=   0.0s\n",
      "[CV] END ........C=0.5, penalty=elasticnet, solver=liblinear; total time=   0.0s\n",
      "[CV] END ........C=0.5, penalty=elasticnet, solver=liblinear; total time=   0.0s\n",
      "[CV] END ........C=0.5, penalty=elasticnet, solver=liblinear; total time=   0.0s\n",
      "[CV] END ........C=0.5, penalty=elasticnet, solver=liblinear; total time=   0.0s\n",
      "[CV] END ..............C=0.5, penalty=elasticnet, solver=sag; total time=   0.0s\n",
      "[CV] END ..............C=0.5, penalty=elasticnet, solver=sag; total time=   0.0s\n",
      "[CV] END ..............C=0.5, penalty=elasticnet, solver=sag; total time=   0.0s\n",
      "[CV] END ..............C=0.5, penalty=elasticnet, solver=sag; total time=   0.0s\n",
      "[CV] END ..............C=0.5, penalty=elasticnet, solver=sag; total time=   0.0s\n",
      "[CV] END .............C=0.5, penalty=elasticnet, solver=saga; total time=   0.0s\n",
      "[CV] END .............C=0.5, penalty=elasticnet, solver=saga; total time=   0.0s\n",
      "[CV] END .............C=0.5, penalty=elasticnet, solver=saga; total time=   0.0s\n",
      "[CV] END .............C=0.5, penalty=elasticnet, solver=saga; total time=   0.0s\n",
      "[CV] END .............C=0.5, penalty=elasticnet, solver=saga; total time=   0.0s\n",
      "[CV] END ................C=1, penalty=none, solver=newton cg; total time=   0.0s\n",
      "[CV] END ................C=1, penalty=none, solver=newton cg; total time=   0.0s\n",
      "[CV] END ................C=1, penalty=none, solver=newton cg; total time=   0.0s\n",
      "[CV] END ................C=1, penalty=none, solver=newton cg; total time=   0.0s\n",
      "[CV] END ................C=1, penalty=none, solver=newton cg; total time=   0.0s\n",
      "[CV] END ....................C=1, penalty=none, solver=lbfgs; total time=   0.1s\n",
      "[CV] END ....................C=1, penalty=none, solver=lbfgs; total time=   0.1s\n",
      "[CV] END ....................C=1, penalty=none, solver=lbfgs; total time=   0.1s\n",
      "[CV] END ....................C=1, penalty=none, solver=lbfgs; total time=   0.1s\n",
      "[CV] END ....................C=1, penalty=none, solver=lbfgs; total time=   0.1s\n",
      "[CV] END ................C=1, penalty=none, solver=liblinear; total time=   0.0s\n",
      "[CV] END ................C=1, penalty=none, solver=liblinear; total time=   0.0s\n",
      "[CV] END ................C=1, penalty=none, solver=liblinear; total time=   0.0s\n",
      "[CV] END ................C=1, penalty=none, solver=liblinear; total time=   0.0s\n",
      "[CV] END ................C=1, penalty=none, solver=liblinear; total time=   0.0s\n",
      "[CV] END ......................C=1, penalty=none, solver=sag; total time=   0.2s\n",
      "[CV] END ......................C=1, penalty=none, solver=sag; total time=   0.2s\n",
      "[CV] END ......................C=1, penalty=none, solver=sag; total time=   0.2s\n",
      "[CV] END ......................C=1, penalty=none, solver=sag; total time=   0.2s\n",
      "[CV] END ......................C=1, penalty=none, solver=sag; total time=   0.2s\n"
     ]
    },
    {
     "name": "stdout",
     "output_type": "stream",
     "text": [
      "[CV] END .....................C=1, penalty=none, solver=saga; total time=   0.2s\n",
      "[CV] END .....................C=1, penalty=none, solver=saga; total time=   0.2s\n",
      "[CV] END .....................C=1, penalty=none, solver=saga; total time=   0.2s\n",
      "[CV] END .....................C=1, penalty=none, solver=saga; total time=   0.2s\n",
      "[CV] END .....................C=1, penalty=none, solver=saga; total time=   0.2s\n",
      "[CV] END ..................C=1, penalty=l1, solver=newton cg; total time=   0.0s\n",
      "[CV] END ..................C=1, penalty=l1, solver=newton cg; total time=   0.0s\n",
      "[CV] END ..................C=1, penalty=l1, solver=newton cg; total time=   0.0s\n",
      "[CV] END ..................C=1, penalty=l1, solver=newton cg; total time=   0.0s\n",
      "[CV] END ..................C=1, penalty=l1, solver=newton cg; total time=   0.0s\n",
      "[CV] END ......................C=1, penalty=l1, solver=lbfgs; total time=   0.0s\n",
      "[CV] END ......................C=1, penalty=l1, solver=lbfgs; total time=   0.0s\n",
      "[CV] END ......................C=1, penalty=l1, solver=lbfgs; total time=   0.0s\n",
      "[CV] END ......................C=1, penalty=l1, solver=lbfgs; total time=   0.0s\n",
      "[CV] END ......................C=1, penalty=l1, solver=lbfgs; total time=   0.0s\n",
      "[CV] END ..................C=1, penalty=l1, solver=liblinear; total time=   0.0s\n",
      "[CV] END ..................C=1, penalty=l1, solver=liblinear; total time=   0.0s\n",
      "[CV] END ..................C=1, penalty=l1, solver=liblinear; total time=   0.0s\n",
      "[CV] END ..................C=1, penalty=l1, solver=liblinear; total time=   0.0s\n",
      "[CV] END ..................C=1, penalty=l1, solver=liblinear; total time=   0.0s\n",
      "[CV] END ........................C=1, penalty=l1, solver=sag; total time=   0.0s\n",
      "[CV] END ........................C=1, penalty=l1, solver=sag; total time=   0.0s\n",
      "[CV] END ........................C=1, penalty=l1, solver=sag; total time=   0.0s\n",
      "[CV] END ........................C=1, penalty=l1, solver=sag; total time=   0.0s\n",
      "[CV] END ........................C=1, penalty=l1, solver=sag; total time=   0.0s\n",
      "[CV] END .......................C=1, penalty=l1, solver=saga; total time=   0.1s\n",
      "[CV] END .......................C=1, penalty=l1, solver=saga; total time=   0.1s\n",
      "[CV] END .......................C=1, penalty=l1, solver=saga; total time=   0.1s\n",
      "[CV] END .......................C=1, penalty=l1, solver=saga; total time=   0.1s\n",
      "[CV] END .......................C=1, penalty=l1, solver=saga; total time=   0.1s\n",
      "[CV] END ..................C=1, penalty=l2, solver=newton cg; total time=   0.0s\n",
      "[CV] END ..................C=1, penalty=l2, solver=newton cg; total time=   0.0s\n",
      "[CV] END ..................C=1, penalty=l2, solver=newton cg; total time=   0.0s\n",
      "[CV] END ..................C=1, penalty=l2, solver=newton cg; total time=   0.0s\n",
      "[CV] END ..................C=1, penalty=l2, solver=newton cg; total time=   0.0s\n",
      "[CV] END ......................C=1, penalty=l2, solver=lbfgs; total time=   0.1s\n",
      "[CV] END ......................C=1, penalty=l2, solver=lbfgs; total time=   0.1s\n",
      "[CV] END ......................C=1, penalty=l2, solver=lbfgs; total time=   0.1s\n",
      "[CV] END ......................C=1, penalty=l2, solver=lbfgs; total time=   0.1s\n",
      "[CV] END ......................C=1, penalty=l2, solver=lbfgs; total time=   0.1s\n",
      "[CV] END ..................C=1, penalty=l2, solver=liblinear; total time=   0.0s\n",
      "[CV] END ..................C=1, penalty=l2, solver=liblinear; total time=   0.0s\n",
      "[CV] END ..................C=1, penalty=l2, solver=liblinear; total time=   0.0s\n",
      "[CV] END ..................C=1, penalty=l2, solver=liblinear; total time=   0.0s\n",
      "[CV] END ..................C=1, penalty=l2, solver=liblinear; total time=   0.0s\n",
      "[CV] END ........................C=1, penalty=l2, solver=sag; total time=   0.1s\n",
      "[CV] END ........................C=1, penalty=l2, solver=sag; total time=   0.1s\n",
      "[CV] END ........................C=1, penalty=l2, solver=sag; total time=   0.1s\n",
      "[CV] END ........................C=1, penalty=l2, solver=sag; total time=   0.1s\n",
      "[CV] END ........................C=1, penalty=l2, solver=sag; total time=   0.1s\n",
      "[CV] END .......................C=1, penalty=l2, solver=saga; total time=   0.1s\n",
      "[CV] END .......................C=1, penalty=l2, solver=saga; total time=   0.1s\n",
      "[CV] END .......................C=1, penalty=l2, solver=saga; total time=   0.1s\n",
      "[CV] END .......................C=1, penalty=l2, solver=saga; total time=   0.1s\n",
      "[CV] END .......................C=1, penalty=l2, solver=saga; total time=   0.1s\n",
      "[CV] END ..........C=1, penalty=elasticnet, solver=newton cg; total time=   0.0s\n",
      "[CV] END ..........C=1, penalty=elasticnet, solver=newton cg; total time=   0.0s\n",
      "[CV] END ..........C=1, penalty=elasticnet, solver=newton cg; total time=   0.0s\n",
      "[CV] END ..........C=1, penalty=elasticnet, solver=newton cg; total time=   0.0s\n",
      "[CV] END ..........C=1, penalty=elasticnet, solver=newton cg; total time=   0.0s\n",
      "[CV] END ..............C=1, penalty=elasticnet, solver=lbfgs; total time=   0.0s\n",
      "[CV] END ..............C=1, penalty=elasticnet, solver=lbfgs; total time=   0.0s\n",
      "[CV] END ..............C=1, penalty=elasticnet, solver=lbfgs; total time=   0.0s\n",
      "[CV] END ..............C=1, penalty=elasticnet, solver=lbfgs; total time=   0.0s\n",
      "[CV] END ..............C=1, penalty=elasticnet, solver=lbfgs; total time=   0.0s\n",
      "[CV] END ..........C=1, penalty=elasticnet, solver=liblinear; total time=   0.0s\n",
      "[CV] END ..........C=1, penalty=elasticnet, solver=liblinear; total time=   0.0s\n",
      "[CV] END ..........C=1, penalty=elasticnet, solver=liblinear; total time=   0.0s\n",
      "[CV] END ..........C=1, penalty=elasticnet, solver=liblinear; total time=   0.0s\n",
      "[CV] END ..........C=1, penalty=elasticnet, solver=liblinear; total time=   0.0s\n",
      "[CV] END ................C=1, penalty=elasticnet, solver=sag; total time=   0.0s\n",
      "[CV] END ................C=1, penalty=elasticnet, solver=sag; total time=   0.0s\n",
      "[CV] END ................C=1, penalty=elasticnet, solver=sag; total time=   0.0s\n",
      "[CV] END ................C=1, penalty=elasticnet, solver=sag; total time=   0.0s\n",
      "[CV] END ................C=1, penalty=elasticnet, solver=sag; total time=   0.0s\n",
      "[CV] END ...............C=1, penalty=elasticnet, solver=saga; total time=   0.0s\n",
      "[CV] END ...............C=1, penalty=elasticnet, solver=saga; total time=   0.0s\n",
      "[CV] END ...............C=1, penalty=elasticnet, solver=saga; total time=   0.0s\n",
      "[CV] END ...............C=1, penalty=elasticnet, solver=saga; total time=   0.0s\n",
      "[CV] END ...............C=1, penalty=elasticnet, solver=saga; total time=   0.0s\n",
      "[CV] END ...............C=10, penalty=none, solver=newton cg; total time=   0.0s\n",
      "[CV] END ...............C=10, penalty=none, solver=newton cg; total time=   0.0s\n",
      "[CV] END ...............C=10, penalty=none, solver=newton cg; total time=   0.0s\n",
      "[CV] END ...............C=10, penalty=none, solver=newton cg; total time=   0.0s\n",
      "[CV] END ...............C=10, penalty=none, solver=newton cg; total time=   0.0s\n",
      "[CV] END ...................C=10, penalty=none, solver=lbfgs; total time=   0.1s\n",
      "[CV] END ...................C=10, penalty=none, solver=lbfgs; total time=   0.1s\n",
      "[CV] END ...................C=10, penalty=none, solver=lbfgs; total time=   0.1s\n",
      "[CV] END ...................C=10, penalty=none, solver=lbfgs; total time=   0.1s\n",
      "[CV] END ...................C=10, penalty=none, solver=lbfgs; total time=   0.1s\n",
      "[CV] END ...............C=10, penalty=none, solver=liblinear; total time=   0.0s\n",
      "[CV] END ...............C=10, penalty=none, solver=liblinear; total time=   0.0s\n",
      "[CV] END ...............C=10, penalty=none, solver=liblinear; total time=   0.0s\n",
      "[CV] END ...............C=10, penalty=none, solver=liblinear; total time=   0.0s\n",
      "[CV] END ...............C=10, penalty=none, solver=liblinear; total time=   0.0s\n",
      "[CV] END .....................C=10, penalty=none, solver=sag; total time=   0.2s\n",
      "[CV] END .....................C=10, penalty=none, solver=sag; total time=   0.2s\n",
      "[CV] END .....................C=10, penalty=none, solver=sag; total time=   0.2s\n",
      "[CV] END .....................C=10, penalty=none, solver=sag; total time=   0.2s\n",
      "[CV] END .....................C=10, penalty=none, solver=sag; total time=   0.2s\n",
      "[CV] END ....................C=10, penalty=none, solver=saga; total time=   0.2s\n",
      "[CV] END ....................C=10, penalty=none, solver=saga; total time=   0.3s\n"
     ]
    },
    {
     "name": "stdout",
     "output_type": "stream",
     "text": [
      "[CV] END ....................C=10, penalty=none, solver=saga; total time=   0.2s\n",
      "[CV] END ....................C=10, penalty=none, solver=saga; total time=   0.2s\n",
      "[CV] END ....................C=10, penalty=none, solver=saga; total time=   0.2s\n",
      "[CV] END .................C=10, penalty=l1, solver=newton cg; total time=   0.0s\n",
      "[CV] END .................C=10, penalty=l1, solver=newton cg; total time=   0.0s\n",
      "[CV] END .................C=10, penalty=l1, solver=newton cg; total time=   0.0s\n",
      "[CV] END .................C=10, penalty=l1, solver=newton cg; total time=   0.0s\n",
      "[CV] END .................C=10, penalty=l1, solver=newton cg; total time=   0.0s\n",
      "[CV] END .....................C=10, penalty=l1, solver=lbfgs; total time=   0.0s\n",
      "[CV] END .....................C=10, penalty=l1, solver=lbfgs; total time=   0.0s\n",
      "[CV] END .....................C=10, penalty=l1, solver=lbfgs; total time=   0.0s\n",
      "[CV] END .....................C=10, penalty=l1, solver=lbfgs; total time=   0.0s\n",
      "[CV] END .....................C=10, penalty=l1, solver=lbfgs; total time=   0.0s\n",
      "[CV] END .................C=10, penalty=l1, solver=liblinear; total time=   0.2s\n",
      "[CV] END .................C=10, penalty=l1, solver=liblinear; total time=   0.1s\n",
      "[CV] END .................C=10, penalty=l1, solver=liblinear; total time=   0.2s\n",
      "[CV] END .................C=10, penalty=l1, solver=liblinear; total time=   0.2s\n",
      "[CV] END .................C=10, penalty=l1, solver=liblinear; total time=   0.1s\n",
      "[CV] END .......................C=10, penalty=l1, solver=sag; total time=   0.0s\n",
      "[CV] END .......................C=10, penalty=l1, solver=sag; total time=   0.0s\n",
      "[CV] END .......................C=10, penalty=l1, solver=sag; total time=   0.0s\n",
      "[CV] END .......................C=10, penalty=l1, solver=sag; total time=   0.0s\n",
      "[CV] END .......................C=10, penalty=l1, solver=sag; total time=   0.0s\n",
      "[CV] END ......................C=10, penalty=l1, solver=saga; total time=   0.3s\n",
      "[CV] END ......................C=10, penalty=l1, solver=saga; total time=   0.3s\n",
      "[CV] END ......................C=10, penalty=l1, solver=saga; total time=   0.3s\n",
      "[CV] END ......................C=10, penalty=l1, solver=saga; total time=   0.3s\n",
      "[CV] END ......................C=10, penalty=l1, solver=saga; total time=   0.3s\n",
      "[CV] END .................C=10, penalty=l2, solver=newton cg; total time=   0.0s\n",
      "[CV] END .................C=10, penalty=l2, solver=newton cg; total time=   0.0s\n",
      "[CV] END .................C=10, penalty=l2, solver=newton cg; total time=   0.0s\n",
      "[CV] END .................C=10, penalty=l2, solver=newton cg; total time=   0.0s\n",
      "[CV] END .................C=10, penalty=l2, solver=newton cg; total time=   0.0s\n",
      "[CV] END .....................C=10, penalty=l2, solver=lbfgs; total time=   0.1s\n",
      "[CV] END .....................C=10, penalty=l2, solver=lbfgs; total time=   0.1s\n",
      "[CV] END .....................C=10, penalty=l2, solver=lbfgs; total time=   0.1s\n",
      "[CV] END .....................C=10, penalty=l2, solver=lbfgs; total time=   0.1s\n",
      "[CV] END .....................C=10, penalty=l2, solver=lbfgs; total time=   0.1s\n",
      "[CV] END .................C=10, penalty=l2, solver=liblinear; total time=   0.0s\n",
      "[CV] END .................C=10, penalty=l2, solver=liblinear; total time=   0.0s\n",
      "[CV] END .................C=10, penalty=l2, solver=liblinear; total time=   0.0s\n",
      "[CV] END .................C=10, penalty=l2, solver=liblinear; total time=   0.0s\n",
      "[CV] END .................C=10, penalty=l2, solver=liblinear; total time=   0.0s\n",
      "[CV] END .......................C=10, penalty=l2, solver=sag; total time=   0.2s\n",
      "[CV] END .......................C=10, penalty=l2, solver=sag; total time=   0.2s\n",
      "[CV] END .......................C=10, penalty=l2, solver=sag; total time=   0.2s\n",
      "[CV] END .......................C=10, penalty=l2, solver=sag; total time=   0.2s\n",
      "[CV] END .......................C=10, penalty=l2, solver=sag; total time=   0.2s\n",
      "[CV] END ......................C=10, penalty=l2, solver=saga; total time=   0.2s\n",
      "[CV] END ......................C=10, penalty=l2, solver=saga; total time=   0.2s\n",
      "[CV] END ......................C=10, penalty=l2, solver=saga; total time=   0.2s\n",
      "[CV] END ......................C=10, penalty=l2, solver=saga; total time=   0.2s\n",
      "[CV] END ......................C=10, penalty=l2, solver=saga; total time=   0.2s\n",
      "[CV] END .........C=10, penalty=elasticnet, solver=newton cg; total time=   0.0s\n",
      "[CV] END .........C=10, penalty=elasticnet, solver=newton cg; total time=   0.0s\n",
      "[CV] END .........C=10, penalty=elasticnet, solver=newton cg; total time=   0.0s\n",
      "[CV] END .........C=10, penalty=elasticnet, solver=newton cg; total time=   0.0s\n",
      "[CV] END .........C=10, penalty=elasticnet, solver=newton cg; total time=   0.0s\n",
      "[CV] END .............C=10, penalty=elasticnet, solver=lbfgs; total time=   0.0s\n",
      "[CV] END .............C=10, penalty=elasticnet, solver=lbfgs; total time=   0.0s\n",
      "[CV] END .............C=10, penalty=elasticnet, solver=lbfgs; total time=   0.0s\n",
      "[CV] END .............C=10, penalty=elasticnet, solver=lbfgs; total time=   0.0s\n",
      "[CV] END .............C=10, penalty=elasticnet, solver=lbfgs; total time=   0.0s\n",
      "[CV] END .........C=10, penalty=elasticnet, solver=liblinear; total time=   0.0s\n",
      "[CV] END .........C=10, penalty=elasticnet, solver=liblinear; total time=   0.0s\n",
      "[CV] END .........C=10, penalty=elasticnet, solver=liblinear; total time=   0.0s\n",
      "[CV] END .........C=10, penalty=elasticnet, solver=liblinear; total time=   0.0s\n",
      "[CV] END .........C=10, penalty=elasticnet, solver=liblinear; total time=   0.0s\n",
      "[CV] END ...............C=10, penalty=elasticnet, solver=sag; total time=   0.0s\n",
      "[CV] END ...............C=10, penalty=elasticnet, solver=sag; total time=   0.0s\n",
      "[CV] END ...............C=10, penalty=elasticnet, solver=sag; total time=   0.0s\n",
      "[CV] END ...............C=10, penalty=elasticnet, solver=sag; total time=   0.0s\n",
      "[CV] END ...............C=10, penalty=elasticnet, solver=sag; total time=   0.0s\n",
      "[CV] END ..............C=10, penalty=elasticnet, solver=saga; total time=   0.0s\n",
      "[CV] END ..............C=10, penalty=elasticnet, solver=saga; total time=   0.0s\n",
      "[CV] END ..............C=10, penalty=elasticnet, solver=saga; total time=   0.0s\n",
      "[CV] END ..............C=10, penalty=elasticnet, solver=saga; total time=   0.0s\n",
      "[CV] END ..............C=10, penalty=elasticnet, solver=saga; total time=   0.0s\n",
      "[CV] END ...............C=20, penalty=none, solver=newton cg; total time=   0.0s\n",
      "[CV] END ...............C=20, penalty=none, solver=newton cg; total time=   0.0s\n",
      "[CV] END ...............C=20, penalty=none, solver=newton cg; total time=   0.0s\n",
      "[CV] END ...............C=20, penalty=none, solver=newton cg; total time=   0.0s\n",
      "[CV] END ...............C=20, penalty=none, solver=newton cg; total time=   0.0s\n",
      "[CV] END ...................C=20, penalty=none, solver=lbfgs; total time=   0.1s\n",
      "[CV] END ...................C=20, penalty=none, solver=lbfgs; total time=   0.1s\n",
      "[CV] END ...................C=20, penalty=none, solver=lbfgs; total time=   0.1s\n",
      "[CV] END ...................C=20, penalty=none, solver=lbfgs; total time=   0.1s\n",
      "[CV] END ...................C=20, penalty=none, solver=lbfgs; total time=   0.1s\n",
      "[CV] END ...............C=20, penalty=none, solver=liblinear; total time=   0.0s\n",
      "[CV] END ...............C=20, penalty=none, solver=liblinear; total time=   0.0s\n",
      "[CV] END ...............C=20, penalty=none, solver=liblinear; total time=   0.0s\n",
      "[CV] END ...............C=20, penalty=none, solver=liblinear; total time=   0.0s\n",
      "[CV] END ...............C=20, penalty=none, solver=liblinear; total time=   0.0s\n",
      "[CV] END .....................C=20, penalty=none, solver=sag; total time=   0.2s\n",
      "[CV] END .....................C=20, penalty=none, solver=sag; total time=   0.2s\n",
      "[CV] END .....................C=20, penalty=none, solver=sag; total time=   0.2s\n",
      "[CV] END .....................C=20, penalty=none, solver=sag; total time=   0.2s\n",
      "[CV] END .....................C=20, penalty=none, solver=sag; total time=   0.2s\n",
      "[CV] END ....................C=20, penalty=none, solver=saga; total time=   0.2s\n",
      "[CV] END ....................C=20, penalty=none, solver=saga; total time=   0.2s\n",
      "[CV] END ....................C=20, penalty=none, solver=saga; total time=   0.2s\n",
      "[CV] END ....................C=20, penalty=none, solver=saga; total time=   0.2s\n"
     ]
    },
    {
     "name": "stdout",
     "output_type": "stream",
     "text": [
      "[CV] END ....................C=20, penalty=none, solver=saga; total time=   0.2s\n",
      "[CV] END .................C=20, penalty=l1, solver=newton cg; total time=   0.0s\n",
      "[CV] END .................C=20, penalty=l1, solver=newton cg; total time=   0.0s\n",
      "[CV] END .................C=20, penalty=l1, solver=newton cg; total time=   0.0s\n",
      "[CV] END .................C=20, penalty=l1, solver=newton cg; total time=   0.0s\n",
      "[CV] END .................C=20, penalty=l1, solver=newton cg; total time=   0.0s\n",
      "[CV] END .....................C=20, penalty=l1, solver=lbfgs; total time=   0.0s\n",
      "[CV] END .....................C=20, penalty=l1, solver=lbfgs; total time=   0.0s\n",
      "[CV] END .....................C=20, penalty=l1, solver=lbfgs; total time=   0.0s\n",
      "[CV] END .....................C=20, penalty=l1, solver=lbfgs; total time=   0.0s\n",
      "[CV] END .....................C=20, penalty=l1, solver=lbfgs; total time=   0.0s\n",
      "[CV] END .................C=20, penalty=l1, solver=liblinear; total time=   0.1s\n",
      "[CV] END .................C=20, penalty=l1, solver=liblinear; total time=   0.1s\n",
      "[CV] END .................C=20, penalty=l1, solver=liblinear; total time=   0.2s\n",
      "[CV] END .................C=20, penalty=l1, solver=liblinear; total time=   0.2s\n",
      "[CV] END .................C=20, penalty=l1, solver=liblinear; total time=   0.2s\n",
      "[CV] END .......................C=20, penalty=l1, solver=sag; total time=   0.0s\n",
      "[CV] END .......................C=20, penalty=l1, solver=sag; total time=   0.0s\n",
      "[CV] END .......................C=20, penalty=l1, solver=sag; total time=   0.0s\n",
      "[CV] END .......................C=20, penalty=l1, solver=sag; total time=   0.0s\n",
      "[CV] END .......................C=20, penalty=l1, solver=sag; total time=   0.0s\n",
      "[CV] END ......................C=20, penalty=l1, solver=saga; total time=   0.3s\n",
      "[CV] END ......................C=20, penalty=l1, solver=saga; total time=   0.3s\n",
      "[CV] END ......................C=20, penalty=l1, solver=saga; total time=   0.3s\n",
      "[CV] END ......................C=20, penalty=l1, solver=saga; total time=   0.3s\n",
      "[CV] END ......................C=20, penalty=l1, solver=saga; total time=   0.3s\n",
      "[CV] END .................C=20, penalty=l2, solver=newton cg; total time=   0.0s\n",
      "[CV] END .................C=20, penalty=l2, solver=newton cg; total time=   0.0s\n",
      "[CV] END .................C=20, penalty=l2, solver=newton cg; total time=   0.0s\n",
      "[CV] END .................C=20, penalty=l2, solver=newton cg; total time=   0.0s\n",
      "[CV] END .................C=20, penalty=l2, solver=newton cg; total time=   0.0s\n",
      "[CV] END .....................C=20, penalty=l2, solver=lbfgs; total time=   0.1s\n",
      "[CV] END .....................C=20, penalty=l2, solver=lbfgs; total time=   0.1s\n",
      "[CV] END .....................C=20, penalty=l2, solver=lbfgs; total time=   0.1s\n",
      "[CV] END .....................C=20, penalty=l2, solver=lbfgs; total time=   0.1s\n",
      "[CV] END .....................C=20, penalty=l2, solver=lbfgs; total time=   0.1s\n",
      "[CV] END .................C=20, penalty=l2, solver=liblinear; total time=   0.0s\n",
      "[CV] END .................C=20, penalty=l2, solver=liblinear; total time=   0.0s\n",
      "[CV] END .................C=20, penalty=l2, solver=liblinear; total time=   0.0s\n",
      "[CV] END .................C=20, penalty=l2, solver=liblinear; total time=   0.0s\n",
      "[CV] END .................C=20, penalty=l2, solver=liblinear; total time=   0.0s\n",
      "[CV] END .......................C=20, penalty=l2, solver=sag; total time=   0.2s\n",
      "[CV] END .......................C=20, penalty=l2, solver=sag; total time=   0.2s\n",
      "[CV] END .......................C=20, penalty=l2, solver=sag; total time=   0.2s\n",
      "[CV] END .......................C=20, penalty=l2, solver=sag; total time=   0.2s\n",
      "[CV] END .......................C=20, penalty=l2, solver=sag; total time=   0.2s\n",
      "[CV] END ......................C=20, penalty=l2, solver=saga; total time=   0.2s\n",
      "[CV] END ......................C=20, penalty=l2, solver=saga; total time=   0.2s\n",
      "[CV] END ......................C=20, penalty=l2, solver=saga; total time=   0.2s\n",
      "[CV] END ......................C=20, penalty=l2, solver=saga; total time=   0.2s\n",
      "[CV] END ......................C=20, penalty=l2, solver=saga; total time=   0.2s\n",
      "[CV] END .........C=20, penalty=elasticnet, solver=newton cg; total time=   0.0s\n",
      "[CV] END .........C=20, penalty=elasticnet, solver=newton cg; total time=   0.0s\n",
      "[CV] END .........C=20, penalty=elasticnet, solver=newton cg; total time=   0.0s\n",
      "[CV] END .........C=20, penalty=elasticnet, solver=newton cg; total time=   0.0s\n",
      "[CV] END .........C=20, penalty=elasticnet, solver=newton cg; total time=   0.0s\n",
      "[CV] END .............C=20, penalty=elasticnet, solver=lbfgs; total time=   0.0s\n",
      "[CV] END .............C=20, penalty=elasticnet, solver=lbfgs; total time=   0.0s\n",
      "[CV] END .............C=20, penalty=elasticnet, solver=lbfgs; total time=   0.0s\n",
      "[CV] END .............C=20, penalty=elasticnet, solver=lbfgs; total time=   0.0s\n",
      "[CV] END .............C=20, penalty=elasticnet, solver=lbfgs; total time=   0.0s\n",
      "[CV] END .........C=20, penalty=elasticnet, solver=liblinear; total time=   0.0s\n",
      "[CV] END .........C=20, penalty=elasticnet, solver=liblinear; total time=   0.0s\n",
      "[CV] END .........C=20, penalty=elasticnet, solver=liblinear; total time=   0.0s\n",
      "[CV] END .........C=20, penalty=elasticnet, solver=liblinear; total time=   0.0s\n",
      "[CV] END .........C=20, penalty=elasticnet, solver=liblinear; total time=   0.0s\n",
      "[CV] END ...............C=20, penalty=elasticnet, solver=sag; total time=   0.0s\n",
      "[CV] END ...............C=20, penalty=elasticnet, solver=sag; total time=   0.0s\n",
      "[CV] END ...............C=20, penalty=elasticnet, solver=sag; total time=   0.0s\n",
      "[CV] END ...............C=20, penalty=elasticnet, solver=sag; total time=   0.0s\n",
      "[CV] END ...............C=20, penalty=elasticnet, solver=sag; total time=   0.0s\n",
      "[CV] END ..............C=20, penalty=elasticnet, solver=saga; total time=   0.0s\n",
      "[CV] END ..............C=20, penalty=elasticnet, solver=saga; total time=   0.0s\n",
      "[CV] END ..............C=20, penalty=elasticnet, solver=saga; total time=   0.0s\n",
      "[CV] END ..............C=20, penalty=elasticnet, solver=saga; total time=   0.0s\n",
      "[CV] END ..............C=20, penalty=elasticnet, solver=saga; total time=   0.0s\n",
      "[CV] END ...............C=50, penalty=none, solver=newton cg; total time=   0.0s\n",
      "[CV] END ...............C=50, penalty=none, solver=newton cg; total time=   0.0s\n",
      "[CV] END ...............C=50, penalty=none, solver=newton cg; total time=   0.0s\n",
      "[CV] END ...............C=50, penalty=none, solver=newton cg; total time=   0.0s\n",
      "[CV] END ...............C=50, penalty=none, solver=newton cg; total time=   0.0s\n",
      "[CV] END ...................C=50, penalty=none, solver=lbfgs; total time=   0.1s\n",
      "[CV] END ...................C=50, penalty=none, solver=lbfgs; total time=   0.1s\n",
      "[CV] END ...................C=50, penalty=none, solver=lbfgs; total time=   0.1s\n",
      "[CV] END ...................C=50, penalty=none, solver=lbfgs; total time=   0.1s\n",
      "[CV] END ...................C=50, penalty=none, solver=lbfgs; total time=   0.1s\n",
      "[CV] END ...............C=50, penalty=none, solver=liblinear; total time=   0.0s\n",
      "[CV] END ...............C=50, penalty=none, solver=liblinear; total time=   0.0s\n",
      "[CV] END ...............C=50, penalty=none, solver=liblinear; total time=   0.0s\n",
      "[CV] END ...............C=50, penalty=none, solver=liblinear; total time=   0.0s\n",
      "[CV] END ...............C=50, penalty=none, solver=liblinear; total time=   0.0s\n",
      "[CV] END .....................C=50, penalty=none, solver=sag; total time=   0.2s\n",
      "[CV] END .....................C=50, penalty=none, solver=sag; total time=   0.2s\n",
      "[CV] END .....................C=50, penalty=none, solver=sag; total time=   0.2s\n",
      "[CV] END .....................C=50, penalty=none, solver=sag; total time=   0.2s\n",
      "[CV] END .....................C=50, penalty=none, solver=sag; total time=   0.2s\n",
      "[CV] END ....................C=50, penalty=none, solver=saga; total time=   0.2s\n",
      "[CV] END ....................C=50, penalty=none, solver=saga; total time=   0.2s\n",
      "[CV] END ....................C=50, penalty=none, solver=saga; total time=   0.2s\n",
      "[CV] END ....................C=50, penalty=none, solver=saga; total time=   0.2s\n",
      "[CV] END ....................C=50, penalty=none, solver=saga; total time=   0.3s\n",
      "[CV] END .................C=50, penalty=l1, solver=newton cg; total time=   0.0s\n",
      "[CV] END .................C=50, penalty=l1, solver=newton cg; total time=   0.0s\n",
      "[CV] END .................C=50, penalty=l1, solver=newton cg; total time=   0.0s\n",
      "[CV] END .................C=50, penalty=l1, solver=newton cg; total time=   0.0s\n",
      "[CV] END .................C=50, penalty=l1, solver=newton cg; total time=   0.0s\n",
      "[CV] END .....................C=50, penalty=l1, solver=lbfgs; total time=   0.0s\n",
      "[CV] END .....................C=50, penalty=l1, solver=lbfgs; total time=   0.0s\n",
      "[CV] END .....................C=50, penalty=l1, solver=lbfgs; total time=   0.0s\n",
      "[CV] END .....................C=50, penalty=l1, solver=lbfgs; total time=   0.0s\n",
      "[CV] END .....................C=50, penalty=l1, solver=lbfgs; total time=   0.0s\n",
      "[CV] END .................C=50, penalty=l1, solver=liblinear; total time=   0.1s\n"
     ]
    },
    {
     "name": "stdout",
     "output_type": "stream",
     "text": [
      "[CV] END .................C=50, penalty=l1, solver=liblinear; total time=   0.2s\n",
      "[CV] END .................C=50, penalty=l1, solver=liblinear; total time=   0.2s\n",
      "[CV] END .................C=50, penalty=l1, solver=liblinear; total time=   0.2s\n",
      "[CV] END .................C=50, penalty=l1, solver=liblinear; total time=   0.2s\n",
      "[CV] END .......................C=50, penalty=l1, solver=sag; total time=   0.0s\n",
      "[CV] END .......................C=50, penalty=l1, solver=sag; total time=   0.0s\n",
      "[CV] END .......................C=50, penalty=l1, solver=sag; total time=   0.0s\n",
      "[CV] END .......................C=50, penalty=l1, solver=sag; total time=   0.0s\n",
      "[CV] END .......................C=50, penalty=l1, solver=sag; total time=   0.0s\n",
      "[CV] END ......................C=50, penalty=l1, solver=saga; total time=   0.3s\n",
      "[CV] END ......................C=50, penalty=l1, solver=saga; total time=   0.3s\n",
      "[CV] END ......................C=50, penalty=l1, solver=saga; total time=   0.3s\n",
      "[CV] END ......................C=50, penalty=l1, solver=saga; total time=   0.3s\n",
      "[CV] END ......................C=50, penalty=l1, solver=saga; total time=   0.3s\n",
      "[CV] END .................C=50, penalty=l2, solver=newton cg; total time=   0.0s\n",
      "[CV] END .................C=50, penalty=l2, solver=newton cg; total time=   0.0s\n",
      "[CV] END .................C=50, penalty=l2, solver=newton cg; total time=   0.0s\n",
      "[CV] END .................C=50, penalty=l2, solver=newton cg; total time=   0.0s\n",
      "[CV] END .................C=50, penalty=l2, solver=newton cg; total time=   0.0s\n",
      "[CV] END .....................C=50, penalty=l2, solver=lbfgs; total time=   0.1s\n",
      "[CV] END .....................C=50, penalty=l2, solver=lbfgs; total time=   0.1s\n",
      "[CV] END .....................C=50, penalty=l2, solver=lbfgs; total time=   0.1s\n",
      "[CV] END .....................C=50, penalty=l2, solver=lbfgs; total time=   0.1s\n",
      "[CV] END .....................C=50, penalty=l2, solver=lbfgs; total time=   0.1s\n",
      "[CV] END .................C=50, penalty=l2, solver=liblinear; total time=   0.0s\n",
      "[CV] END .................C=50, penalty=l2, solver=liblinear; total time=   0.0s\n",
      "[CV] END .................C=50, penalty=l2, solver=liblinear; total time=   0.0s\n",
      "[CV] END .................C=50, penalty=l2, solver=liblinear; total time=   0.0s\n",
      "[CV] END .................C=50, penalty=l2, solver=liblinear; total time=   0.0s\n",
      "[CV] END .......................C=50, penalty=l2, solver=sag; total time=   0.3s\n",
      "[CV] END .......................C=50, penalty=l2, solver=sag; total time=   0.2s\n",
      "[CV] END .......................C=50, penalty=l2, solver=sag; total time=   0.2s\n",
      "[CV] END .......................C=50, penalty=l2, solver=sag; total time=   0.2s\n",
      "[CV] END .......................C=50, penalty=l2, solver=sag; total time=   0.2s\n",
      "[CV] END ......................C=50, penalty=l2, solver=saga; total time=   0.2s\n",
      "[CV] END ......................C=50, penalty=l2, solver=saga; total time=   0.2s\n",
      "[CV] END ......................C=50, penalty=l2, solver=saga; total time=   0.2s\n",
      "[CV] END ......................C=50, penalty=l2, solver=saga; total time=   0.2s\n",
      "[CV] END ......................C=50, penalty=l2, solver=saga; total time=   0.2s\n",
      "[CV] END .........C=50, penalty=elasticnet, solver=newton cg; total time=   0.0s\n",
      "[CV] END .........C=50, penalty=elasticnet, solver=newton cg; total time=   0.0s\n",
      "[CV] END .........C=50, penalty=elasticnet, solver=newton cg; total time=   0.0s\n",
      "[CV] END .........C=50, penalty=elasticnet, solver=newton cg; total time=   0.0s\n",
      "[CV] END .........C=50, penalty=elasticnet, solver=newton cg; total time=   0.0s\n",
      "[CV] END .............C=50, penalty=elasticnet, solver=lbfgs; total time=   0.0s\n",
      "[CV] END .............C=50, penalty=elasticnet, solver=lbfgs; total time=   0.0s\n",
      "[CV] END .............C=50, penalty=elasticnet, solver=lbfgs; total time=   0.0s\n",
      "[CV] END .............C=50, penalty=elasticnet, solver=lbfgs; total time=   0.0s\n",
      "[CV] END .............C=50, penalty=elasticnet, solver=lbfgs; total time=   0.0s\n",
      "[CV] END .........C=50, penalty=elasticnet, solver=liblinear; total time=   0.0s\n",
      "[CV] END .........C=50, penalty=elasticnet, solver=liblinear; total time=   0.0s\n",
      "[CV] END .........C=50, penalty=elasticnet, solver=liblinear; total time=   0.0s\n",
      "[CV] END .........C=50, penalty=elasticnet, solver=liblinear; total time=   0.0s\n",
      "[CV] END .........C=50, penalty=elasticnet, solver=liblinear; total time=   0.0s\n",
      "[CV] END ...............C=50, penalty=elasticnet, solver=sag; total time=   0.0s\n",
      "[CV] END ...............C=50, penalty=elasticnet, solver=sag; total time=   0.0s\n",
      "[CV] END ...............C=50, penalty=elasticnet, solver=sag; total time=   0.0s\n",
      "[CV] END ...............C=50, penalty=elasticnet, solver=sag; total time=   0.0s\n",
      "[CV] END ...............C=50, penalty=elasticnet, solver=sag; total time=   0.0s\n",
      "[CV] END ..............C=50, penalty=elasticnet, solver=saga; total time=   0.0s\n",
      "[CV] END ..............C=50, penalty=elasticnet, solver=saga; total time=   0.0s\n",
      "[CV] END ..............C=50, penalty=elasticnet, solver=saga; total time=   0.0s\n",
      "[CV] END ..............C=50, penalty=elasticnet, solver=saga; total time=   0.0s\n",
      "[CV] END ..............C=50, penalty=elasticnet, solver=saga; total time=   0.0s\n",
      "[CV] END ..............C=100, penalty=none, solver=newton cg; total time=   0.0s\n",
      "[CV] END ..............C=100, penalty=none, solver=newton cg; total time=   0.0s\n",
      "[CV] END ..............C=100, penalty=none, solver=newton cg; total time=   0.0s\n",
      "[CV] END ..............C=100, penalty=none, solver=newton cg; total time=   0.0s\n",
      "[CV] END ..............C=100, penalty=none, solver=newton cg; total time=   0.0s\n",
      "[CV] END ..................C=100, penalty=none, solver=lbfgs; total time=   0.1s\n",
      "[CV] END ..................C=100, penalty=none, solver=lbfgs; total time=   0.1s\n",
      "[CV] END ..................C=100, penalty=none, solver=lbfgs; total time=   0.1s\n",
      "[CV] END ..................C=100, penalty=none, solver=lbfgs; total time=   0.1s\n",
      "[CV] END ..................C=100, penalty=none, solver=lbfgs; total time=   0.1s\n",
      "[CV] END ..............C=100, penalty=none, solver=liblinear; total time=   0.0s\n",
      "[CV] END ..............C=100, penalty=none, solver=liblinear; total time=   0.0s\n",
      "[CV] END ..............C=100, penalty=none, solver=liblinear; total time=   0.0s\n",
      "[CV] END ..............C=100, penalty=none, solver=liblinear; total time=   0.0s\n",
      "[CV] END ..............C=100, penalty=none, solver=liblinear; total time=   0.0s\n",
      "[CV] END ....................C=100, penalty=none, solver=sag; total time=   0.2s\n",
      "[CV] END ....................C=100, penalty=none, solver=sag; total time=   0.2s\n",
      "[CV] END ....................C=100, penalty=none, solver=sag; total time=   0.2s\n",
      "[CV] END ....................C=100, penalty=none, solver=sag; total time=   0.2s\n",
      "[CV] END ....................C=100, penalty=none, solver=sag; total time=   0.2s\n",
      "[CV] END ...................C=100, penalty=none, solver=saga; total time=   0.2s\n",
      "[CV] END ...................C=100, penalty=none, solver=saga; total time=   0.2s\n",
      "[CV] END ...................C=100, penalty=none, solver=saga; total time=   0.2s\n",
      "[CV] END ...................C=100, penalty=none, solver=saga; total time=   0.2s\n",
      "[CV] END ...................C=100, penalty=none, solver=saga; total time=   0.2s\n",
      "[CV] END ................C=100, penalty=l1, solver=newton cg; total time=   0.0s\n",
      "[CV] END ................C=100, penalty=l1, solver=newton cg; total time=   0.0s\n",
      "[CV] END ................C=100, penalty=l1, solver=newton cg; total time=   0.0s\n",
      "[CV] END ................C=100, penalty=l1, solver=newton cg; total time=   0.0s\n",
      "[CV] END ................C=100, penalty=l1, solver=newton cg; total time=   0.0s\n",
      "[CV] END ....................C=100, penalty=l1, solver=lbfgs; total time=   0.0s\n",
      "[CV] END ....................C=100, penalty=l1, solver=lbfgs; total time=   0.0s\n",
      "[CV] END ....................C=100, penalty=l1, solver=lbfgs; total time=   0.0s\n",
      "[CV] END ....................C=100, penalty=l1, solver=lbfgs; total time=   0.0s\n",
      "[CV] END ....................C=100, penalty=l1, solver=lbfgs; total time=   0.0s\n",
      "[CV] END ................C=100, penalty=l1, solver=liblinear; total time=   0.0s\n",
      "[CV] END ................C=100, penalty=l1, solver=liblinear; total time=   0.1s\n",
      "[CV] END ................C=100, penalty=l1, solver=liblinear; total time=   0.0s\n"
     ]
    },
    {
     "name": "stdout",
     "output_type": "stream",
     "text": [
      "[CV] END ................C=100, penalty=l1, solver=liblinear; total time=   0.1s\n",
      "[CV] END ................C=100, penalty=l1, solver=liblinear; total time=   0.2s\n",
      "[CV] END ......................C=100, penalty=l1, solver=sag; total time=   0.0s\n",
      "[CV] END ......................C=100, penalty=l1, solver=sag; total time=   0.0s\n",
      "[CV] END ......................C=100, penalty=l1, solver=sag; total time=   0.0s\n",
      "[CV] END ......................C=100, penalty=l1, solver=sag; total time=   0.0s\n",
      "[CV] END ......................C=100, penalty=l1, solver=sag; total time=   0.0s\n",
      "[CV] END .....................C=100, penalty=l1, solver=saga; total time=   0.3s\n",
      "[CV] END .....................C=100, penalty=l1, solver=saga; total time=   0.3s\n",
      "[CV] END .....................C=100, penalty=l1, solver=saga; total time=   0.3s\n",
      "[CV] END .....................C=100, penalty=l1, solver=saga; total time=   0.3s\n",
      "[CV] END .....................C=100, penalty=l1, solver=saga; total time=   0.3s\n",
      "[CV] END ................C=100, penalty=l2, solver=newton cg; total time=   0.0s\n",
      "[CV] END ................C=100, penalty=l2, solver=newton cg; total time=   0.0s\n",
      "[CV] END ................C=100, penalty=l2, solver=newton cg; total time=   0.0s\n",
      "[CV] END ................C=100, penalty=l2, solver=newton cg; total time=   0.0s\n",
      "[CV] END ................C=100, penalty=l2, solver=newton cg; total time=   0.0s\n",
      "[CV] END ....................C=100, penalty=l2, solver=lbfgs; total time=   0.1s\n",
      "[CV] END ....................C=100, penalty=l2, solver=lbfgs; total time=   0.1s\n",
      "[CV] END ....................C=100, penalty=l2, solver=lbfgs; total time=   0.1s\n",
      "[CV] END ....................C=100, penalty=l2, solver=lbfgs; total time=   0.1s\n",
      "[CV] END ....................C=100, penalty=l2, solver=lbfgs; total time=   0.1s\n",
      "[CV] END ................C=100, penalty=l2, solver=liblinear; total time=   0.0s\n",
      "[CV] END ................C=100, penalty=l2, solver=liblinear; total time=   0.0s\n",
      "[CV] END ................C=100, penalty=l2, solver=liblinear; total time=   0.0s\n",
      "[CV] END ................C=100, penalty=l2, solver=liblinear; total time=   0.0s\n",
      "[CV] END ................C=100, penalty=l2, solver=liblinear; total time=   0.0s\n",
      "[CV] END ......................C=100, penalty=l2, solver=sag; total time=   0.2s\n",
      "[CV] END ......................C=100, penalty=l2, solver=sag; total time=   0.2s\n",
      "[CV] END ......................C=100, penalty=l2, solver=sag; total time=   0.2s\n",
      "[CV] END ......................C=100, penalty=l2, solver=sag; total time=   0.2s\n",
      "[CV] END ......................C=100, penalty=l2, solver=sag; total time=   0.2s\n",
      "[CV] END .....................C=100, penalty=l2, solver=saga; total time=   0.2s\n",
      "[CV] END .....................C=100, penalty=l2, solver=saga; total time=   0.2s\n",
      "[CV] END .....................C=100, penalty=l2, solver=saga; total time=   0.2s\n",
      "[CV] END .....................C=100, penalty=l2, solver=saga; total time=   0.2s\n",
      "[CV] END .....................C=100, penalty=l2, solver=saga; total time=   0.2s\n",
      "[CV] END ........C=100, penalty=elasticnet, solver=newton cg; total time=   0.0s\n",
      "[CV] END ........C=100, penalty=elasticnet, solver=newton cg; total time=   0.0s\n",
      "[CV] END ........C=100, penalty=elasticnet, solver=newton cg; total time=   0.0s\n",
      "[CV] END ........C=100, penalty=elasticnet, solver=newton cg; total time=   0.0s\n",
      "[CV] END ........C=100, penalty=elasticnet, solver=newton cg; total time=   0.0s\n",
      "[CV] END ............C=100, penalty=elasticnet, solver=lbfgs; total time=   0.0s\n",
      "[CV] END ............C=100, penalty=elasticnet, solver=lbfgs; total time=   0.0s\n",
      "[CV] END ............C=100, penalty=elasticnet, solver=lbfgs; total time=   0.0s\n",
      "[CV] END ............C=100, penalty=elasticnet, solver=lbfgs; total time=   0.0s\n",
      "[CV] END ............C=100, penalty=elasticnet, solver=lbfgs; total time=   0.0s\n",
      "[CV] END ........C=100, penalty=elasticnet, solver=liblinear; total time=   0.0s\n",
      "[CV] END ........C=100, penalty=elasticnet, solver=liblinear; total time=   0.0s\n",
      "[CV] END ........C=100, penalty=elasticnet, solver=liblinear; total time=   0.0s\n",
      "[CV] END ........C=100, penalty=elasticnet, solver=liblinear; total time=   0.0s\n",
      "[CV] END ........C=100, penalty=elasticnet, solver=liblinear; total time=   0.0s\n",
      "[CV] END ..............C=100, penalty=elasticnet, solver=sag; total time=   0.0s\n",
      "[CV] END ..............C=100, penalty=elasticnet, solver=sag; total time=   0.0s\n",
      "[CV] END ..............C=100, penalty=elasticnet, solver=sag; total time=   0.0s\n",
      "[CV] END ..............C=100, penalty=elasticnet, solver=sag; total time=   0.0s\n",
      "[CV] END ..............C=100, penalty=elasticnet, solver=sag; total time=   0.0s\n",
      "[CV] END .............C=100, penalty=elasticnet, solver=saga; total time=   0.0s\n",
      "[CV] END .............C=100, penalty=elasticnet, solver=saga; total time=   0.0s\n",
      "[CV] END .............C=100, penalty=elasticnet, solver=saga; total time=   0.0s\n",
      "[CV] END .............C=100, penalty=elasticnet, solver=saga; total time=   0.0s\n",
      "[CV] END .............C=100, penalty=elasticnet, solver=saga; total time=   0.0s\n",
      "[CV] END ..............C=200, penalty=none, solver=newton cg; total time=   0.0s\n",
      "[CV] END ..............C=200, penalty=none, solver=newton cg; total time=   0.0s\n",
      "[CV] END ..............C=200, penalty=none, solver=newton cg; total time=   0.0s\n",
      "[CV] END ..............C=200, penalty=none, solver=newton cg; total time=   0.0s\n",
      "[CV] END ..............C=200, penalty=none, solver=newton cg; total time=   0.0s\n",
      "[CV] END ..................C=200, penalty=none, solver=lbfgs; total time=   0.1s\n",
      "[CV] END ..................C=200, penalty=none, solver=lbfgs; total time=   0.1s\n",
      "[CV] END ..................C=200, penalty=none, solver=lbfgs; total time=   0.1s\n",
      "[CV] END ..................C=200, penalty=none, solver=lbfgs; total time=   0.1s\n",
      "[CV] END ..................C=200, penalty=none, solver=lbfgs; total time=   0.1s\n",
      "[CV] END ..............C=200, penalty=none, solver=liblinear; total time=   0.0s\n",
      "[CV] END ..............C=200, penalty=none, solver=liblinear; total time=   0.0s\n",
      "[CV] END ..............C=200, penalty=none, solver=liblinear; total time=   0.0s\n",
      "[CV] END ..............C=200, penalty=none, solver=liblinear; total time=   0.0s\n",
      "[CV] END ..............C=200, penalty=none, solver=liblinear; total time=   0.0s\n",
      "[CV] END ....................C=200, penalty=none, solver=sag; total time=   0.2s\n",
      "[CV] END ....................C=200, penalty=none, solver=sag; total time=   0.2s\n",
      "[CV] END ....................C=200, penalty=none, solver=sag; total time=   0.2s\n",
      "[CV] END ....................C=200, penalty=none, solver=sag; total time=   0.2s\n",
      "[CV] END ....................C=200, penalty=none, solver=sag; total time=   0.2s\n",
      "[CV] END ...................C=200, penalty=none, solver=saga; total time=   0.2s\n",
      "[CV] END ...................C=200, penalty=none, solver=saga; total time=   0.2s\n",
      "[CV] END ...................C=200, penalty=none, solver=saga; total time=   0.2s\n",
      "[CV] END ...................C=200, penalty=none, solver=saga; total time=   0.2s\n",
      "[CV] END ...................C=200, penalty=none, solver=saga; total time=   0.2s\n",
      "[CV] END ................C=200, penalty=l1, solver=newton cg; total time=   0.0s\n",
      "[CV] END ................C=200, penalty=l1, solver=newton cg; total time=   0.0s\n",
      "[CV] END ................C=200, penalty=l1, solver=newton cg; total time=   0.0s\n",
      "[CV] END ................C=200, penalty=l1, solver=newton cg; total time=   0.0s\n",
      "[CV] END ................C=200, penalty=l1, solver=newton cg; total time=   0.0s\n",
      "[CV] END ....................C=200, penalty=l1, solver=lbfgs; total time=   0.0s\n",
      "[CV] END ....................C=200, penalty=l1, solver=lbfgs; total time=   0.0s\n",
      "[CV] END ....................C=200, penalty=l1, solver=lbfgs; total time=   0.0s\n",
      "[CV] END ....................C=200, penalty=l1, solver=lbfgs; total time=   0.0s\n",
      "[CV] END ....................C=200, penalty=l1, solver=lbfgs; total time=   0.0s\n",
      "[CV] END ................C=200, penalty=l1, solver=liblinear; total time=   0.0s\n",
      "[CV] END ................C=200, penalty=l1, solver=liblinear; total time=   0.1s\n",
      "[CV] END ................C=200, penalty=l1, solver=liblinear; total time=   0.0s\n",
      "[CV] END ................C=200, penalty=l1, solver=liblinear; total time=   0.0s\n",
      "[CV] END ................C=200, penalty=l1, solver=liblinear; total time=   0.0s\n",
      "[CV] END ......................C=200, penalty=l1, solver=sag; total time=   0.0s\n",
      "[CV] END ......................C=200, penalty=l1, solver=sag; total time=   0.0s\n",
      "[CV] END ......................C=200, penalty=l1, solver=sag; total time=   0.0s\n",
      "[CV] END ......................C=200, penalty=l1, solver=sag; total time=   0.0s\n",
      "[CV] END ......................C=200, penalty=l1, solver=sag; total time=   0.0s\n"
     ]
    },
    {
     "name": "stdout",
     "output_type": "stream",
     "text": [
      "[CV] END .....................C=200, penalty=l1, solver=saga; total time=   0.3s\n",
      "[CV] END .....................C=200, penalty=l1, solver=saga; total time=   0.3s\n",
      "[CV] END .....................C=200, penalty=l1, solver=saga; total time=   0.3s\n",
      "[CV] END .....................C=200, penalty=l1, solver=saga; total time=   0.3s\n",
      "[CV] END .....................C=200, penalty=l1, solver=saga; total time=   0.3s\n",
      "[CV] END ................C=200, penalty=l2, solver=newton cg; total time=   0.0s\n",
      "[CV] END ................C=200, penalty=l2, solver=newton cg; total time=   0.0s\n",
      "[CV] END ................C=200, penalty=l2, solver=newton cg; total time=   0.0s\n",
      "[CV] END ................C=200, penalty=l2, solver=newton cg; total time=   0.0s\n",
      "[CV] END ................C=200, penalty=l2, solver=newton cg; total time=   0.0s\n",
      "[CV] END ....................C=200, penalty=l2, solver=lbfgs; total time=   0.1s\n",
      "[CV] END ....................C=200, penalty=l2, solver=lbfgs; total time=   0.1s\n",
      "[CV] END ....................C=200, penalty=l2, solver=lbfgs; total time=   0.1s\n",
      "[CV] END ....................C=200, penalty=l2, solver=lbfgs; total time=   0.1s\n",
      "[CV] END ....................C=200, penalty=l2, solver=lbfgs; total time=   0.1s\n",
      "[CV] END ................C=200, penalty=l2, solver=liblinear; total time=   0.0s\n",
      "[CV] END ................C=200, penalty=l2, solver=liblinear; total time=   0.0s\n",
      "[CV] END ................C=200, penalty=l2, solver=liblinear; total time=   0.0s\n",
      "[CV] END ................C=200, penalty=l2, solver=liblinear; total time=   0.0s\n",
      "[CV] END ................C=200, penalty=l2, solver=liblinear; total time=   0.0s\n",
      "[CV] END ......................C=200, penalty=l2, solver=sag; total time=   0.2s\n",
      "[CV] END ......................C=200, penalty=l2, solver=sag; total time=   0.2s\n",
      "[CV] END ......................C=200, penalty=l2, solver=sag; total time=   0.2s\n",
      "[CV] END ......................C=200, penalty=l2, solver=sag; total time=   0.2s\n",
      "[CV] END ......................C=200, penalty=l2, solver=sag; total time=   0.2s\n",
      "[CV] END .....................C=200, penalty=l2, solver=saga; total time=   0.2s\n",
      "[CV] END .....................C=200, penalty=l2, solver=saga; total time=   0.2s\n",
      "[CV] END .....................C=200, penalty=l2, solver=saga; total time=   0.2s\n",
      "[CV] END .....................C=200, penalty=l2, solver=saga; total time=   0.2s\n",
      "[CV] END .....................C=200, penalty=l2, solver=saga; total time=   0.2s\n",
      "[CV] END ........C=200, penalty=elasticnet, solver=newton cg; total time=   0.0s\n",
      "[CV] END ........C=200, penalty=elasticnet, solver=newton cg; total time=   0.0s\n",
      "[CV] END ........C=200, penalty=elasticnet, solver=newton cg; total time=   0.0s\n",
      "[CV] END ........C=200, penalty=elasticnet, solver=newton cg; total time=   0.0s\n",
      "[CV] END ........C=200, penalty=elasticnet, solver=newton cg; total time=   0.0s\n",
      "[CV] END ............C=200, penalty=elasticnet, solver=lbfgs; total time=   0.0s\n",
      "[CV] END ............C=200, penalty=elasticnet, solver=lbfgs; total time=   0.0s\n",
      "[CV] END ............C=200, penalty=elasticnet, solver=lbfgs; total time=   0.0s\n",
      "[CV] END ............C=200, penalty=elasticnet, solver=lbfgs; total time=   0.0s\n",
      "[CV] END ............C=200, penalty=elasticnet, solver=lbfgs; total time=   0.0s\n",
      "[CV] END ........C=200, penalty=elasticnet, solver=liblinear; total time=   0.0s\n",
      "[CV] END ........C=200, penalty=elasticnet, solver=liblinear; total time=   0.0s\n",
      "[CV] END ........C=200, penalty=elasticnet, solver=liblinear; total time=   0.0s\n",
      "[CV] END ........C=200, penalty=elasticnet, solver=liblinear; total time=   0.0s\n",
      "[CV] END ........C=200, penalty=elasticnet, solver=liblinear; total time=   0.0s\n",
      "[CV] END ..............C=200, penalty=elasticnet, solver=sag; total time=   0.0s\n",
      "[CV] END ..............C=200, penalty=elasticnet, solver=sag; total time=   0.0s\n",
      "[CV] END ..............C=200, penalty=elasticnet, solver=sag; total time=   0.0s\n",
      "[CV] END ..............C=200, penalty=elasticnet, solver=sag; total time=   0.0s\n",
      "[CV] END ..............C=200, penalty=elasticnet, solver=sag; total time=   0.0s\n",
      "[CV] END .............C=200, penalty=elasticnet, solver=saga; total time=   0.0s\n",
      "[CV] END .............C=200, penalty=elasticnet, solver=saga; total time=   0.0s\n",
      "[CV] END .............C=200, penalty=elasticnet, solver=saga; total time=   0.0s\n",
      "[CV] END .............C=200, penalty=elasticnet, solver=saga; total time=   0.0s\n",
      "[CV] END .............C=200, penalty=elasticnet, solver=saga; total time=   0.0s\n",
      "[CV] END ..............C=300, penalty=none, solver=newton cg; total time=   0.0s\n",
      "[CV] END ..............C=300, penalty=none, solver=newton cg; total time=   0.0s\n",
      "[CV] END ..............C=300, penalty=none, solver=newton cg; total time=   0.0s\n",
      "[CV] END ..............C=300, penalty=none, solver=newton cg; total time=   0.0s\n",
      "[CV] END ..............C=300, penalty=none, solver=newton cg; total time=   0.0s\n",
      "[CV] END ..................C=300, penalty=none, solver=lbfgs; total time=   0.1s\n",
      "[CV] END ..................C=300, penalty=none, solver=lbfgs; total time=   0.1s\n",
      "[CV] END ..................C=300, penalty=none, solver=lbfgs; total time=   0.1s\n",
      "[CV] END ..................C=300, penalty=none, solver=lbfgs; total time=   0.1s\n",
      "[CV] END ..................C=300, penalty=none, solver=lbfgs; total time=   0.1s\n",
      "[CV] END ..............C=300, penalty=none, solver=liblinear; total time=   0.0s\n",
      "[CV] END ..............C=300, penalty=none, solver=liblinear; total time=   0.0s\n",
      "[CV] END ..............C=300, penalty=none, solver=liblinear; total time=   0.0s\n",
      "[CV] END ..............C=300, penalty=none, solver=liblinear; total time=   0.0s\n",
      "[CV] END ..............C=300, penalty=none, solver=liblinear; total time=   0.0s\n",
      "[CV] END ....................C=300, penalty=none, solver=sag; total time=   0.2s\n",
      "[CV] END ....................C=300, penalty=none, solver=sag; total time=   0.3s\n",
      "[CV] END ....................C=300, penalty=none, solver=sag; total time=   0.2s\n",
      "[CV] END ....................C=300, penalty=none, solver=sag; total time=   0.2s\n",
      "[CV] END ....................C=300, penalty=none, solver=sag; total time=   0.2s\n",
      "[CV] END ...................C=300, penalty=none, solver=saga; total time=   0.3s\n",
      "[CV] END ...................C=300, penalty=none, solver=saga; total time=   0.2s\n",
      "[CV] END ...................C=300, penalty=none, solver=saga; total time=   0.2s\n",
      "[CV] END ...................C=300, penalty=none, solver=saga; total time=   0.2s\n",
      "[CV] END ...................C=300, penalty=none, solver=saga; total time=   0.2s\n",
      "[CV] END ................C=300, penalty=l1, solver=newton cg; total time=   0.0s\n",
      "[CV] END ................C=300, penalty=l1, solver=newton cg; total time=   0.0s\n",
      "[CV] END ................C=300, penalty=l1, solver=newton cg; total time=   0.0s\n",
      "[CV] END ................C=300, penalty=l1, solver=newton cg; total time=   0.0s\n",
      "[CV] END ................C=300, penalty=l1, solver=newton cg; total time=   0.0s\n",
      "[CV] END ....................C=300, penalty=l1, solver=lbfgs; total time=   0.0s\n",
      "[CV] END ....................C=300, penalty=l1, solver=lbfgs; total time=   0.0s\n",
      "[CV] END ....................C=300, penalty=l1, solver=lbfgs; total time=   0.0s\n",
      "[CV] END ....................C=300, penalty=l1, solver=lbfgs; total time=   0.0s\n",
      "[CV] END ....................C=300, penalty=l1, solver=lbfgs; total time=   0.0s\n",
      "[CV] END ................C=300, penalty=l1, solver=liblinear; total time=   0.0s\n",
      "[CV] END ................C=300, penalty=l1, solver=liblinear; total time=   0.0s\n",
      "[CV] END ................C=300, penalty=l1, solver=liblinear; total time=   0.0s\n",
      "[CV] END ................C=300, penalty=l1, solver=liblinear; total time=   0.0s\n",
      "[CV] END ................C=300, penalty=l1, solver=liblinear; total time=   0.1s\n",
      "[CV] END ......................C=300, penalty=l1, solver=sag; total time=   0.0s\n",
      "[CV] END ......................C=300, penalty=l1, solver=sag; total time=   0.0s\n",
      "[CV] END ......................C=300, penalty=l1, solver=sag; total time=   0.0s\n",
      "[CV] END ......................C=300, penalty=l1, solver=sag; total time=   0.0s\n",
      "[CV] END ......................C=300, penalty=l1, solver=sag; total time=   0.0s\n",
      "[CV] END .....................C=300, penalty=l1, solver=saga; total time=   0.3s\n",
      "[CV] END .....................C=300, penalty=l1, solver=saga; total time=   0.3s\n"
     ]
    },
    {
     "name": "stdout",
     "output_type": "stream",
     "text": [
      "[CV] END .....................C=300, penalty=l1, solver=saga; total time=   0.3s\n",
      "[CV] END .....................C=300, penalty=l1, solver=saga; total time=   0.3s\n",
      "[CV] END .....................C=300, penalty=l1, solver=saga; total time=   0.3s\n",
      "[CV] END ................C=300, penalty=l2, solver=newton cg; total time=   0.0s\n",
      "[CV] END ................C=300, penalty=l2, solver=newton cg; total time=   0.0s\n",
      "[CV] END ................C=300, penalty=l2, solver=newton cg; total time=   0.0s\n",
      "[CV] END ................C=300, penalty=l2, solver=newton cg; total time=   0.0s\n",
      "[CV] END ................C=300, penalty=l2, solver=newton cg; total time=   0.0s\n",
      "[CV] END ....................C=300, penalty=l2, solver=lbfgs; total time=   0.1s\n",
      "[CV] END ....................C=300, penalty=l2, solver=lbfgs; total time=   0.1s\n",
      "[CV] END ....................C=300, penalty=l2, solver=lbfgs; total time=   0.1s\n",
      "[CV] END ....................C=300, penalty=l2, solver=lbfgs; total time=   0.1s\n",
      "[CV] END ....................C=300, penalty=l2, solver=lbfgs; total time=   0.1s\n",
      "[CV] END ................C=300, penalty=l2, solver=liblinear; total time=   0.0s\n",
      "[CV] END ................C=300, penalty=l2, solver=liblinear; total time=   0.0s\n",
      "[CV] END ................C=300, penalty=l2, solver=liblinear; total time=   0.0s\n",
      "[CV] END ................C=300, penalty=l2, solver=liblinear; total time=   0.0s\n",
      "[CV] END ................C=300, penalty=l2, solver=liblinear; total time=   0.0s\n",
      "[CV] END ......................C=300, penalty=l2, solver=sag; total time=   0.2s\n",
      "[CV] END ......................C=300, penalty=l2, solver=sag; total time=   0.2s\n",
      "[CV] END ......................C=300, penalty=l2, solver=sag; total time=   0.2s\n",
      "[CV] END ......................C=300, penalty=l2, solver=sag; total time=   0.2s\n",
      "[CV] END ......................C=300, penalty=l2, solver=sag; total time=   0.2s\n",
      "[CV] END .....................C=300, penalty=l2, solver=saga; total time=   0.3s\n",
      "[CV] END .....................C=300, penalty=l2, solver=saga; total time=   0.2s\n",
      "[CV] END .....................C=300, penalty=l2, solver=saga; total time=   0.2s\n",
      "[CV] END .....................C=300, penalty=l2, solver=saga; total time=   0.2s\n",
      "[CV] END .....................C=300, penalty=l2, solver=saga; total time=   0.2s\n",
      "[CV] END ........C=300, penalty=elasticnet, solver=newton cg; total time=   0.0s\n",
      "[CV] END ........C=300, penalty=elasticnet, solver=newton cg; total time=   0.0s\n",
      "[CV] END ........C=300, penalty=elasticnet, solver=newton cg; total time=   0.0s\n",
      "[CV] END ........C=300, penalty=elasticnet, solver=newton cg; total time=   0.0s\n",
      "[CV] END ........C=300, penalty=elasticnet, solver=newton cg; total time=   0.0s\n",
      "[CV] END ............C=300, penalty=elasticnet, solver=lbfgs; total time=   0.0s\n",
      "[CV] END ............C=300, penalty=elasticnet, solver=lbfgs; total time=   0.0s\n",
      "[CV] END ............C=300, penalty=elasticnet, solver=lbfgs; total time=   0.0s\n",
      "[CV] END ............C=300, penalty=elasticnet, solver=lbfgs; total time=   0.0s\n",
      "[CV] END ............C=300, penalty=elasticnet, solver=lbfgs; total time=   0.0s\n",
      "[CV] END ........C=300, penalty=elasticnet, solver=liblinear; total time=   0.0s\n",
      "[CV] END ........C=300, penalty=elasticnet, solver=liblinear; total time=   0.0s\n",
      "[CV] END ........C=300, penalty=elasticnet, solver=liblinear; total time=   0.0s\n",
      "[CV] END ........C=300, penalty=elasticnet, solver=liblinear; total time=   0.0s\n",
      "[CV] END ........C=300, penalty=elasticnet, solver=liblinear; total time=   0.0s\n",
      "[CV] END ..............C=300, penalty=elasticnet, solver=sag; total time=   0.0s\n",
      "[CV] END ..............C=300, penalty=elasticnet, solver=sag; total time=   0.0s\n",
      "[CV] END ..............C=300, penalty=elasticnet, solver=sag; total time=   0.0s\n",
      "[CV] END ..............C=300, penalty=elasticnet, solver=sag; total time=   0.0s\n",
      "[CV] END ..............C=300, penalty=elasticnet, solver=sag; total time=   0.0s\n",
      "[CV] END .............C=300, penalty=elasticnet, solver=saga; total time=   0.0s\n",
      "[CV] END .............C=300, penalty=elasticnet, solver=saga; total time=   0.0s\n",
      "[CV] END .............C=300, penalty=elasticnet, solver=saga; total time=   0.0s\n",
      "[CV] END .............C=300, penalty=elasticnet, solver=saga; total time=   0.0s\n",
      "[CV] END .............C=300, penalty=elasticnet, solver=saga; total time=   0.0s\n"
     ]
    },
    {
     "data": {
      "text/plain": [
       "GridSearchCV(estimator=LogisticRegression(),\n",
       "             param_grid={'C': [0.1, 0.2, 0.3, 0.4, 0.5, 1, 10, 20, 50, 100, 200,\n",
       "                               300],\n",
       "                         'penalty': ['none', 'l1', 'l2', 'elasticnet'],\n",
       "                         'solver': ['newton cg', 'lbfgs', 'liblinear', 'sag',\n",
       "                                    'saga']},\n",
       "             verbose=2)"
      ]
     },
     "execution_count": 79,
     "metadata": {},
     "output_type": "execute_result"
    }
   ],
   "source": [
    "from sklearn.model_selection import GridSearchCV\n",
    "\n",
    "parameters={\n",
    "    'solver' : ['newton cg', 'lbfgs', 'liblinear', 'sag', 'saga'],\n",
    "    'C':[.1,.2,.3,.4,.5,1,10,20,50,100,200,300],\n",
    "    'penalty' : ['none', 'l1', 'l2', 'elasticnet']\n",
    "}\n",
    "grid_model1=GridSearchCV(LogisticRegression(),parameters,verbose=2)\n",
    "grid_model1.fit(X_train1,y_train1)"
   ]
  },
  {
   "cell_type": "code",
   "execution_count": 80,
   "metadata": {},
   "outputs": [
    {
     "name": "stdout",
     "output_type": "stream",
     "text": [
      "{'C': 0.1, 'penalty': 'none', 'solver': 'lbfgs'}\n"
     ]
    },
    {
     "data": {
      "text/plain": [
       "0.6949649542320141"
      ]
     },
     "execution_count": 80,
     "metadata": {},
     "output_type": "execute_result"
    }
   ],
   "source": [
    "print(grid_model1.best_params_ )\n",
    "grid_model1.best_score_"
   ]
  },
  {
   "cell_type": "markdown",
   "metadata": {},
   "source": [
    "# Saving the model"
   ]
  },
  {
   "cell_type": "code",
   "execution_count": 119,
   "metadata": {},
   "outputs": [
    {
     "data": {
      "text/plain": [
       "['/Users/ayushmehta/Downloads/Capston/Model.pkl']"
      ]
     },
     "execution_count": 119,
     "metadata": {},
     "output_type": "execute_result"
    }
   ],
   "source": [
    "import joblib\n",
    "joblib.dump(model1, \"/Users/ayushmehta/Downloads/Capston/Model.pkl\")"
   ]
  },
  {
   "cell_type": "markdown",
   "metadata": {},
   "source": [
    "# Model 2"
   ]
  },
  {
   "cell_type": "markdown",
   "metadata": {},
   "source": [
    "## Initializing the model"
   ]
  },
  {
   "cell_type": "code",
   "execution_count": 81,
   "metadata": {},
   "outputs": [],
   "source": [
    "from sklearn.linear_model import LogisticRegression\n",
    "model2= LogisticRegression()"
   ]
  },
  {
   "cell_type": "markdown",
   "metadata": {},
   "source": [
    "## Fitting the model"
   ]
  },
  {
   "cell_type": "code",
   "execution_count": 82,
   "metadata": {},
   "outputs": [],
   "source": [
    "model2.fit(X_train2,y_train2)\n",
    "y_predict2= model.predict(X_test)"
   ]
  },
  {
   "cell_type": "markdown",
   "metadata": {},
   "source": [
    "## Evaluation of model"
   ]
  },
  {
   "cell_type": "code",
   "execution_count": 83,
   "metadata": {},
   "outputs": [
    {
     "data": {
      "text/plain": [
       "0.7164983164983165"
      ]
     },
     "execution_count": 83,
     "metadata": {},
     "output_type": "execute_result"
    }
   ],
   "source": [
    "from sklearn.metrics import accuracy_score\n",
    "accuracy_score(y_test,y_predict2)"
   ]
  },
  {
   "cell_type": "markdown",
   "metadata": {},
   "source": [
    "# Grid search of model 1"
   ]
  },
  {
   "cell_type": "code",
   "execution_count": 84,
   "metadata": {
    "collapsed": true
   },
   "outputs": [
    {
     "name": "stdout",
     "output_type": "stream",
     "text": [
      "Fitting 5 folds for each of 240 candidates, totalling 1200 fits\n",
      "[CV] END ..............C=0.1, penalty=none, solver=newton cg; total time=   0.0s\n",
      "[CV] END ..............C=0.1, penalty=none, solver=newton cg; total time=   0.0s\n",
      "[CV] END ..............C=0.1, penalty=none, solver=newton cg; total time=   0.0s\n",
      "[CV] END ..............C=0.1, penalty=none, solver=newton cg; total time=   0.0s\n",
      "[CV] END ..............C=0.1, penalty=none, solver=newton cg; total time=   0.0s\n",
      "[CV] END ..................C=0.1, penalty=none, solver=lbfgs; total time=   0.1s\n",
      "[CV] END ..................C=0.1, penalty=none, solver=lbfgs; total time=   0.1s\n",
      "[CV] END ..................C=0.1, penalty=none, solver=lbfgs; total time=   0.1s\n",
      "[CV] END ..................C=0.1, penalty=none, solver=lbfgs; total time=   0.1s\n",
      "[CV] END ..................C=0.1, penalty=none, solver=lbfgs; total time=   0.1s\n",
      "[CV] END ..............C=0.1, penalty=none, solver=liblinear; total time=   0.0s\n",
      "[CV] END ..............C=0.1, penalty=none, solver=liblinear; total time=   0.0s\n",
      "[CV] END ..............C=0.1, penalty=none, solver=liblinear; total time=   0.0s\n",
      "[CV] END ..............C=0.1, penalty=none, solver=liblinear; total time=   0.0s\n",
      "[CV] END ..............C=0.1, penalty=none, solver=liblinear; total time=   0.0s\n",
      "[CV] END ....................C=0.1, penalty=none, solver=sag; total time=   0.2s\n",
      "[CV] END ....................C=0.1, penalty=none, solver=sag; total time=   0.2s\n",
      "[CV] END ....................C=0.1, penalty=none, solver=sag; total time=   0.2s\n",
      "[CV] END ....................C=0.1, penalty=none, solver=sag; total time=   0.2s\n",
      "[CV] END ....................C=0.1, penalty=none, solver=sag; total time=   0.2s\n",
      "[CV] END ...................C=0.1, penalty=none, solver=saga; total time=   0.2s\n",
      "[CV] END ...................C=0.1, penalty=none, solver=saga; total time=   0.2s\n",
      "[CV] END ...................C=0.1, penalty=none, solver=saga; total time=   0.2s\n",
      "[CV] END ...................C=0.1, penalty=none, solver=saga; total time=   0.2s\n",
      "[CV] END ...................C=0.1, penalty=none, solver=saga; total time=   0.2s\n",
      "[CV] END ................C=0.1, penalty=l1, solver=newton cg; total time=   0.0s\n",
      "[CV] END ................C=0.1, penalty=l1, solver=newton cg; total time=   0.0s\n",
      "[CV] END ................C=0.1, penalty=l1, solver=newton cg; total time=   0.0s\n",
      "[CV] END ................C=0.1, penalty=l1, solver=newton cg; total time=   0.0s\n",
      "[CV] END ................C=0.1, penalty=l1, solver=newton cg; total time=   0.0s\n",
      "[CV] END ....................C=0.1, penalty=l1, solver=lbfgs; total time=   0.0s\n",
      "[CV] END ....................C=0.1, penalty=l1, solver=lbfgs; total time=   0.0s\n",
      "[CV] END ....................C=0.1, penalty=l1, solver=lbfgs; total time=   0.0s\n",
      "[CV] END ....................C=0.1, penalty=l1, solver=lbfgs; total time=   0.0s\n",
      "[CV] END ....................C=0.1, penalty=l1, solver=lbfgs; total time=   0.0s\n",
      "[CV] END ................C=0.1, penalty=l1, solver=liblinear; total time=   0.0s\n",
      "[CV] END ................C=0.1, penalty=l1, solver=liblinear; total time=   0.0s\n",
      "[CV] END ................C=0.1, penalty=l1, solver=liblinear; total time=   0.0s\n",
      "[CV] END ................C=0.1, penalty=l1, solver=liblinear; total time=   0.0s\n",
      "[CV] END ................C=0.1, penalty=l1, solver=liblinear; total time=   0.0s\n",
      "[CV] END ......................C=0.1, penalty=l1, solver=sag; total time=   0.0s\n",
      "[CV] END ......................C=0.1, penalty=l1, solver=sag; total time=   0.0s\n",
      "[CV] END ......................C=0.1, penalty=l1, solver=sag; total time=   0.0s\n",
      "[CV] END ......................C=0.1, penalty=l1, solver=sag; total time=   0.0s\n",
      "[CV] END ......................C=0.1, penalty=l1, solver=sag; total time=   0.0s\n",
      "[CV] END .....................C=0.1, penalty=l1, solver=saga; total time=   0.1s\n",
      "[CV] END .....................C=0.1, penalty=l1, solver=saga; total time=   0.1s\n",
      "[CV] END .....................C=0.1, penalty=l1, solver=saga; total time=   0.1s\n",
      "[CV] END .....................C=0.1, penalty=l1, solver=saga; total time=   0.1s\n",
      "[CV] END .....................C=0.1, penalty=l1, solver=saga; total time=   0.1s\n",
      "[CV] END ................C=0.1, penalty=l2, solver=newton cg; total time=   0.0s\n",
      "[CV] END ................C=0.1, penalty=l2, solver=newton cg; total time=   0.0s\n",
      "[CV] END ................C=0.1, penalty=l2, solver=newton cg; total time=   0.0s\n",
      "[CV] END ................C=0.1, penalty=l2, solver=newton cg; total time=   0.0s\n",
      "[CV] END ................C=0.1, penalty=l2, solver=newton cg; total time=   0.0s\n",
      "[CV] END ....................C=0.1, penalty=l2, solver=lbfgs; total time=   0.0s\n",
      "[CV] END ....................C=0.1, penalty=l2, solver=lbfgs; total time=   0.0s\n",
      "[CV] END ....................C=0.1, penalty=l2, solver=lbfgs; total time=   0.0s\n",
      "[CV] END ....................C=0.1, penalty=l2, solver=lbfgs; total time=   0.0s\n",
      "[CV] END ....................C=0.1, penalty=l2, solver=lbfgs; total time=   0.0s\n",
      "[CV] END ................C=0.1, penalty=l2, solver=liblinear; total time=   0.0s\n",
      "[CV] END ................C=0.1, penalty=l2, solver=liblinear; total time=   0.0s\n",
      "[CV] END ................C=0.1, penalty=l2, solver=liblinear; total time=   0.0s\n",
      "[CV] END ................C=0.1, penalty=l2, solver=liblinear; total time=   0.0s\n",
      "[CV] END ................C=0.1, penalty=l2, solver=liblinear; total time=   0.0s\n",
      "[CV] END ......................C=0.1, penalty=l2, solver=sag; total time=   0.0s\n",
      "[CV] END ......................C=0.1, penalty=l2, solver=sag; total time=   0.0s\n",
      "[CV] END ......................C=0.1, penalty=l2, solver=sag; total time=   0.0s\n",
      "[CV] END ......................C=0.1, penalty=l2, solver=sag; total time=   0.0s\n",
      "[CV] END ......................C=0.1, penalty=l2, solver=sag; total time=   0.0s\n",
      "[CV] END .....................C=0.1, penalty=l2, solver=saga; total time=   0.1s\n",
      "[CV] END .....................C=0.1, penalty=l2, solver=saga; total time=   0.1s\n",
      "[CV] END .....................C=0.1, penalty=l2, solver=saga; total time=   0.1s\n",
      "[CV] END .....................C=0.1, penalty=l2, solver=saga; total time=   0.1s\n",
      "[CV] END .....................C=0.1, penalty=l2, solver=saga; total time=   0.1s\n",
      "[CV] END ........C=0.1, penalty=elasticnet, solver=newton cg; total time=   0.0s\n",
      "[CV] END ........C=0.1, penalty=elasticnet, solver=newton cg; total time=   0.0s\n",
      "[CV] END ........C=0.1, penalty=elasticnet, solver=newton cg; total time=   0.0s\n",
      "[CV] END ........C=0.1, penalty=elasticnet, solver=newton cg; total time=   0.0s\n",
      "[CV] END ........C=0.1, penalty=elasticnet, solver=newton cg; total time=   0.0s\n",
      "[CV] END ............C=0.1, penalty=elasticnet, solver=lbfgs; total time=   0.0s\n",
      "[CV] END ............C=0.1, penalty=elasticnet, solver=lbfgs; total time=   0.0s\n",
      "[CV] END ............C=0.1, penalty=elasticnet, solver=lbfgs; total time=   0.0s\n",
      "[CV] END ............C=0.1, penalty=elasticnet, solver=lbfgs; total time=   0.0s\n",
      "[CV] END ............C=0.1, penalty=elasticnet, solver=lbfgs; total time=   0.0s\n",
      "[CV] END ........C=0.1, penalty=elasticnet, solver=liblinear; total time=   0.0s\n",
      "[CV] END ........C=0.1, penalty=elasticnet, solver=liblinear; total time=   0.0s\n",
      "[CV] END ........C=0.1, penalty=elasticnet, solver=liblinear; total time=   0.0s\n",
      "[CV] END ........C=0.1, penalty=elasticnet, solver=liblinear; total time=   0.0s\n",
      "[CV] END ........C=0.1, penalty=elasticnet, solver=liblinear; total time=   0.0s\n",
      "[CV] END ..............C=0.1, penalty=elasticnet, solver=sag; total time=   0.0s\n",
      "[CV] END ..............C=0.1, penalty=elasticnet, solver=sag; total time=   0.0s\n",
      "[CV] END ..............C=0.1, penalty=elasticnet, solver=sag; total time=   0.0s\n",
      "[CV] END ..............C=0.1, penalty=elasticnet, solver=sag; total time=   0.0s\n",
      "[CV] END ..............C=0.1, penalty=elasticnet, solver=sag; total time=   0.0s\n",
      "[CV] END .............C=0.1, penalty=elasticnet, solver=saga; total time=   0.0s\n",
      "[CV] END .............C=0.1, penalty=elasticnet, solver=saga; total time=   0.0s\n",
      "[CV] END .............C=0.1, penalty=elasticnet, solver=saga; total time=   0.0s\n",
      "[CV] END .............C=0.1, penalty=elasticnet, solver=saga; total time=   0.0s\n",
      "[CV] END .............C=0.1, penalty=elasticnet, solver=saga; total time=   0.0s\n",
      "[CV] END ..............C=0.2, penalty=none, solver=newton cg; total time=   0.0s\n",
      "[CV] END ..............C=0.2, penalty=none, solver=newton cg; total time=   0.0s\n",
      "[CV] END ..............C=0.2, penalty=none, solver=newton cg; total time=   0.0s\n",
      "[CV] END ..............C=0.2, penalty=none, solver=newton cg; total time=   0.0s\n",
      "[CV] END ..............C=0.2, penalty=none, solver=newton cg; total time=   0.0s\n",
      "[CV] END ..................C=0.2, penalty=none, solver=lbfgs; total time=   0.1s\n",
      "[CV] END ..................C=0.2, penalty=none, solver=lbfgs; total time=   0.1s\n"
     ]
    },
    {
     "name": "stdout",
     "output_type": "stream",
     "text": [
      "[CV] END ..................C=0.2, penalty=none, solver=lbfgs; total time=   0.1s\n",
      "[CV] END ..................C=0.2, penalty=none, solver=lbfgs; total time=   0.1s\n",
      "[CV] END ..................C=0.2, penalty=none, solver=lbfgs; total time=   0.1s\n",
      "[CV] END ..............C=0.2, penalty=none, solver=liblinear; total time=   0.0s\n",
      "[CV] END ..............C=0.2, penalty=none, solver=liblinear; total time=   0.0s\n",
      "[CV] END ..............C=0.2, penalty=none, solver=liblinear; total time=   0.0s\n",
      "[CV] END ..............C=0.2, penalty=none, solver=liblinear; total time=   0.0s\n",
      "[CV] END ..............C=0.2, penalty=none, solver=liblinear; total time=   0.0s\n",
      "[CV] END ....................C=0.2, penalty=none, solver=sag; total time=   0.2s\n",
      "[CV] END ....................C=0.2, penalty=none, solver=sag; total time=   0.2s\n",
      "[CV] END ....................C=0.2, penalty=none, solver=sag; total time=   0.2s\n",
      "[CV] END ....................C=0.2, penalty=none, solver=sag; total time=   0.2s\n",
      "[CV] END ....................C=0.2, penalty=none, solver=sag; total time=   0.2s\n",
      "[CV] END ...................C=0.2, penalty=none, solver=saga; total time=   0.2s\n",
      "[CV] END ...................C=0.2, penalty=none, solver=saga; total time=   0.2s\n",
      "[CV] END ...................C=0.2, penalty=none, solver=saga; total time=   0.2s\n",
      "[CV] END ...................C=0.2, penalty=none, solver=saga; total time=   0.2s\n",
      "[CV] END ...................C=0.2, penalty=none, solver=saga; total time=   0.2s\n",
      "[CV] END ................C=0.2, penalty=l1, solver=newton cg; total time=   0.0s\n",
      "[CV] END ................C=0.2, penalty=l1, solver=newton cg; total time=   0.0s\n",
      "[CV] END ................C=0.2, penalty=l1, solver=newton cg; total time=   0.0s\n",
      "[CV] END ................C=0.2, penalty=l1, solver=newton cg; total time=   0.0s\n",
      "[CV] END ................C=0.2, penalty=l1, solver=newton cg; total time=   0.0s\n",
      "[CV] END ....................C=0.2, penalty=l1, solver=lbfgs; total time=   0.0s\n",
      "[CV] END ....................C=0.2, penalty=l1, solver=lbfgs; total time=   0.0s\n",
      "[CV] END ....................C=0.2, penalty=l1, solver=lbfgs; total time=   0.0s\n",
      "[CV] END ....................C=0.2, penalty=l1, solver=lbfgs; total time=   0.0s\n",
      "[CV] END ....................C=0.2, penalty=l1, solver=lbfgs; total time=   0.0s\n",
      "[CV] END ................C=0.2, penalty=l1, solver=liblinear; total time=   0.0s\n",
      "[CV] END ................C=0.2, penalty=l1, solver=liblinear; total time=   0.0s\n",
      "[CV] END ................C=0.2, penalty=l1, solver=liblinear; total time=   0.0s\n",
      "[CV] END ................C=0.2, penalty=l1, solver=liblinear; total time=   0.0s\n",
      "[CV] END ................C=0.2, penalty=l1, solver=liblinear; total time=   0.0s\n",
      "[CV] END ......................C=0.2, penalty=l1, solver=sag; total time=   0.0s\n",
      "[CV] END ......................C=0.2, penalty=l1, solver=sag; total time=   0.0s\n",
      "[CV] END ......................C=0.2, penalty=l1, solver=sag; total time=   0.0s\n",
      "[CV] END ......................C=0.2, penalty=l1, solver=sag; total time=   0.0s\n",
      "[CV] END ......................C=0.2, penalty=l1, solver=sag; total time=   0.0s\n",
      "[CV] END .....................C=0.2, penalty=l1, solver=saga; total time=   0.1s\n",
      "[CV] END .....................C=0.2, penalty=l1, solver=saga; total time=   0.1s\n",
      "[CV] END .....................C=0.2, penalty=l1, solver=saga; total time=   0.1s\n",
      "[CV] END .....................C=0.2, penalty=l1, solver=saga; total time=   0.1s\n",
      "[CV] END .....................C=0.2, penalty=l1, solver=saga; total time=   0.1s\n",
      "[CV] END ................C=0.2, penalty=l2, solver=newton cg; total time=   0.0s\n",
      "[CV] END ................C=0.2, penalty=l2, solver=newton cg; total time=   0.0s\n",
      "[CV] END ................C=0.2, penalty=l2, solver=newton cg; total time=   0.0s\n",
      "[CV] END ................C=0.2, penalty=l2, solver=newton cg; total time=   0.0s\n",
      "[CV] END ................C=0.2, penalty=l2, solver=newton cg; total time=   0.0s\n",
      "[CV] END ....................C=0.2, penalty=l2, solver=lbfgs; total time=   0.0s\n",
      "[CV] END ....................C=0.2, penalty=l2, solver=lbfgs; total time=   0.0s\n",
      "[CV] END ....................C=0.2, penalty=l2, solver=lbfgs; total time=   0.0s\n",
      "[CV] END ....................C=0.2, penalty=l2, solver=lbfgs; total time=   0.0s\n",
      "[CV] END ....................C=0.2, penalty=l2, solver=lbfgs; total time=   0.0s\n",
      "[CV] END ................C=0.2, penalty=l2, solver=liblinear; total time=   0.0s\n",
      "[CV] END ................C=0.2, penalty=l2, solver=liblinear; total time=   0.0s\n",
      "[CV] END ................C=0.2, penalty=l2, solver=liblinear; total time=   0.0s\n",
      "[CV] END ................C=0.2, penalty=l2, solver=liblinear; total time=   0.0s\n",
      "[CV] END ................C=0.2, penalty=l2, solver=liblinear; total time=   0.0s\n",
      "[CV] END ......................C=0.2, penalty=l2, solver=sag; total time=   0.0s\n",
      "[CV] END ......................C=0.2, penalty=l2, solver=sag; total time=   0.1s\n",
      "[CV] END ......................C=0.2, penalty=l2, solver=sag; total time=   0.0s\n",
      "[CV] END ......................C=0.2, penalty=l2, solver=sag; total time=   0.0s\n",
      "[CV] END ......................C=0.2, penalty=l2, solver=sag; total time=   0.1s\n",
      "[CV] END .....................C=0.2, penalty=l2, solver=saga; total time=   0.0s\n",
      "[CV] END .....................C=0.2, penalty=l2, solver=saga; total time=   0.1s\n",
      "[CV] END .....................C=0.2, penalty=l2, solver=saga; total time=   0.0s\n",
      "[CV] END .....................C=0.2, penalty=l2, solver=saga; total time=   0.1s\n",
      "[CV] END .....................C=0.2, penalty=l2, solver=saga; total time=   0.0s\n",
      "[CV] END ........C=0.2, penalty=elasticnet, solver=newton cg; total time=   0.0s\n",
      "[CV] END ........C=0.2, penalty=elasticnet, solver=newton cg; total time=   0.0s\n",
      "[CV] END ........C=0.2, penalty=elasticnet, solver=newton cg; total time=   0.0s\n",
      "[CV] END ........C=0.2, penalty=elasticnet, solver=newton cg; total time=   0.0s\n",
      "[CV] END ........C=0.2, penalty=elasticnet, solver=newton cg; total time=   0.0s\n",
      "[CV] END ............C=0.2, penalty=elasticnet, solver=lbfgs; total time=   0.0s\n",
      "[CV] END ............C=0.2, penalty=elasticnet, solver=lbfgs; total time=   0.0s\n",
      "[CV] END ............C=0.2, penalty=elasticnet, solver=lbfgs; total time=   0.0s\n",
      "[CV] END ............C=0.2, penalty=elasticnet, solver=lbfgs; total time=   0.0s\n",
      "[CV] END ............C=0.2, penalty=elasticnet, solver=lbfgs; total time=   0.0s\n",
      "[CV] END ........C=0.2, penalty=elasticnet, solver=liblinear; total time=   0.0s\n",
      "[CV] END ........C=0.2, penalty=elasticnet, solver=liblinear; total time=   0.0s\n",
      "[CV] END ........C=0.2, penalty=elasticnet, solver=liblinear; total time=   0.0s\n",
      "[CV] END ........C=0.2, penalty=elasticnet, solver=liblinear; total time=   0.0s\n",
      "[CV] END ........C=0.2, penalty=elasticnet, solver=liblinear; total time=   0.0s\n",
      "[CV] END ..............C=0.2, penalty=elasticnet, solver=sag; total time=   0.0s\n",
      "[CV] END ..............C=0.2, penalty=elasticnet, solver=sag; total time=   0.0s\n",
      "[CV] END ..............C=0.2, penalty=elasticnet, solver=sag; total time=   0.0s\n",
      "[CV] END ..............C=0.2, penalty=elasticnet, solver=sag; total time=   0.0s\n",
      "[CV] END ..............C=0.2, penalty=elasticnet, solver=sag; total time=   0.0s\n",
      "[CV] END .............C=0.2, penalty=elasticnet, solver=saga; total time=   0.0s\n",
      "[CV] END .............C=0.2, penalty=elasticnet, solver=saga; total time=   0.0s\n",
      "[CV] END .............C=0.2, penalty=elasticnet, solver=saga; total time=   0.0s\n",
      "[CV] END .............C=0.2, penalty=elasticnet, solver=saga; total time=   0.0s\n",
      "[CV] END .............C=0.2, penalty=elasticnet, solver=saga; total time=   0.0s\n",
      "[CV] END ..............C=0.3, penalty=none, solver=newton cg; total time=   0.0s\n",
      "[CV] END ..............C=0.3, penalty=none, solver=newton cg; total time=   0.0s\n",
      "[CV] END ..............C=0.3, penalty=none, solver=newton cg; total time=   0.0s\n",
      "[CV] END ..............C=0.3, penalty=none, solver=newton cg; total time=   0.0s\n",
      "[CV] END ..............C=0.3, penalty=none, solver=newton cg; total time=   0.0s\n",
      "[CV] END ..................C=0.3, penalty=none, solver=lbfgs; total time=   0.1s\n",
      "[CV] END ..................C=0.3, penalty=none, solver=lbfgs; total time=   0.1s\n",
      "[CV] END ..................C=0.3, penalty=none, solver=lbfgs; total time=   0.1s\n",
      "[CV] END ..................C=0.3, penalty=none, solver=lbfgs; total time=   0.1s\n",
      "[CV] END ..................C=0.3, penalty=none, solver=lbfgs; total time=   0.1s\n",
      "[CV] END ..............C=0.3, penalty=none, solver=liblinear; total time=   0.0s\n",
      "[CV] END ..............C=0.3, penalty=none, solver=liblinear; total time=   0.0s\n",
      "[CV] END ..............C=0.3, penalty=none, solver=liblinear; total time=   0.0s\n",
      "[CV] END ..............C=0.3, penalty=none, solver=liblinear; total time=   0.0s\n",
      "[CV] END ..............C=0.3, penalty=none, solver=liblinear; total time=   0.0s\n"
     ]
    },
    {
     "name": "stdout",
     "output_type": "stream",
     "text": [
      "[CV] END ....................C=0.3, penalty=none, solver=sag; total time=   0.2s\n",
      "[CV] END ....................C=0.3, penalty=none, solver=sag; total time=   0.2s\n",
      "[CV] END ....................C=0.3, penalty=none, solver=sag; total time=   0.2s\n",
      "[CV] END ....................C=0.3, penalty=none, solver=sag; total time=   0.2s\n",
      "[CV] END ....................C=0.3, penalty=none, solver=sag; total time=   0.2s\n",
      "[CV] END ...................C=0.3, penalty=none, solver=saga; total time=   0.2s\n",
      "[CV] END ...................C=0.3, penalty=none, solver=saga; total time=   0.2s\n",
      "[CV] END ...................C=0.3, penalty=none, solver=saga; total time=   0.2s\n",
      "[CV] END ...................C=0.3, penalty=none, solver=saga; total time=   0.2s\n",
      "[CV] END ...................C=0.3, penalty=none, solver=saga; total time=   0.2s\n",
      "[CV] END ................C=0.3, penalty=l1, solver=newton cg; total time=   0.0s\n",
      "[CV] END ................C=0.3, penalty=l1, solver=newton cg; total time=   0.0s\n",
      "[CV] END ................C=0.3, penalty=l1, solver=newton cg; total time=   0.0s\n",
      "[CV] END ................C=0.3, penalty=l1, solver=newton cg; total time=   0.0s\n",
      "[CV] END ................C=0.3, penalty=l1, solver=newton cg; total time=   0.0s\n",
      "[CV] END ....................C=0.3, penalty=l1, solver=lbfgs; total time=   0.0s\n",
      "[CV] END ....................C=0.3, penalty=l1, solver=lbfgs; total time=   0.0s\n",
      "[CV] END ....................C=0.3, penalty=l1, solver=lbfgs; total time=   0.0s\n",
      "[CV] END ....................C=0.3, penalty=l1, solver=lbfgs; total time=   0.0s\n",
      "[CV] END ....................C=0.3, penalty=l1, solver=lbfgs; total time=   0.0s\n",
      "[CV] END ................C=0.3, penalty=l1, solver=liblinear; total time=   0.0s\n",
      "[CV] END ................C=0.3, penalty=l1, solver=liblinear; total time=   0.0s\n",
      "[CV] END ................C=0.3, penalty=l1, solver=liblinear; total time=   0.0s\n",
      "[CV] END ................C=0.3, penalty=l1, solver=liblinear; total time=   0.0s\n",
      "[CV] END ................C=0.3, penalty=l1, solver=liblinear; total time=   0.0s\n",
      "[CV] END ......................C=0.3, penalty=l1, solver=sag; total time=   0.0s\n",
      "[CV] END ......................C=0.3, penalty=l1, solver=sag; total time=   0.0s\n",
      "[CV] END ......................C=0.3, penalty=l1, solver=sag; total time=   0.0s\n",
      "[CV] END ......................C=0.3, penalty=l1, solver=sag; total time=   0.0s\n",
      "[CV] END ......................C=0.3, penalty=l1, solver=sag; total time=   0.0s\n",
      "[CV] END .....................C=0.3, penalty=l1, solver=saga; total time=   0.1s\n",
      "[CV] END .....................C=0.3, penalty=l1, solver=saga; total time=   0.1s\n",
      "[CV] END .....................C=0.3, penalty=l1, solver=saga; total time=   0.1s\n",
      "[CV] END .....................C=0.3, penalty=l1, solver=saga; total time=   0.1s\n",
      "[CV] END .....................C=0.3, penalty=l1, solver=saga; total time=   0.1s\n",
      "[CV] END ................C=0.3, penalty=l2, solver=newton cg; total time=   0.0s\n",
      "[CV] END ................C=0.3, penalty=l2, solver=newton cg; total time=   0.0s\n",
      "[CV] END ................C=0.3, penalty=l2, solver=newton cg; total time=   0.0s\n",
      "[CV] END ................C=0.3, penalty=l2, solver=newton cg; total time=   0.0s\n",
      "[CV] END ................C=0.3, penalty=l2, solver=newton cg; total time=   0.0s\n",
      "[CV] END ....................C=0.3, penalty=l2, solver=lbfgs; total time=   0.0s\n",
      "[CV] END ....................C=0.3, penalty=l2, solver=lbfgs; total time=   0.0s\n",
      "[CV] END ....................C=0.3, penalty=l2, solver=lbfgs; total time=   0.0s\n",
      "[CV] END ....................C=0.3, penalty=l2, solver=lbfgs; total time=   0.0s\n",
      "[CV] END ....................C=0.3, penalty=l2, solver=lbfgs; total time=   0.0s\n",
      "[CV] END ................C=0.3, penalty=l2, solver=liblinear; total time=   0.0s\n",
      "[CV] END ................C=0.3, penalty=l2, solver=liblinear; total time=   0.0s\n",
      "[CV] END ................C=0.3, penalty=l2, solver=liblinear; total time=   0.0s\n",
      "[CV] END ................C=0.3, penalty=l2, solver=liblinear; total time=   0.0s\n",
      "[CV] END ................C=0.3, penalty=l2, solver=liblinear; total time=   0.0s\n",
      "[CV] END ......................C=0.3, penalty=l2, solver=sag; total time=   0.1s\n",
      "[CV] END ......................C=0.3, penalty=l2, solver=sag; total time=   0.1s\n",
      "[CV] END ......................C=0.3, penalty=l2, solver=sag; total time=   0.1s\n",
      "[CV] END ......................C=0.3, penalty=l2, solver=sag; total time=   0.1s\n",
      "[CV] END ......................C=0.3, penalty=l2, solver=sag; total time=   0.1s\n",
      "[CV] END .....................C=0.3, penalty=l2, solver=saga; total time=   0.1s\n",
      "[CV] END .....................C=0.3, penalty=l2, solver=saga; total time=   0.1s\n",
      "[CV] END .....................C=0.3, penalty=l2, solver=saga; total time=   0.1s\n",
      "[CV] END .....................C=0.3, penalty=l2, solver=saga; total time=   0.1s\n",
      "[CV] END .....................C=0.3, penalty=l2, solver=saga; total time=   0.1s\n",
      "[CV] END ........C=0.3, penalty=elasticnet, solver=newton cg; total time=   0.0s\n",
      "[CV] END ........C=0.3, penalty=elasticnet, solver=newton cg; total time=   0.0s\n",
      "[CV] END ........C=0.3, penalty=elasticnet, solver=newton cg; total time=   0.0s\n",
      "[CV] END ........C=0.3, penalty=elasticnet, solver=newton cg; total time=   0.0s\n",
      "[CV] END ........C=0.3, penalty=elasticnet, solver=newton cg; total time=   0.0s\n",
      "[CV] END ............C=0.3, penalty=elasticnet, solver=lbfgs; total time=   0.0s\n",
      "[CV] END ............C=0.3, penalty=elasticnet, solver=lbfgs; total time=   0.0s\n",
      "[CV] END ............C=0.3, penalty=elasticnet, solver=lbfgs; total time=   0.0s\n",
      "[CV] END ............C=0.3, penalty=elasticnet, solver=lbfgs; total time=   0.0s\n",
      "[CV] END ............C=0.3, penalty=elasticnet, solver=lbfgs; total time=   0.0s\n",
      "[CV] END ........C=0.3, penalty=elasticnet, solver=liblinear; total time=   0.0s\n",
      "[CV] END ........C=0.3, penalty=elasticnet, solver=liblinear; total time=   0.0s\n",
      "[CV] END ........C=0.3, penalty=elasticnet, solver=liblinear; total time=   0.0s\n",
      "[CV] END ........C=0.3, penalty=elasticnet, solver=liblinear; total time=   0.0s\n",
      "[CV] END ........C=0.3, penalty=elasticnet, solver=liblinear; total time=   0.0s\n",
      "[CV] END ..............C=0.3, penalty=elasticnet, solver=sag; total time=   0.0s\n",
      "[CV] END ..............C=0.3, penalty=elasticnet, solver=sag; total time=   0.0s\n",
      "[CV] END ..............C=0.3, penalty=elasticnet, solver=sag; total time=   0.0s\n",
      "[CV] END ..............C=0.3, penalty=elasticnet, solver=sag; total time=   0.0s\n",
      "[CV] END ..............C=0.3, penalty=elasticnet, solver=sag; total time=   0.0s\n",
      "[CV] END .............C=0.3, penalty=elasticnet, solver=saga; total time=   0.0s\n",
      "[CV] END .............C=0.3, penalty=elasticnet, solver=saga; total time=   0.0s\n",
      "[CV] END .............C=0.3, penalty=elasticnet, solver=saga; total time=   0.0s\n",
      "[CV] END .............C=0.3, penalty=elasticnet, solver=saga; total time=   0.0s\n",
      "[CV] END .............C=0.3, penalty=elasticnet, solver=saga; total time=   0.0s\n",
      "[CV] END ..............C=0.4, penalty=none, solver=newton cg; total time=   0.0s\n",
      "[CV] END ..............C=0.4, penalty=none, solver=newton cg; total time=   0.0s\n",
      "[CV] END ..............C=0.4, penalty=none, solver=newton cg; total time=   0.0s\n",
      "[CV] END ..............C=0.4, penalty=none, solver=newton cg; total time=   0.0s\n",
      "[CV] END ..............C=0.4, penalty=none, solver=newton cg; total time=   0.0s\n",
      "[CV] END ..................C=0.4, penalty=none, solver=lbfgs; total time=   0.1s\n",
      "[CV] END ..................C=0.4, penalty=none, solver=lbfgs; total time=   0.1s\n",
      "[CV] END ..................C=0.4, penalty=none, solver=lbfgs; total time=   0.1s\n",
      "[CV] END ..................C=0.4, penalty=none, solver=lbfgs; total time=   0.1s\n",
      "[CV] END ..................C=0.4, penalty=none, solver=lbfgs; total time=   0.1s\n",
      "[CV] END ..............C=0.4, penalty=none, solver=liblinear; total time=   0.0s\n",
      "[CV] END ..............C=0.4, penalty=none, solver=liblinear; total time=   0.0s\n",
      "[CV] END ..............C=0.4, penalty=none, solver=liblinear; total time=   0.0s\n",
      "[CV] END ..............C=0.4, penalty=none, solver=liblinear; total time=   0.0s\n",
      "[CV] END ..............C=0.4, penalty=none, solver=liblinear; total time=   0.0s\n",
      "[CV] END ....................C=0.4, penalty=none, solver=sag; total time=   0.2s\n",
      "[CV] END ....................C=0.4, penalty=none, solver=sag; total time=   0.2s\n"
     ]
    },
    {
     "name": "stdout",
     "output_type": "stream",
     "text": [
      "[CV] END ....................C=0.4, penalty=none, solver=sag; total time=   0.2s\n",
      "[CV] END ....................C=0.4, penalty=none, solver=sag; total time=   0.2s\n",
      "[CV] END ....................C=0.4, penalty=none, solver=sag; total time=   0.2s\n",
      "[CV] END ...................C=0.4, penalty=none, solver=saga; total time=   0.2s\n",
      "[CV] END ...................C=0.4, penalty=none, solver=saga; total time=   0.2s\n",
      "[CV] END ...................C=0.4, penalty=none, solver=saga; total time=   0.2s\n",
      "[CV] END ...................C=0.4, penalty=none, solver=saga; total time=   0.2s\n",
      "[CV] END ...................C=0.4, penalty=none, solver=saga; total time=   0.2s\n",
      "[CV] END ................C=0.4, penalty=l1, solver=newton cg; total time=   0.0s\n",
      "[CV] END ................C=0.4, penalty=l1, solver=newton cg; total time=   0.0s\n",
      "[CV] END ................C=0.4, penalty=l1, solver=newton cg; total time=   0.0s\n",
      "[CV] END ................C=0.4, penalty=l1, solver=newton cg; total time=   0.0s\n",
      "[CV] END ................C=0.4, penalty=l1, solver=newton cg; total time=   0.0s\n",
      "[CV] END ....................C=0.4, penalty=l1, solver=lbfgs; total time=   0.0s\n",
      "[CV] END ....................C=0.4, penalty=l1, solver=lbfgs; total time=   0.0s\n",
      "[CV] END ....................C=0.4, penalty=l1, solver=lbfgs; total time=   0.0s\n",
      "[CV] END ....................C=0.4, penalty=l1, solver=lbfgs; total time=   0.0s\n",
      "[CV] END ....................C=0.4, penalty=l1, solver=lbfgs; total time=   0.0s\n",
      "[CV] END ................C=0.4, penalty=l1, solver=liblinear; total time=   0.0s\n",
      "[CV] END ................C=0.4, penalty=l1, solver=liblinear; total time=   0.0s\n",
      "[CV] END ................C=0.4, penalty=l1, solver=liblinear; total time=   0.0s\n",
      "[CV] END ................C=0.4, penalty=l1, solver=liblinear; total time=   0.0s\n",
      "[CV] END ................C=0.4, penalty=l1, solver=liblinear; total time=   0.0s\n",
      "[CV] END ......................C=0.4, penalty=l1, solver=sag; total time=   0.0s\n",
      "[CV] END ......................C=0.4, penalty=l1, solver=sag; total time=   0.0s\n",
      "[CV] END ......................C=0.4, penalty=l1, solver=sag; total time=   0.0s\n",
      "[CV] END ......................C=0.4, penalty=l1, solver=sag; total time=   0.0s\n",
      "[CV] END ......................C=0.4, penalty=l1, solver=sag; total time=   0.0s\n",
      "[CV] END .....................C=0.4, penalty=l1, solver=saga; total time=   0.1s\n",
      "[CV] END .....................C=0.4, penalty=l1, solver=saga; total time=   0.1s\n",
      "[CV] END .....................C=0.4, penalty=l1, solver=saga; total time=   0.1s\n",
      "[CV] END .....................C=0.4, penalty=l1, solver=saga; total time=   0.1s\n",
      "[CV] END .....................C=0.4, penalty=l1, solver=saga; total time=   0.1s\n",
      "[CV] END ................C=0.4, penalty=l2, solver=newton cg; total time=   0.0s\n",
      "[CV] END ................C=0.4, penalty=l2, solver=newton cg; total time=   0.0s\n",
      "[CV] END ................C=0.4, penalty=l2, solver=newton cg; total time=   0.0s\n",
      "[CV] END ................C=0.4, penalty=l2, solver=newton cg; total time=   0.0s\n",
      "[CV] END ................C=0.4, penalty=l2, solver=newton cg; total time=   0.0s\n",
      "[CV] END ....................C=0.4, penalty=l2, solver=lbfgs; total time=   0.0s\n",
      "[CV] END ....................C=0.4, penalty=l2, solver=lbfgs; total time=   0.0s\n",
      "[CV] END ....................C=0.4, penalty=l2, solver=lbfgs; total time=   0.1s\n",
      "[CV] END ....................C=0.4, penalty=l2, solver=lbfgs; total time=   0.0s\n",
      "[CV] END ....................C=0.4, penalty=l2, solver=lbfgs; total time=   0.0s\n",
      "[CV] END ................C=0.4, penalty=l2, solver=liblinear; total time=   0.0s\n",
      "[CV] END ................C=0.4, penalty=l2, solver=liblinear; total time=   0.0s\n",
      "[CV] END ................C=0.4, penalty=l2, solver=liblinear; total time=   0.0s\n",
      "[CV] END ................C=0.4, penalty=l2, solver=liblinear; total time=   0.0s\n",
      "[CV] END ................C=0.4, penalty=l2, solver=liblinear; total time=   0.0s\n",
      "[CV] END ......................C=0.4, penalty=l2, solver=sag; total time=   0.1s\n",
      "[CV] END ......................C=0.4, penalty=l2, solver=sag; total time=   0.1s\n",
      "[CV] END ......................C=0.4, penalty=l2, solver=sag; total time=   0.1s\n",
      "[CV] END ......................C=0.4, penalty=l2, solver=sag; total time=   0.1s\n",
      "[CV] END ......................C=0.4, penalty=l2, solver=sag; total time=   0.1s\n",
      "[CV] END .....................C=0.4, penalty=l2, solver=saga; total time=   0.1s\n",
      "[CV] END .....................C=0.4, penalty=l2, solver=saga; total time=   0.1s\n",
      "[CV] END .....................C=0.4, penalty=l2, solver=saga; total time=   0.1s\n",
      "[CV] END .....................C=0.4, penalty=l2, solver=saga; total time=   0.1s\n",
      "[CV] END .....................C=0.4, penalty=l2, solver=saga; total time=   0.1s\n",
      "[CV] END ........C=0.4, penalty=elasticnet, solver=newton cg; total time=   0.0s\n",
      "[CV] END ........C=0.4, penalty=elasticnet, solver=newton cg; total time=   0.0s\n",
      "[CV] END ........C=0.4, penalty=elasticnet, solver=newton cg; total time=   0.0s\n",
      "[CV] END ........C=0.4, penalty=elasticnet, solver=newton cg; total time=   0.0s\n",
      "[CV] END ........C=0.4, penalty=elasticnet, solver=newton cg; total time=   0.0s\n",
      "[CV] END ............C=0.4, penalty=elasticnet, solver=lbfgs; total time=   0.0s\n",
      "[CV] END ............C=0.4, penalty=elasticnet, solver=lbfgs; total time=   0.0s\n",
      "[CV] END ............C=0.4, penalty=elasticnet, solver=lbfgs; total time=   0.0s\n",
      "[CV] END ............C=0.4, penalty=elasticnet, solver=lbfgs; total time=   0.0s\n",
      "[CV] END ............C=0.4, penalty=elasticnet, solver=lbfgs; total time=   0.0s\n",
      "[CV] END ........C=0.4, penalty=elasticnet, solver=liblinear; total time=   0.0s\n",
      "[CV] END ........C=0.4, penalty=elasticnet, solver=liblinear; total time=   0.0s\n",
      "[CV] END ........C=0.4, penalty=elasticnet, solver=liblinear; total time=   0.0s\n",
      "[CV] END ........C=0.4, penalty=elasticnet, solver=liblinear; total time=   0.0s\n",
      "[CV] END ........C=0.4, penalty=elasticnet, solver=liblinear; total time=   0.0s\n",
      "[CV] END ..............C=0.4, penalty=elasticnet, solver=sag; total time=   0.0s\n",
      "[CV] END ..............C=0.4, penalty=elasticnet, solver=sag; total time=   0.0s\n",
      "[CV] END ..............C=0.4, penalty=elasticnet, solver=sag; total time=   0.0s\n",
      "[CV] END ..............C=0.4, penalty=elasticnet, solver=sag; total time=   0.0s\n",
      "[CV] END ..............C=0.4, penalty=elasticnet, solver=sag; total time=   0.0s\n",
      "[CV] END .............C=0.4, penalty=elasticnet, solver=saga; total time=   0.0s\n",
      "[CV] END .............C=0.4, penalty=elasticnet, solver=saga; total time=   0.0s\n",
      "[CV] END .............C=0.4, penalty=elasticnet, solver=saga; total time=   0.0s\n",
      "[CV] END .............C=0.4, penalty=elasticnet, solver=saga; total time=   0.0s\n",
      "[CV] END .............C=0.4, penalty=elasticnet, solver=saga; total time=   0.0s\n",
      "[CV] END ..............C=0.5, penalty=none, solver=newton cg; total time=   0.0s\n",
      "[CV] END ..............C=0.5, penalty=none, solver=newton cg; total time=   0.0s\n",
      "[CV] END ..............C=0.5, penalty=none, solver=newton cg; total time=   0.0s\n",
      "[CV] END ..............C=0.5, penalty=none, solver=newton cg; total time=   0.0s\n",
      "[CV] END ..............C=0.5, penalty=none, solver=newton cg; total time=   0.0s\n",
      "[CV] END ..................C=0.5, penalty=none, solver=lbfgs; total time=   0.1s\n",
      "[CV] END ..................C=0.5, penalty=none, solver=lbfgs; total time=   0.1s\n",
      "[CV] END ..................C=0.5, penalty=none, solver=lbfgs; total time=   0.1s\n",
      "[CV] END ..................C=0.5, penalty=none, solver=lbfgs; total time=   0.1s\n",
      "[CV] END ..................C=0.5, penalty=none, solver=lbfgs; total time=   0.1s\n",
      "[CV] END ..............C=0.5, penalty=none, solver=liblinear; total time=   0.0s\n",
      "[CV] END ..............C=0.5, penalty=none, solver=liblinear; total time=   0.0s\n",
      "[CV] END ..............C=0.5, penalty=none, solver=liblinear; total time=   0.0s\n",
      "[CV] END ..............C=0.5, penalty=none, solver=liblinear; total time=   0.0s\n",
      "[CV] END ..............C=0.5, penalty=none, solver=liblinear; total time=   0.0s\n",
      "[CV] END ....................C=0.5, penalty=none, solver=sag; total time=   0.2s\n",
      "[CV] END ....................C=0.5, penalty=none, solver=sag; total time=   0.2s\n",
      "[CV] END ....................C=0.5, penalty=none, solver=sag; total time=   0.2s\n",
      "[CV] END ....................C=0.5, penalty=none, solver=sag; total time=   0.2s\n"
     ]
    },
    {
     "name": "stdout",
     "output_type": "stream",
     "text": [
      "[CV] END ....................C=0.5, penalty=none, solver=sag; total time=   0.2s\n",
      "[CV] END ...................C=0.5, penalty=none, solver=saga; total time=   0.2s\n",
      "[CV] END ...................C=0.5, penalty=none, solver=saga; total time=   0.2s\n",
      "[CV] END ...................C=0.5, penalty=none, solver=saga; total time=   0.2s\n",
      "[CV] END ...................C=0.5, penalty=none, solver=saga; total time=   0.2s\n",
      "[CV] END ...................C=0.5, penalty=none, solver=saga; total time=   0.2s\n",
      "[CV] END ................C=0.5, penalty=l1, solver=newton cg; total time=   0.0s\n",
      "[CV] END ................C=0.5, penalty=l1, solver=newton cg; total time=   0.0s\n",
      "[CV] END ................C=0.5, penalty=l1, solver=newton cg; total time=   0.0s\n",
      "[CV] END ................C=0.5, penalty=l1, solver=newton cg; total time=   0.0s\n",
      "[CV] END ................C=0.5, penalty=l1, solver=newton cg; total time=   0.0s\n",
      "[CV] END ....................C=0.5, penalty=l1, solver=lbfgs; total time=   0.0s\n",
      "[CV] END ....................C=0.5, penalty=l1, solver=lbfgs; total time=   0.0s\n",
      "[CV] END ....................C=0.5, penalty=l1, solver=lbfgs; total time=   0.0s\n",
      "[CV] END ....................C=0.5, penalty=l1, solver=lbfgs; total time=   0.0s\n",
      "[CV] END ....................C=0.5, penalty=l1, solver=lbfgs; total time=   0.0s\n",
      "[CV] END ................C=0.5, penalty=l1, solver=liblinear; total time=   0.0s\n",
      "[CV] END ................C=0.5, penalty=l1, solver=liblinear; total time=   0.0s\n",
      "[CV] END ................C=0.5, penalty=l1, solver=liblinear; total time=   0.0s\n",
      "[CV] END ................C=0.5, penalty=l1, solver=liblinear; total time=   0.0s\n",
      "[CV] END ................C=0.5, penalty=l1, solver=liblinear; total time=   0.0s\n",
      "[CV] END ......................C=0.5, penalty=l1, solver=sag; total time=   0.0s\n",
      "[CV] END ......................C=0.5, penalty=l1, solver=sag; total time=   0.0s\n",
      "[CV] END ......................C=0.5, penalty=l1, solver=sag; total time=   0.0s\n",
      "[CV] END ......................C=0.5, penalty=l1, solver=sag; total time=   0.0s\n",
      "[CV] END ......................C=0.5, penalty=l1, solver=sag; total time=   0.0s\n",
      "[CV] END .....................C=0.5, penalty=l1, solver=saga; total time=   0.1s\n",
      "[CV] END .....................C=0.5, penalty=l1, solver=saga; total time=   0.1s\n",
      "[CV] END .....................C=0.5, penalty=l1, solver=saga; total time=   0.1s\n",
      "[CV] END .....................C=0.5, penalty=l1, solver=saga; total time=   0.1s\n",
      "[CV] END .....................C=0.5, penalty=l1, solver=saga; total time=   0.1s\n",
      "[CV] END ................C=0.5, penalty=l2, solver=newton cg; total time=   0.0s\n",
      "[CV] END ................C=0.5, penalty=l2, solver=newton cg; total time=   0.0s\n",
      "[CV] END ................C=0.5, penalty=l2, solver=newton cg; total time=   0.0s\n",
      "[CV] END ................C=0.5, penalty=l2, solver=newton cg; total time=   0.0s\n",
      "[CV] END ................C=0.5, penalty=l2, solver=newton cg; total time=   0.0s\n",
      "[CV] END ....................C=0.5, penalty=l2, solver=lbfgs; total time=   0.0s\n",
      "[CV] END ....................C=0.5, penalty=l2, solver=lbfgs; total time=   0.0s\n",
      "[CV] END ....................C=0.5, penalty=l2, solver=lbfgs; total time=   0.1s\n",
      "[CV] END ....................C=0.5, penalty=l2, solver=lbfgs; total time=   0.0s\n",
      "[CV] END ....................C=0.5, penalty=l2, solver=lbfgs; total time=   0.0s\n",
      "[CV] END ................C=0.5, penalty=l2, solver=liblinear; total time=   0.0s\n",
      "[CV] END ................C=0.5, penalty=l2, solver=liblinear; total time=   0.0s\n",
      "[CV] END ................C=0.5, penalty=l2, solver=liblinear; total time=   0.0s\n",
      "[CV] END ................C=0.5, penalty=l2, solver=liblinear; total time=   0.0s\n",
      "[CV] END ................C=0.5, penalty=l2, solver=liblinear; total time=   0.0s\n",
      "[CV] END ......................C=0.5, penalty=l2, solver=sag; total time=   0.1s\n",
      "[CV] END ......................C=0.5, penalty=l2, solver=sag; total time=   0.1s\n",
      "[CV] END ......................C=0.5, penalty=l2, solver=sag; total time=   0.1s\n",
      "[CV] END ......................C=0.5, penalty=l2, solver=sag; total time=   0.1s\n",
      "[CV] END ......................C=0.5, penalty=l2, solver=sag; total time=   0.1s\n",
      "[CV] END .....................C=0.5, penalty=l2, solver=saga; total time=   0.1s\n",
      "[CV] END .....................C=0.5, penalty=l2, solver=saga; total time=   0.1s\n",
      "[CV] END .....................C=0.5, penalty=l2, solver=saga; total time=   0.1s\n",
      "[CV] END .....................C=0.5, penalty=l2, solver=saga; total time=   0.1s\n",
      "[CV] END .....................C=0.5, penalty=l2, solver=saga; total time=   0.1s\n",
      "[CV] END ........C=0.5, penalty=elasticnet, solver=newton cg; total time=   0.0s\n",
      "[CV] END ........C=0.5, penalty=elasticnet, solver=newton cg; total time=   0.0s\n",
      "[CV] END ........C=0.5, penalty=elasticnet, solver=newton cg; total time=   0.0s\n",
      "[CV] END ........C=0.5, penalty=elasticnet, solver=newton cg; total time=   0.0s\n",
      "[CV] END ........C=0.5, penalty=elasticnet, solver=newton cg; total time=   0.0s\n",
      "[CV] END ............C=0.5, penalty=elasticnet, solver=lbfgs; total time=   0.0s\n",
      "[CV] END ............C=0.5, penalty=elasticnet, solver=lbfgs; total time=   0.0s\n",
      "[CV] END ............C=0.5, penalty=elasticnet, solver=lbfgs; total time=   0.0s\n",
      "[CV] END ............C=0.5, penalty=elasticnet, solver=lbfgs; total time=   0.0s\n",
      "[CV] END ............C=0.5, penalty=elasticnet, solver=lbfgs; total time=   0.0s\n",
      "[CV] END ........C=0.5, penalty=elasticnet, solver=liblinear; total time=   0.0s\n",
      "[CV] END ........C=0.5, penalty=elasticnet, solver=liblinear; total time=   0.0s\n",
      "[CV] END ........C=0.5, penalty=elasticnet, solver=liblinear; total time=   0.0s\n",
      "[CV] END ........C=0.5, penalty=elasticnet, solver=liblinear; total time=   0.0s\n",
      "[CV] END ........C=0.5, penalty=elasticnet, solver=liblinear; total time=   0.0s\n",
      "[CV] END ..............C=0.5, penalty=elasticnet, solver=sag; total time=   0.0s\n",
      "[CV] END ..............C=0.5, penalty=elasticnet, solver=sag; total time=   0.0s\n",
      "[CV] END ..............C=0.5, penalty=elasticnet, solver=sag; total time=   0.0s\n",
      "[CV] END ..............C=0.5, penalty=elasticnet, solver=sag; total time=   0.0s\n",
      "[CV] END ..............C=0.5, penalty=elasticnet, solver=sag; total time=   0.0s\n",
      "[CV] END .............C=0.5, penalty=elasticnet, solver=saga; total time=   0.0s\n",
      "[CV] END .............C=0.5, penalty=elasticnet, solver=saga; total time=   0.0s\n",
      "[CV] END .............C=0.5, penalty=elasticnet, solver=saga; total time=   0.0s\n",
      "[CV] END .............C=0.5, penalty=elasticnet, solver=saga; total time=   0.0s\n",
      "[CV] END .............C=0.5, penalty=elasticnet, solver=saga; total time=   0.0s\n",
      "[CV] END ................C=1, penalty=none, solver=newton cg; total time=   0.0s\n",
      "[CV] END ................C=1, penalty=none, solver=newton cg; total time=   0.0s\n",
      "[CV] END ................C=1, penalty=none, solver=newton cg; total time=   0.0s\n",
      "[CV] END ................C=1, penalty=none, solver=newton cg; total time=   0.0s\n",
      "[CV] END ................C=1, penalty=none, solver=newton cg; total time=   0.0s\n",
      "[CV] END ....................C=1, penalty=none, solver=lbfgs; total time=   0.1s\n",
      "[CV] END ....................C=1, penalty=none, solver=lbfgs; total time=   0.1s\n",
      "[CV] END ....................C=1, penalty=none, solver=lbfgs; total time=   0.1s\n",
      "[CV] END ....................C=1, penalty=none, solver=lbfgs; total time=   0.1s\n",
      "[CV] END ....................C=1, penalty=none, solver=lbfgs; total time=   0.1s\n",
      "[CV] END ................C=1, penalty=none, solver=liblinear; total time=   0.0s\n",
      "[CV] END ................C=1, penalty=none, solver=liblinear; total time=   0.0s\n",
      "[CV] END ................C=1, penalty=none, solver=liblinear; total time=   0.0s\n",
      "[CV] END ................C=1, penalty=none, solver=liblinear; total time=   0.0s\n",
      "[CV] END ................C=1, penalty=none, solver=liblinear; total time=   0.0s\n",
      "[CV] END ......................C=1, penalty=none, solver=sag; total time=   0.2s\n",
      "[CV] END ......................C=1, penalty=none, solver=sag; total time=   0.2s\n",
      "[CV] END ......................C=1, penalty=none, solver=sag; total time=   0.2s\n",
      "[CV] END ......................C=1, penalty=none, solver=sag; total time=   0.2s\n",
      "[CV] END ......................C=1, penalty=none, solver=sag; total time=   0.2s\n",
      "[CV] END .....................C=1, penalty=none, solver=saga; total time=   0.2s\n"
     ]
    },
    {
     "name": "stdout",
     "output_type": "stream",
     "text": [
      "[CV] END .....................C=1, penalty=none, solver=saga; total time=   0.2s\n",
      "[CV] END .....................C=1, penalty=none, solver=saga; total time=   0.2s\n",
      "[CV] END .....................C=1, penalty=none, solver=saga; total time=   0.2s\n",
      "[CV] END .....................C=1, penalty=none, solver=saga; total time=   0.2s\n",
      "[CV] END ..................C=1, penalty=l1, solver=newton cg; total time=   0.0s\n",
      "[CV] END ..................C=1, penalty=l1, solver=newton cg; total time=   0.0s\n",
      "[CV] END ..................C=1, penalty=l1, solver=newton cg; total time=   0.0s\n",
      "[CV] END ..................C=1, penalty=l1, solver=newton cg; total time=   0.0s\n",
      "[CV] END ..................C=1, penalty=l1, solver=newton cg; total time=   0.0s\n",
      "[CV] END ......................C=1, penalty=l1, solver=lbfgs; total time=   0.0s\n",
      "[CV] END ......................C=1, penalty=l1, solver=lbfgs; total time=   0.0s\n",
      "[CV] END ......................C=1, penalty=l1, solver=lbfgs; total time=   0.0s\n",
      "[CV] END ......................C=1, penalty=l1, solver=lbfgs; total time=   0.0s\n",
      "[CV] END ......................C=1, penalty=l1, solver=lbfgs; total time=   0.0s\n",
      "[CV] END ..................C=1, penalty=l1, solver=liblinear; total time=   0.0s\n",
      "[CV] END ..................C=1, penalty=l1, solver=liblinear; total time=   0.0s\n",
      "[CV] END ..................C=1, penalty=l1, solver=liblinear; total time=   0.0s\n",
      "[CV] END ..................C=1, penalty=l1, solver=liblinear; total time=   0.0s\n",
      "[CV] END ..................C=1, penalty=l1, solver=liblinear; total time=   0.0s\n",
      "[CV] END ........................C=1, penalty=l1, solver=sag; total time=   0.0s\n",
      "[CV] END ........................C=1, penalty=l1, solver=sag; total time=   0.0s\n",
      "[CV] END ........................C=1, penalty=l1, solver=sag; total time=   0.0s\n",
      "[CV] END ........................C=1, penalty=l1, solver=sag; total time=   0.0s\n",
      "[CV] END ........................C=1, penalty=l1, solver=sag; total time=   0.0s\n",
      "[CV] END .......................C=1, penalty=l1, solver=saga; total time=   0.1s\n",
      "[CV] END .......................C=1, penalty=l1, solver=saga; total time=   0.1s\n",
      "[CV] END .......................C=1, penalty=l1, solver=saga; total time=   0.1s\n",
      "[CV] END .......................C=1, penalty=l1, solver=saga; total time=   0.1s\n",
      "[CV] END .......................C=1, penalty=l1, solver=saga; total time=   0.1s\n",
      "[CV] END ..................C=1, penalty=l2, solver=newton cg; total time=   0.0s\n",
      "[CV] END ..................C=1, penalty=l2, solver=newton cg; total time=   0.0s\n",
      "[CV] END ..................C=1, penalty=l2, solver=newton cg; total time=   0.0s\n",
      "[CV] END ..................C=1, penalty=l2, solver=newton cg; total time=   0.0s\n",
      "[CV] END ..................C=1, penalty=l2, solver=newton cg; total time=   0.0s\n",
      "[CV] END ......................C=1, penalty=l2, solver=lbfgs; total time=   0.1s\n",
      "[CV] END ......................C=1, penalty=l2, solver=lbfgs; total time=   0.1s\n",
      "[CV] END ......................C=1, penalty=l2, solver=lbfgs; total time=   0.1s\n",
      "[CV] END ......................C=1, penalty=l2, solver=lbfgs; total time=   0.1s\n",
      "[CV] END ......................C=1, penalty=l2, solver=lbfgs; total time=   0.1s\n",
      "[CV] END ..................C=1, penalty=l2, solver=liblinear; total time=   0.0s\n",
      "[CV] END ..................C=1, penalty=l2, solver=liblinear; total time=   0.0s\n",
      "[CV] END ..................C=1, penalty=l2, solver=liblinear; total time=   0.0s\n",
      "[CV] END ..................C=1, penalty=l2, solver=liblinear; total time=   0.0s\n",
      "[CV] END ..................C=1, penalty=l2, solver=liblinear; total time=   0.0s\n",
      "[CV] END ........................C=1, penalty=l2, solver=sag; total time=   0.1s\n",
      "[CV] END ........................C=1, penalty=l2, solver=sag; total time=   0.1s\n",
      "[CV] END ........................C=1, penalty=l2, solver=sag; total time=   0.1s\n",
      "[CV] END ........................C=1, penalty=l2, solver=sag; total time=   0.1s\n",
      "[CV] END ........................C=1, penalty=l2, solver=sag; total time=   0.1s\n",
      "[CV] END .......................C=1, penalty=l2, solver=saga; total time=   0.1s\n",
      "[CV] END .......................C=1, penalty=l2, solver=saga; total time=   0.1s\n",
      "[CV] END .......................C=1, penalty=l2, solver=saga; total time=   0.1s\n",
      "[CV] END .......................C=1, penalty=l2, solver=saga; total time=   0.1s\n",
      "[CV] END .......................C=1, penalty=l2, solver=saga; total time=   0.1s\n",
      "[CV] END ..........C=1, penalty=elasticnet, solver=newton cg; total time=   0.0s\n",
      "[CV] END ..........C=1, penalty=elasticnet, solver=newton cg; total time=   0.0s\n",
      "[CV] END ..........C=1, penalty=elasticnet, solver=newton cg; total time=   0.0s\n",
      "[CV] END ..........C=1, penalty=elasticnet, solver=newton cg; total time=   0.0s\n",
      "[CV] END ..........C=1, penalty=elasticnet, solver=newton cg; total time=   0.0s\n",
      "[CV] END ..............C=1, penalty=elasticnet, solver=lbfgs; total time=   0.0s\n",
      "[CV] END ..............C=1, penalty=elasticnet, solver=lbfgs; total time=   0.0s\n",
      "[CV] END ..............C=1, penalty=elasticnet, solver=lbfgs; total time=   0.0s\n",
      "[CV] END ..............C=1, penalty=elasticnet, solver=lbfgs; total time=   0.0s\n",
      "[CV] END ..............C=1, penalty=elasticnet, solver=lbfgs; total time=   0.0s\n",
      "[CV] END ..........C=1, penalty=elasticnet, solver=liblinear; total time=   0.0s\n",
      "[CV] END ..........C=1, penalty=elasticnet, solver=liblinear; total time=   0.0s\n",
      "[CV] END ..........C=1, penalty=elasticnet, solver=liblinear; total time=   0.0s\n",
      "[CV] END ..........C=1, penalty=elasticnet, solver=liblinear; total time=   0.0s\n",
      "[CV] END ..........C=1, penalty=elasticnet, solver=liblinear; total time=   0.0s\n",
      "[CV] END ................C=1, penalty=elasticnet, solver=sag; total time=   0.0s\n",
      "[CV] END ................C=1, penalty=elasticnet, solver=sag; total time=   0.0s\n",
      "[CV] END ................C=1, penalty=elasticnet, solver=sag; total time=   0.0s\n",
      "[CV] END ................C=1, penalty=elasticnet, solver=sag; total time=   0.0s\n",
      "[CV] END ................C=1, penalty=elasticnet, solver=sag; total time=   0.0s\n",
      "[CV] END ...............C=1, penalty=elasticnet, solver=saga; total time=   0.0s\n",
      "[CV] END ...............C=1, penalty=elasticnet, solver=saga; total time=   0.0s\n",
      "[CV] END ...............C=1, penalty=elasticnet, solver=saga; total time=   0.0s\n",
      "[CV] END ...............C=1, penalty=elasticnet, solver=saga; total time=   0.0s\n",
      "[CV] END ...............C=1, penalty=elasticnet, solver=saga; total time=   0.0s\n",
      "[CV] END ...............C=10, penalty=none, solver=newton cg; total time=   0.0s\n",
      "[CV] END ...............C=10, penalty=none, solver=newton cg; total time=   0.0s\n",
      "[CV] END ...............C=10, penalty=none, solver=newton cg; total time=   0.0s\n",
      "[CV] END ...............C=10, penalty=none, solver=newton cg; total time=   0.0s\n",
      "[CV] END ...............C=10, penalty=none, solver=newton cg; total time=   0.0s\n",
      "[CV] END ...................C=10, penalty=none, solver=lbfgs; total time=   0.1s\n",
      "[CV] END ...................C=10, penalty=none, solver=lbfgs; total time=   0.1s\n",
      "[CV] END ...................C=10, penalty=none, solver=lbfgs; total time=   0.1s\n",
      "[CV] END ...................C=10, penalty=none, solver=lbfgs; total time=   0.1s\n",
      "[CV] END ...................C=10, penalty=none, solver=lbfgs; total time=   0.1s\n",
      "[CV] END ...............C=10, penalty=none, solver=liblinear; total time=   0.0s\n",
      "[CV] END ...............C=10, penalty=none, solver=liblinear; total time=   0.0s\n",
      "[CV] END ...............C=10, penalty=none, solver=liblinear; total time=   0.0s\n",
      "[CV] END ...............C=10, penalty=none, solver=liblinear; total time=   0.0s\n",
      "[CV] END ...............C=10, penalty=none, solver=liblinear; total time=   0.0s\n",
      "[CV] END .....................C=10, penalty=none, solver=sag; total time=   0.2s\n",
      "[CV] END .....................C=10, penalty=none, solver=sag; total time=   0.2s\n",
      "[CV] END .....................C=10, penalty=none, solver=sag; total time=   0.3s\n",
      "[CV] END .....................C=10, penalty=none, solver=sag; total time=   0.2s\n",
      "[CV] END .....................C=10, penalty=none, solver=sag; total time=   0.2s\n",
      "[CV] END ....................C=10, penalty=none, solver=saga; total time=   0.2s\n",
      "[CV] END ....................C=10, penalty=none, solver=saga; total time=   0.2s\n",
      "[CV] END ....................C=10, penalty=none, solver=saga; total time=   0.2s\n"
     ]
    },
    {
     "name": "stdout",
     "output_type": "stream",
     "text": [
      "[CV] END ....................C=10, penalty=none, solver=saga; total time=   0.2s\n",
      "[CV] END ....................C=10, penalty=none, solver=saga; total time=   0.2s\n",
      "[CV] END .................C=10, penalty=l1, solver=newton cg; total time=   0.0s\n",
      "[CV] END .................C=10, penalty=l1, solver=newton cg; total time=   0.0s\n",
      "[CV] END .................C=10, penalty=l1, solver=newton cg; total time=   0.0s\n",
      "[CV] END .................C=10, penalty=l1, solver=newton cg; total time=   0.0s\n",
      "[CV] END .................C=10, penalty=l1, solver=newton cg; total time=   0.0s\n",
      "[CV] END .....................C=10, penalty=l1, solver=lbfgs; total time=   0.0s\n",
      "[CV] END .....................C=10, penalty=l1, solver=lbfgs; total time=   0.0s\n",
      "[CV] END .....................C=10, penalty=l1, solver=lbfgs; total time=   0.0s\n",
      "[CV] END .....................C=10, penalty=l1, solver=lbfgs; total time=   0.0s\n",
      "[CV] END .....................C=10, penalty=l1, solver=lbfgs; total time=   0.0s\n",
      "[CV] END .................C=10, penalty=l1, solver=liblinear; total time=   0.1s\n",
      "[CV] END .................C=10, penalty=l1, solver=liblinear; total time=   0.1s\n",
      "[CV] END .................C=10, penalty=l1, solver=liblinear; total time=   0.1s\n",
      "[CV] END .................C=10, penalty=l1, solver=liblinear; total time=   0.2s\n",
      "[CV] END .................C=10, penalty=l1, solver=liblinear; total time=   0.2s\n",
      "[CV] END .......................C=10, penalty=l1, solver=sag; total time=   0.0s\n",
      "[CV] END .......................C=10, penalty=l1, solver=sag; total time=   0.0s\n",
      "[CV] END .......................C=10, penalty=l1, solver=sag; total time=   0.0s\n",
      "[CV] END .......................C=10, penalty=l1, solver=sag; total time=   0.0s\n",
      "[CV] END .......................C=10, penalty=l1, solver=sag; total time=   0.0s\n",
      "[CV] END ......................C=10, penalty=l1, solver=saga; total time=   0.3s\n",
      "[CV] END ......................C=10, penalty=l1, solver=saga; total time=   0.3s\n",
      "[CV] END ......................C=10, penalty=l1, solver=saga; total time=   0.3s\n",
      "[CV] END ......................C=10, penalty=l1, solver=saga; total time=   0.2s\n",
      "[CV] END ......................C=10, penalty=l1, solver=saga; total time=   0.3s\n",
      "[CV] END .................C=10, penalty=l2, solver=newton cg; total time=   0.0s\n",
      "[CV] END .................C=10, penalty=l2, solver=newton cg; total time=   0.0s\n",
      "[CV] END .................C=10, penalty=l2, solver=newton cg; total time=   0.0s\n",
      "[CV] END .................C=10, penalty=l2, solver=newton cg; total time=   0.0s\n",
      "[CV] END .................C=10, penalty=l2, solver=newton cg; total time=   0.0s\n",
      "[CV] END .....................C=10, penalty=l2, solver=lbfgs; total time=   0.1s\n",
      "[CV] END .....................C=10, penalty=l2, solver=lbfgs; total time=   0.1s\n",
      "[CV] END .....................C=10, penalty=l2, solver=lbfgs; total time=   0.1s\n",
      "[CV] END .....................C=10, penalty=l2, solver=lbfgs; total time=   0.1s\n",
      "[CV] END .....................C=10, penalty=l2, solver=lbfgs; total time=   0.1s\n",
      "[CV] END .................C=10, penalty=l2, solver=liblinear; total time=   0.0s\n",
      "[CV] END .................C=10, penalty=l2, solver=liblinear; total time=   0.0s\n",
      "[CV] END .................C=10, penalty=l2, solver=liblinear; total time=   0.0s\n",
      "[CV] END .................C=10, penalty=l2, solver=liblinear; total time=   0.0s\n",
      "[CV] END .................C=10, penalty=l2, solver=liblinear; total time=   0.0s\n",
      "[CV] END .......................C=10, penalty=l2, solver=sag; total time=   0.2s\n",
      "[CV] END .......................C=10, penalty=l2, solver=sag; total time=   0.1s\n",
      "[CV] END .......................C=10, penalty=l2, solver=sag; total time=   0.2s\n",
      "[CV] END .......................C=10, penalty=l2, solver=sag; total time=   0.1s\n",
      "[CV] END .......................C=10, penalty=l2, solver=sag; total time=   0.2s\n",
      "[CV] END ......................C=10, penalty=l2, solver=saga; total time=   0.2s\n",
      "[CV] END ......................C=10, penalty=l2, solver=saga; total time=   0.2s\n",
      "[CV] END ......................C=10, penalty=l2, solver=saga; total time=   0.2s\n",
      "[CV] END ......................C=10, penalty=l2, solver=saga; total time=   0.2s\n",
      "[CV] END ......................C=10, penalty=l2, solver=saga; total time=   0.2s\n",
      "[CV] END .........C=10, penalty=elasticnet, solver=newton cg; total time=   0.0s\n",
      "[CV] END .........C=10, penalty=elasticnet, solver=newton cg; total time=   0.0s\n",
      "[CV] END .........C=10, penalty=elasticnet, solver=newton cg; total time=   0.0s\n",
      "[CV] END .........C=10, penalty=elasticnet, solver=newton cg; total time=   0.0s\n",
      "[CV] END .........C=10, penalty=elasticnet, solver=newton cg; total time=   0.0s\n",
      "[CV] END .............C=10, penalty=elasticnet, solver=lbfgs; total time=   0.0s\n",
      "[CV] END .............C=10, penalty=elasticnet, solver=lbfgs; total time=   0.0s\n",
      "[CV] END .............C=10, penalty=elasticnet, solver=lbfgs; total time=   0.0s\n",
      "[CV] END .............C=10, penalty=elasticnet, solver=lbfgs; total time=   0.0s\n",
      "[CV] END .............C=10, penalty=elasticnet, solver=lbfgs; total time=   0.0s\n",
      "[CV] END .........C=10, penalty=elasticnet, solver=liblinear; total time=   0.0s\n",
      "[CV] END .........C=10, penalty=elasticnet, solver=liblinear; total time=   0.0s\n",
      "[CV] END .........C=10, penalty=elasticnet, solver=liblinear; total time=   0.0s\n",
      "[CV] END .........C=10, penalty=elasticnet, solver=liblinear; total time=   0.0s\n",
      "[CV] END .........C=10, penalty=elasticnet, solver=liblinear; total time=   0.0s\n",
      "[CV] END ...............C=10, penalty=elasticnet, solver=sag; total time=   0.0s\n",
      "[CV] END ...............C=10, penalty=elasticnet, solver=sag; total time=   0.0s\n",
      "[CV] END ...............C=10, penalty=elasticnet, solver=sag; total time=   0.0s\n",
      "[CV] END ...............C=10, penalty=elasticnet, solver=sag; total time=   0.0s\n",
      "[CV] END ...............C=10, penalty=elasticnet, solver=sag; total time=   0.0s\n",
      "[CV] END ..............C=10, penalty=elasticnet, solver=saga; total time=   0.0s\n",
      "[CV] END ..............C=10, penalty=elasticnet, solver=saga; total time=   0.0s\n",
      "[CV] END ..............C=10, penalty=elasticnet, solver=saga; total time=   0.0s\n",
      "[CV] END ..............C=10, penalty=elasticnet, solver=saga; total time=   0.0s\n",
      "[CV] END ..............C=10, penalty=elasticnet, solver=saga; total time=   0.0s\n",
      "[CV] END ...............C=20, penalty=none, solver=newton cg; total time=   0.0s\n",
      "[CV] END ...............C=20, penalty=none, solver=newton cg; total time=   0.0s\n",
      "[CV] END ...............C=20, penalty=none, solver=newton cg; total time=   0.0s\n",
      "[CV] END ...............C=20, penalty=none, solver=newton cg; total time=   0.0s\n",
      "[CV] END ...............C=20, penalty=none, solver=newton cg; total time=   0.0s\n",
      "[CV] END ...................C=20, penalty=none, solver=lbfgs; total time=   0.1s\n",
      "[CV] END ...................C=20, penalty=none, solver=lbfgs; total time=   0.1s\n",
      "[CV] END ...................C=20, penalty=none, solver=lbfgs; total time=   0.1s\n",
      "[CV] END ...................C=20, penalty=none, solver=lbfgs; total time=   0.1s\n",
      "[CV] END ...................C=20, penalty=none, solver=lbfgs; total time=   0.1s\n",
      "[CV] END ...............C=20, penalty=none, solver=liblinear; total time=   0.0s\n",
      "[CV] END ...............C=20, penalty=none, solver=liblinear; total time=   0.0s\n",
      "[CV] END ...............C=20, penalty=none, solver=liblinear; total time=   0.0s\n",
      "[CV] END ...............C=20, penalty=none, solver=liblinear; total time=   0.0s\n",
      "[CV] END ...............C=20, penalty=none, solver=liblinear; total time=   0.0s\n",
      "[CV] END .....................C=20, penalty=none, solver=sag; total time=   0.2s\n",
      "[CV] END .....................C=20, penalty=none, solver=sag; total time=   0.2s\n",
      "[CV] END .....................C=20, penalty=none, solver=sag; total time=   0.2s\n",
      "[CV] END .....................C=20, penalty=none, solver=sag; total time=   0.2s\n",
      "[CV] END .....................C=20, penalty=none, solver=sag; total time=   0.2s\n",
      "[CV] END ....................C=20, penalty=none, solver=saga; total time=   0.2s\n",
      "[CV] END ....................C=20, penalty=none, solver=saga; total time=   0.2s\n",
      "[CV] END ....................C=20, penalty=none, solver=saga; total time=   0.2s\n",
      "[CV] END ....................C=20, penalty=none, solver=saga; total time=   0.2s\n",
      "[CV] END ....................C=20, penalty=none, solver=saga; total time=   0.2s\n",
      "[CV] END .................C=20, penalty=l1, solver=newton cg; total time=   0.0s\n",
      "[CV] END .................C=20, penalty=l1, solver=newton cg; total time=   0.0s\n",
      "[CV] END .................C=20, penalty=l1, solver=newton cg; total time=   0.0s\n",
      "[CV] END .................C=20, penalty=l1, solver=newton cg; total time=   0.0s\n",
      "[CV] END .................C=20, penalty=l1, solver=newton cg; total time=   0.0s\n",
      "[CV] END .....................C=20, penalty=l1, solver=lbfgs; total time=   0.0s\n",
      "[CV] END .....................C=20, penalty=l1, solver=lbfgs; total time=   0.0s\n",
      "[CV] END .....................C=20, penalty=l1, solver=lbfgs; total time=   0.0s\n",
      "[CV] END .....................C=20, penalty=l1, solver=lbfgs; total time=   0.0s\n",
      "[CV] END .....................C=20, penalty=l1, solver=lbfgs; total time=   0.0s\n",
      "[CV] END .................C=20, penalty=l1, solver=liblinear; total time=   0.1s\n"
     ]
    },
    {
     "name": "stdout",
     "output_type": "stream",
     "text": [
      "[CV] END .................C=20, penalty=l1, solver=liblinear; total time=   0.2s\n",
      "[CV] END .................C=20, penalty=l1, solver=liblinear; total time=   0.1s\n",
      "[CV] END .................C=20, penalty=l1, solver=liblinear; total time=   0.3s\n",
      "[CV] END .................C=20, penalty=l1, solver=liblinear; total time=   0.2s\n",
      "[CV] END .......................C=20, penalty=l1, solver=sag; total time=   0.0s\n",
      "[CV] END .......................C=20, penalty=l1, solver=sag; total time=   0.0s\n",
      "[CV] END .......................C=20, penalty=l1, solver=sag; total time=   0.0s\n",
      "[CV] END .......................C=20, penalty=l1, solver=sag; total time=   0.0s\n",
      "[CV] END .......................C=20, penalty=l1, solver=sag; total time=   0.0s\n",
      "[CV] END ......................C=20, penalty=l1, solver=saga; total time=   0.2s\n",
      "[CV] END ......................C=20, penalty=l1, solver=saga; total time=   0.3s\n",
      "[CV] END ......................C=20, penalty=l1, solver=saga; total time=   0.3s\n",
      "[CV] END ......................C=20, penalty=l1, solver=saga; total time=   0.3s\n",
      "[CV] END ......................C=20, penalty=l1, solver=saga; total time=   0.3s\n",
      "[CV] END .................C=20, penalty=l2, solver=newton cg; total time=   0.0s\n",
      "[CV] END .................C=20, penalty=l2, solver=newton cg; total time=   0.0s\n",
      "[CV] END .................C=20, penalty=l2, solver=newton cg; total time=   0.0s\n",
      "[CV] END .................C=20, penalty=l2, solver=newton cg; total time=   0.0s\n",
      "[CV] END .................C=20, penalty=l2, solver=newton cg; total time=   0.0s\n",
      "[CV] END .....................C=20, penalty=l2, solver=lbfgs; total time=   0.1s\n",
      "[CV] END .....................C=20, penalty=l2, solver=lbfgs; total time=   0.1s\n",
      "[CV] END .....................C=20, penalty=l2, solver=lbfgs; total time=   0.1s\n",
      "[CV] END .....................C=20, penalty=l2, solver=lbfgs; total time=   0.1s\n",
      "[CV] END .....................C=20, penalty=l2, solver=lbfgs; total time=   0.1s\n",
      "[CV] END .................C=20, penalty=l2, solver=liblinear; total time=   0.0s\n",
      "[CV] END .................C=20, penalty=l2, solver=liblinear; total time=   0.0s\n",
      "[CV] END .................C=20, penalty=l2, solver=liblinear; total time=   0.0s\n",
      "[CV] END .................C=20, penalty=l2, solver=liblinear; total time=   0.0s\n",
      "[CV] END .................C=20, penalty=l2, solver=liblinear; total time=   0.0s\n",
      "[CV] END .......................C=20, penalty=l2, solver=sag; total time=   0.2s\n",
      "[CV] END .......................C=20, penalty=l2, solver=sag; total time=   0.2s\n",
      "[CV] END .......................C=20, penalty=l2, solver=sag; total time=   0.2s\n",
      "[CV] END .......................C=20, penalty=l2, solver=sag; total time=   0.2s\n",
      "[CV] END .......................C=20, penalty=l2, solver=sag; total time=   0.1s\n",
      "[CV] END ......................C=20, penalty=l2, solver=saga; total time=   0.2s\n",
      "[CV] END ......................C=20, penalty=l2, solver=saga; total time=   0.2s\n",
      "[CV] END ......................C=20, penalty=l2, solver=saga; total time=   0.2s\n",
      "[CV] END ......................C=20, penalty=l2, solver=saga; total time=   0.2s\n",
      "[CV] END ......................C=20, penalty=l2, solver=saga; total time=   0.2s\n",
      "[CV] END .........C=20, penalty=elasticnet, solver=newton cg; total time=   0.0s\n",
      "[CV] END .........C=20, penalty=elasticnet, solver=newton cg; total time=   0.0s\n",
      "[CV] END .........C=20, penalty=elasticnet, solver=newton cg; total time=   0.0s\n",
      "[CV] END .........C=20, penalty=elasticnet, solver=newton cg; total time=   0.0s\n",
      "[CV] END .........C=20, penalty=elasticnet, solver=newton cg; total time=   0.0s\n",
      "[CV] END .............C=20, penalty=elasticnet, solver=lbfgs; total time=   0.0s\n",
      "[CV] END .............C=20, penalty=elasticnet, solver=lbfgs; total time=   0.0s\n",
      "[CV] END .............C=20, penalty=elasticnet, solver=lbfgs; total time=   0.0s\n",
      "[CV] END .............C=20, penalty=elasticnet, solver=lbfgs; total time=   0.0s\n",
      "[CV] END .............C=20, penalty=elasticnet, solver=lbfgs; total time=   0.0s\n",
      "[CV] END .........C=20, penalty=elasticnet, solver=liblinear; total time=   0.0s\n",
      "[CV] END .........C=20, penalty=elasticnet, solver=liblinear; total time=   0.0s\n",
      "[CV] END .........C=20, penalty=elasticnet, solver=liblinear; total time=   0.0s\n",
      "[CV] END .........C=20, penalty=elasticnet, solver=liblinear; total time=   0.0s\n",
      "[CV] END .........C=20, penalty=elasticnet, solver=liblinear; total time=   0.0s\n",
      "[CV] END ...............C=20, penalty=elasticnet, solver=sag; total time=   0.0s\n",
      "[CV] END ...............C=20, penalty=elasticnet, solver=sag; total time=   0.0s\n",
      "[CV] END ...............C=20, penalty=elasticnet, solver=sag; total time=   0.0s\n",
      "[CV] END ...............C=20, penalty=elasticnet, solver=sag; total time=   0.0s\n",
      "[CV] END ...............C=20, penalty=elasticnet, solver=sag; total time=   0.0s\n",
      "[CV] END ..............C=20, penalty=elasticnet, solver=saga; total time=   0.0s\n",
      "[CV] END ..............C=20, penalty=elasticnet, solver=saga; total time=   0.0s\n",
      "[CV] END ..............C=20, penalty=elasticnet, solver=saga; total time=   0.0s\n",
      "[CV] END ..............C=20, penalty=elasticnet, solver=saga; total time=   0.0s\n",
      "[CV] END ..............C=20, penalty=elasticnet, solver=saga; total time=   0.0s\n",
      "[CV] END ...............C=50, penalty=none, solver=newton cg; total time=   0.0s\n",
      "[CV] END ...............C=50, penalty=none, solver=newton cg; total time=   0.0s\n",
      "[CV] END ...............C=50, penalty=none, solver=newton cg; total time=   0.0s\n",
      "[CV] END ...............C=50, penalty=none, solver=newton cg; total time=   0.0s\n",
      "[CV] END ...............C=50, penalty=none, solver=newton cg; total time=   0.0s\n",
      "[CV] END ...................C=50, penalty=none, solver=lbfgs; total time=   0.1s\n",
      "[CV] END ...................C=50, penalty=none, solver=lbfgs; total time=   0.1s\n",
      "[CV] END ...................C=50, penalty=none, solver=lbfgs; total time=   0.1s\n",
      "[CV] END ...................C=50, penalty=none, solver=lbfgs; total time=   0.1s\n",
      "[CV] END ...................C=50, penalty=none, solver=lbfgs; total time=   0.1s\n",
      "[CV] END ...............C=50, penalty=none, solver=liblinear; total time=   0.0s\n",
      "[CV] END ...............C=50, penalty=none, solver=liblinear; total time=   0.0s\n",
      "[CV] END ...............C=50, penalty=none, solver=liblinear; total time=   0.0s\n",
      "[CV] END ...............C=50, penalty=none, solver=liblinear; total time=   0.0s\n",
      "[CV] END ...............C=50, penalty=none, solver=liblinear; total time=   0.0s\n",
      "[CV] END .....................C=50, penalty=none, solver=sag; total time=   0.2s\n",
      "[CV] END .....................C=50, penalty=none, solver=sag; total time=   0.2s\n",
      "[CV] END .....................C=50, penalty=none, solver=sag; total time=   0.2s\n",
      "[CV] END .....................C=50, penalty=none, solver=sag; total time=   0.2s\n",
      "[CV] END .....................C=50, penalty=none, solver=sag; total time=   0.2s\n",
      "[CV] END ....................C=50, penalty=none, solver=saga; total time=   0.2s\n",
      "[CV] END ....................C=50, penalty=none, solver=saga; total time=   0.2s\n",
      "[CV] END ....................C=50, penalty=none, solver=saga; total time=   0.2s\n",
      "[CV] END ....................C=50, penalty=none, solver=saga; total time=   0.2s\n",
      "[CV] END ....................C=50, penalty=none, solver=saga; total time=   0.2s\n",
      "[CV] END .................C=50, penalty=l1, solver=newton cg; total time=   0.0s\n",
      "[CV] END .................C=50, penalty=l1, solver=newton cg; total time=   0.0s\n",
      "[CV] END .................C=50, penalty=l1, solver=newton cg; total time=   0.0s\n",
      "[CV] END .................C=50, penalty=l1, solver=newton cg; total time=   0.0s\n",
      "[CV] END .................C=50, penalty=l1, solver=newton cg; total time=   0.0s\n",
      "[CV] END .....................C=50, penalty=l1, solver=lbfgs; total time=   0.0s\n",
      "[CV] END .....................C=50, penalty=l1, solver=lbfgs; total time=   0.0s\n",
      "[CV] END .....................C=50, penalty=l1, solver=lbfgs; total time=   0.0s\n",
      "[CV] END .....................C=50, penalty=l1, solver=lbfgs; total time=   0.0s\n",
      "[CV] END .....................C=50, penalty=l1, solver=lbfgs; total time=   0.0s\n",
      "[CV] END .................C=50, penalty=l1, solver=liblinear; total time=   0.1s\n",
      "[CV] END .................C=50, penalty=l1, solver=liblinear; total time=   0.2s\n",
      "[CV] END .................C=50, penalty=l1, solver=liblinear; total time=   0.1s\n"
     ]
    },
    {
     "name": "stdout",
     "output_type": "stream",
     "text": [
      "[CV] END .................C=50, penalty=l1, solver=liblinear; total time=   0.1s\n",
      "[CV] END .................C=50, penalty=l1, solver=liblinear; total time=   0.1s\n",
      "[CV] END .......................C=50, penalty=l1, solver=sag; total time=   0.0s\n",
      "[CV] END .......................C=50, penalty=l1, solver=sag; total time=   0.0s\n",
      "[CV] END .......................C=50, penalty=l1, solver=sag; total time=   0.0s\n",
      "[CV] END .......................C=50, penalty=l1, solver=sag; total time=   0.0s\n",
      "[CV] END .......................C=50, penalty=l1, solver=sag; total time=   0.0s\n",
      "[CV] END ......................C=50, penalty=l1, solver=saga; total time=   0.3s\n",
      "[CV] END ......................C=50, penalty=l1, solver=saga; total time=   0.3s\n",
      "[CV] END ......................C=50, penalty=l1, solver=saga; total time=   0.3s\n",
      "[CV] END ......................C=50, penalty=l1, solver=saga; total time=   0.3s\n",
      "[CV] END ......................C=50, penalty=l1, solver=saga; total time=   0.3s\n",
      "[CV] END .................C=50, penalty=l2, solver=newton cg; total time=   0.0s\n",
      "[CV] END .................C=50, penalty=l2, solver=newton cg; total time=   0.0s\n",
      "[CV] END .................C=50, penalty=l2, solver=newton cg; total time=   0.0s\n",
      "[CV] END .................C=50, penalty=l2, solver=newton cg; total time=   0.0s\n",
      "[CV] END .................C=50, penalty=l2, solver=newton cg; total time=   0.0s\n",
      "[CV] END .....................C=50, penalty=l2, solver=lbfgs; total time=   0.1s\n",
      "[CV] END .....................C=50, penalty=l2, solver=lbfgs; total time=   0.1s\n",
      "[CV] END .....................C=50, penalty=l2, solver=lbfgs; total time=   0.1s\n",
      "[CV] END .....................C=50, penalty=l2, solver=lbfgs; total time=   0.1s\n",
      "[CV] END .....................C=50, penalty=l2, solver=lbfgs; total time=   0.1s\n",
      "[CV] END .................C=50, penalty=l2, solver=liblinear; total time=   0.0s\n",
      "[CV] END .................C=50, penalty=l2, solver=liblinear; total time=   0.0s\n",
      "[CV] END .................C=50, penalty=l2, solver=liblinear; total time=   0.0s\n",
      "[CV] END .................C=50, penalty=l2, solver=liblinear; total time=   0.0s\n",
      "[CV] END .................C=50, penalty=l2, solver=liblinear; total time=   0.0s\n",
      "[CV] END .......................C=50, penalty=l2, solver=sag; total time=   0.2s\n",
      "[CV] END .......................C=50, penalty=l2, solver=sag; total time=   0.2s\n",
      "[CV] END .......................C=50, penalty=l2, solver=sag; total time=   0.2s\n",
      "[CV] END .......................C=50, penalty=l2, solver=sag; total time=   0.2s\n",
      "[CV] END .......................C=50, penalty=l2, solver=sag; total time=   0.2s\n",
      "[CV] END ......................C=50, penalty=l2, solver=saga; total time=   0.2s\n",
      "[CV] END ......................C=50, penalty=l2, solver=saga; total time=   0.2s\n",
      "[CV] END ......................C=50, penalty=l2, solver=saga; total time=   0.2s\n",
      "[CV] END ......................C=50, penalty=l2, solver=saga; total time=   0.2s\n",
      "[CV] END ......................C=50, penalty=l2, solver=saga; total time=   0.2s\n",
      "[CV] END .........C=50, penalty=elasticnet, solver=newton cg; total time=   0.0s\n",
      "[CV] END .........C=50, penalty=elasticnet, solver=newton cg; total time=   0.0s\n",
      "[CV] END .........C=50, penalty=elasticnet, solver=newton cg; total time=   0.0s\n",
      "[CV] END .........C=50, penalty=elasticnet, solver=newton cg; total time=   0.0s\n",
      "[CV] END .........C=50, penalty=elasticnet, solver=newton cg; total time=   0.0s\n",
      "[CV] END .............C=50, penalty=elasticnet, solver=lbfgs; total time=   0.0s\n",
      "[CV] END .............C=50, penalty=elasticnet, solver=lbfgs; total time=   0.0s\n",
      "[CV] END .............C=50, penalty=elasticnet, solver=lbfgs; total time=   0.0s\n",
      "[CV] END .............C=50, penalty=elasticnet, solver=lbfgs; total time=   0.0s\n",
      "[CV] END .............C=50, penalty=elasticnet, solver=lbfgs; total time=   0.0s\n",
      "[CV] END .........C=50, penalty=elasticnet, solver=liblinear; total time=   0.0s\n",
      "[CV] END .........C=50, penalty=elasticnet, solver=liblinear; total time=   0.0s\n",
      "[CV] END .........C=50, penalty=elasticnet, solver=liblinear; total time=   0.0s\n",
      "[CV] END .........C=50, penalty=elasticnet, solver=liblinear; total time=   0.0s\n",
      "[CV] END .........C=50, penalty=elasticnet, solver=liblinear; total time=   0.0s\n",
      "[CV] END ...............C=50, penalty=elasticnet, solver=sag; total time=   0.0s\n",
      "[CV] END ...............C=50, penalty=elasticnet, solver=sag; total time=   0.0s\n",
      "[CV] END ...............C=50, penalty=elasticnet, solver=sag; total time=   0.0s\n",
      "[CV] END ...............C=50, penalty=elasticnet, solver=sag; total time=   0.0s\n",
      "[CV] END ...............C=50, penalty=elasticnet, solver=sag; total time=   0.0s\n",
      "[CV] END ..............C=50, penalty=elasticnet, solver=saga; total time=   0.0s\n",
      "[CV] END ..............C=50, penalty=elasticnet, solver=saga; total time=   0.0s\n",
      "[CV] END ..............C=50, penalty=elasticnet, solver=saga; total time=   0.0s\n",
      "[CV] END ..............C=50, penalty=elasticnet, solver=saga; total time=   0.0s\n",
      "[CV] END ..............C=50, penalty=elasticnet, solver=saga; total time=   0.0s\n",
      "[CV] END ..............C=100, penalty=none, solver=newton cg; total time=   0.0s\n",
      "[CV] END ..............C=100, penalty=none, solver=newton cg; total time=   0.0s\n",
      "[CV] END ..............C=100, penalty=none, solver=newton cg; total time=   0.0s\n",
      "[CV] END ..............C=100, penalty=none, solver=newton cg; total time=   0.0s\n",
      "[CV] END ..............C=100, penalty=none, solver=newton cg; total time=   0.0s\n",
      "[CV] END ..................C=100, penalty=none, solver=lbfgs; total time=   0.1s\n",
      "[CV] END ..................C=100, penalty=none, solver=lbfgs; total time=   0.1s\n",
      "[CV] END ..................C=100, penalty=none, solver=lbfgs; total time=   0.1s\n",
      "[CV] END ..................C=100, penalty=none, solver=lbfgs; total time=   0.1s\n",
      "[CV] END ..................C=100, penalty=none, solver=lbfgs; total time=   0.1s\n",
      "[CV] END ..............C=100, penalty=none, solver=liblinear; total time=   0.0s\n",
      "[CV] END ..............C=100, penalty=none, solver=liblinear; total time=   0.0s\n",
      "[CV] END ..............C=100, penalty=none, solver=liblinear; total time=   0.0s\n",
      "[CV] END ..............C=100, penalty=none, solver=liblinear; total time=   0.0s\n",
      "[CV] END ..............C=100, penalty=none, solver=liblinear; total time=   0.0s\n",
      "[CV] END ....................C=100, penalty=none, solver=sag; total time=   0.3s\n",
      "[CV] END ....................C=100, penalty=none, solver=sag; total time=   0.3s\n",
      "[CV] END ....................C=100, penalty=none, solver=sag; total time=   0.3s\n",
      "[CV] END ....................C=100, penalty=none, solver=sag; total time=   0.3s\n",
      "[CV] END ....................C=100, penalty=none, solver=sag; total time=   0.3s\n",
      "[CV] END ...................C=100, penalty=none, solver=saga; total time=   0.3s\n",
      "[CV] END ...................C=100, penalty=none, solver=saga; total time=   0.3s\n",
      "[CV] END ...................C=100, penalty=none, solver=saga; total time=   0.3s\n",
      "[CV] END ...................C=100, penalty=none, solver=saga; total time=   0.3s\n",
      "[CV] END ...................C=100, penalty=none, solver=saga; total time=   0.2s\n",
      "[CV] END ................C=100, penalty=l1, solver=newton cg; total time=   0.0s\n",
      "[CV] END ................C=100, penalty=l1, solver=newton cg; total time=   0.0s\n",
      "[CV] END ................C=100, penalty=l1, solver=newton cg; total time=   0.0s\n",
      "[CV] END ................C=100, penalty=l1, solver=newton cg; total time=   0.0s\n",
      "[CV] END ................C=100, penalty=l1, solver=newton cg; total time=   0.0s\n",
      "[CV] END ....................C=100, penalty=l1, solver=lbfgs; total time=   0.0s\n",
      "[CV] END ....................C=100, penalty=l1, solver=lbfgs; total time=   0.0s\n",
      "[CV] END ....................C=100, penalty=l1, solver=lbfgs; total time=   0.0s\n",
      "[CV] END ....................C=100, penalty=l1, solver=lbfgs; total time=   0.0s\n",
      "[CV] END ....................C=100, penalty=l1, solver=lbfgs; total time=   0.0s\n",
      "[CV] END ................C=100, penalty=l1, solver=liblinear; total time=   0.2s\n",
      "[CV] END ................C=100, penalty=l1, solver=liblinear; total time=   0.0s\n",
      "[CV] END ................C=100, penalty=l1, solver=liblinear; total time=   0.2s\n",
      "[CV] END ................C=100, penalty=l1, solver=liblinear; total time=   0.2s\n",
      "[CV] END ................C=100, penalty=l1, solver=liblinear; total time=   0.2s\n",
      "[CV] END ......................C=100, penalty=l1, solver=sag; total time=   0.0s\n",
      "[CV] END ......................C=100, penalty=l1, solver=sag; total time=   0.0s\n",
      "[CV] END ......................C=100, penalty=l1, solver=sag; total time=   0.0s\n",
      "[CV] END ......................C=100, penalty=l1, solver=sag; total time=   0.0s\n",
      "[CV] END ......................C=100, penalty=l1, solver=sag; total time=   0.0s\n"
     ]
    },
    {
     "name": "stdout",
     "output_type": "stream",
     "text": [
      "[CV] END .....................C=100, penalty=l1, solver=saga; total time=   0.3s\n",
      "[CV] END .....................C=100, penalty=l1, solver=saga; total time=   0.3s\n",
      "[CV] END .....................C=100, penalty=l1, solver=saga; total time=   0.3s\n",
      "[CV] END .....................C=100, penalty=l1, solver=saga; total time=   0.3s\n",
      "[CV] END .....................C=100, penalty=l1, solver=saga; total time=   0.3s\n",
      "[CV] END ................C=100, penalty=l2, solver=newton cg; total time=   0.0s\n",
      "[CV] END ................C=100, penalty=l2, solver=newton cg; total time=   0.0s\n",
      "[CV] END ................C=100, penalty=l2, solver=newton cg; total time=   0.0s\n",
      "[CV] END ................C=100, penalty=l2, solver=newton cg; total time=   0.0s\n",
      "[CV] END ................C=100, penalty=l2, solver=newton cg; total time=   0.0s\n",
      "[CV] END ....................C=100, penalty=l2, solver=lbfgs; total time=   0.1s\n",
      "[CV] END ....................C=100, penalty=l2, solver=lbfgs; total time=   0.1s\n",
      "[CV] END ....................C=100, penalty=l2, solver=lbfgs; total time=   0.1s\n",
      "[CV] END ....................C=100, penalty=l2, solver=lbfgs; total time=   0.2s\n",
      "[CV] END ....................C=100, penalty=l2, solver=lbfgs; total time=   0.1s\n",
      "[CV] END ................C=100, penalty=l2, solver=liblinear; total time=   0.0s\n",
      "[CV] END ................C=100, penalty=l2, solver=liblinear; total time=   0.0s\n",
      "[CV] END ................C=100, penalty=l2, solver=liblinear; total time=   0.0s\n",
      "[CV] END ................C=100, penalty=l2, solver=liblinear; total time=   0.0s\n",
      "[CV] END ................C=100, penalty=l2, solver=liblinear; total time=   0.0s\n",
      "[CV] END ......................C=100, penalty=l2, solver=sag; total time=   0.2s\n",
      "[CV] END ......................C=100, penalty=l2, solver=sag; total time=   0.2s\n",
      "[CV] END ......................C=100, penalty=l2, solver=sag; total time=   0.2s\n",
      "[CV] END ......................C=100, penalty=l2, solver=sag; total time=   0.2s\n",
      "[CV] END ......................C=100, penalty=l2, solver=sag; total time=   0.2s\n",
      "[CV] END .....................C=100, penalty=l2, solver=saga; total time=   0.3s\n",
      "[CV] END .....................C=100, penalty=l2, solver=saga; total time=   0.3s\n",
      "[CV] END .....................C=100, penalty=l2, solver=saga; total time=   0.3s\n",
      "[CV] END .....................C=100, penalty=l2, solver=saga; total time=   0.3s\n",
      "[CV] END .....................C=100, penalty=l2, solver=saga; total time=   0.3s\n",
      "[CV] END ........C=100, penalty=elasticnet, solver=newton cg; total time=   0.0s\n",
      "[CV] END ........C=100, penalty=elasticnet, solver=newton cg; total time=   0.0s\n",
      "[CV] END ........C=100, penalty=elasticnet, solver=newton cg; total time=   0.0s\n",
      "[CV] END ........C=100, penalty=elasticnet, solver=newton cg; total time=   0.0s\n",
      "[CV] END ........C=100, penalty=elasticnet, solver=newton cg; total time=   0.0s\n",
      "[CV] END ............C=100, penalty=elasticnet, solver=lbfgs; total time=   0.0s\n",
      "[CV] END ............C=100, penalty=elasticnet, solver=lbfgs; total time=   0.0s\n",
      "[CV] END ............C=100, penalty=elasticnet, solver=lbfgs; total time=   0.0s\n",
      "[CV] END ............C=100, penalty=elasticnet, solver=lbfgs; total time=   0.0s\n",
      "[CV] END ............C=100, penalty=elasticnet, solver=lbfgs; total time=   0.0s\n",
      "[CV] END ........C=100, penalty=elasticnet, solver=liblinear; total time=   0.0s\n",
      "[CV] END ........C=100, penalty=elasticnet, solver=liblinear; total time=   0.0s\n",
      "[CV] END ........C=100, penalty=elasticnet, solver=liblinear; total time=   0.0s\n",
      "[CV] END ........C=100, penalty=elasticnet, solver=liblinear; total time=   0.0s\n",
      "[CV] END ........C=100, penalty=elasticnet, solver=liblinear; total time=   0.0s\n",
      "[CV] END ..............C=100, penalty=elasticnet, solver=sag; total time=   0.0s\n",
      "[CV] END ..............C=100, penalty=elasticnet, solver=sag; total time=   0.0s\n",
      "[CV] END ..............C=100, penalty=elasticnet, solver=sag; total time=   0.0s\n",
      "[CV] END ..............C=100, penalty=elasticnet, solver=sag; total time=   0.0s\n",
      "[CV] END ..............C=100, penalty=elasticnet, solver=sag; total time=   0.0s\n",
      "[CV] END .............C=100, penalty=elasticnet, solver=saga; total time=   0.0s\n",
      "[CV] END .............C=100, penalty=elasticnet, solver=saga; total time=   0.0s\n",
      "[CV] END .............C=100, penalty=elasticnet, solver=saga; total time=   0.0s\n",
      "[CV] END .............C=100, penalty=elasticnet, solver=saga; total time=   0.0s\n",
      "[CV] END .............C=100, penalty=elasticnet, solver=saga; total time=   0.0s\n",
      "[CV] END ..............C=200, penalty=none, solver=newton cg; total time=   0.0s\n",
      "[CV] END ..............C=200, penalty=none, solver=newton cg; total time=   0.0s\n",
      "[CV] END ..............C=200, penalty=none, solver=newton cg; total time=   0.0s\n",
      "[CV] END ..............C=200, penalty=none, solver=newton cg; total time=   0.0s\n",
      "[CV] END ..............C=200, penalty=none, solver=newton cg; total time=   0.0s\n",
      "[CV] END ..................C=200, penalty=none, solver=lbfgs; total time=   0.1s\n",
      "[CV] END ..................C=200, penalty=none, solver=lbfgs; total time=   0.1s\n",
      "[CV] END ..................C=200, penalty=none, solver=lbfgs; total time=   0.1s\n",
      "[CV] END ..................C=200, penalty=none, solver=lbfgs; total time=   0.1s\n",
      "[CV] END ..................C=200, penalty=none, solver=lbfgs; total time=   0.1s\n",
      "[CV] END ..............C=200, penalty=none, solver=liblinear; total time=   0.0s\n",
      "[CV] END ..............C=200, penalty=none, solver=liblinear; total time=   0.0s\n",
      "[CV] END ..............C=200, penalty=none, solver=liblinear; total time=   0.0s\n",
      "[CV] END ..............C=200, penalty=none, solver=liblinear; total time=   0.0s\n",
      "[CV] END ..............C=200, penalty=none, solver=liblinear; total time=   0.0s\n",
      "[CV] END ....................C=200, penalty=none, solver=sag; total time=   0.2s\n",
      "[CV] END ....................C=200, penalty=none, solver=sag; total time=   0.2s\n",
      "[CV] END ....................C=200, penalty=none, solver=sag; total time=   0.2s\n",
      "[CV] END ....................C=200, penalty=none, solver=sag; total time=   0.2s\n",
      "[CV] END ....................C=200, penalty=none, solver=sag; total time=   0.2s\n",
      "[CV] END ...................C=200, penalty=none, solver=saga; total time=   0.2s\n",
      "[CV] END ...................C=200, penalty=none, solver=saga; total time=   0.2s\n",
      "[CV] END ...................C=200, penalty=none, solver=saga; total time=   0.2s\n",
      "[CV] END ...................C=200, penalty=none, solver=saga; total time=   0.2s\n",
      "[CV] END ...................C=200, penalty=none, solver=saga; total time=   0.2s\n",
      "[CV] END ................C=200, penalty=l1, solver=newton cg; total time=   0.0s\n",
      "[CV] END ................C=200, penalty=l1, solver=newton cg; total time=   0.0s\n",
      "[CV] END ................C=200, penalty=l1, solver=newton cg; total time=   0.0s\n",
      "[CV] END ................C=200, penalty=l1, solver=newton cg; total time=   0.0s\n",
      "[CV] END ................C=200, penalty=l1, solver=newton cg; total time=   0.0s\n",
      "[CV] END ....................C=200, penalty=l1, solver=lbfgs; total time=   0.0s\n",
      "[CV] END ....................C=200, penalty=l1, solver=lbfgs; total time=   0.0s\n",
      "[CV] END ....................C=200, penalty=l1, solver=lbfgs; total time=   0.0s\n",
      "[CV] END ....................C=200, penalty=l1, solver=lbfgs; total time=   0.0s\n",
      "[CV] END ....................C=200, penalty=l1, solver=lbfgs; total time=   0.0s\n",
      "[CV] END ................C=200, penalty=l1, solver=liblinear; total time=   0.0s\n",
      "[CV] END ................C=200, penalty=l1, solver=liblinear; total time=   0.0s\n",
      "[CV] END ................C=200, penalty=l1, solver=liblinear; total time=   0.0s\n",
      "[CV] END ................C=200, penalty=l1, solver=liblinear; total time=   0.0s\n",
      "[CV] END ................C=200, penalty=l1, solver=liblinear; total time=   0.0s\n",
      "[CV] END ......................C=200, penalty=l1, solver=sag; total time=   0.0s\n",
      "[CV] END ......................C=200, penalty=l1, solver=sag; total time=   0.0s\n",
      "[CV] END ......................C=200, penalty=l1, solver=sag; total time=   0.0s\n",
      "[CV] END ......................C=200, penalty=l1, solver=sag; total time=   0.0s\n",
      "[CV] END ......................C=200, penalty=l1, solver=sag; total time=   0.0s\n",
      "[CV] END .....................C=200, penalty=l1, solver=saga; total time=   0.3s\n",
      "[CV] END .....................C=200, penalty=l1, solver=saga; total time=   0.3s\n"
     ]
    },
    {
     "name": "stdout",
     "output_type": "stream",
     "text": [
      "[CV] END .....................C=200, penalty=l1, solver=saga; total time=   0.3s\n",
      "[CV] END .....................C=200, penalty=l1, solver=saga; total time=   0.3s\n",
      "[CV] END .....................C=200, penalty=l1, solver=saga; total time=   0.3s\n",
      "[CV] END ................C=200, penalty=l2, solver=newton cg; total time=   0.0s\n",
      "[CV] END ................C=200, penalty=l2, solver=newton cg; total time=   0.0s\n",
      "[CV] END ................C=200, penalty=l2, solver=newton cg; total time=   0.0s\n",
      "[CV] END ................C=200, penalty=l2, solver=newton cg; total time=   0.0s\n",
      "[CV] END ................C=200, penalty=l2, solver=newton cg; total time=   0.0s\n",
      "[CV] END ....................C=200, penalty=l2, solver=lbfgs; total time=   0.1s\n",
      "[CV] END ....................C=200, penalty=l2, solver=lbfgs; total time=   0.1s\n",
      "[CV] END ....................C=200, penalty=l2, solver=lbfgs; total time=   0.1s\n",
      "[CV] END ....................C=200, penalty=l2, solver=lbfgs; total time=   0.1s\n",
      "[CV] END ....................C=200, penalty=l2, solver=lbfgs; total time=   0.1s\n",
      "[CV] END ................C=200, penalty=l2, solver=liblinear; total time=   0.0s\n",
      "[CV] END ................C=200, penalty=l2, solver=liblinear; total time=   0.0s\n",
      "[CV] END ................C=200, penalty=l2, solver=liblinear; total time=   0.0s\n",
      "[CV] END ................C=200, penalty=l2, solver=liblinear; total time=   0.0s\n",
      "[CV] END ................C=200, penalty=l2, solver=liblinear; total time=   0.0s\n",
      "[CV] END ......................C=200, penalty=l2, solver=sag; total time=   0.2s\n",
      "[CV] END ......................C=200, penalty=l2, solver=sag; total time=   0.2s\n",
      "[CV] END ......................C=200, penalty=l2, solver=sag; total time=   0.2s\n",
      "[CV] END ......................C=200, penalty=l2, solver=sag; total time=   0.2s\n",
      "[CV] END ......................C=200, penalty=l2, solver=sag; total time=   0.2s\n",
      "[CV] END .....................C=200, penalty=l2, solver=saga; total time=   0.2s\n",
      "[CV] END .....................C=200, penalty=l2, solver=saga; total time=   0.2s\n",
      "[CV] END .....................C=200, penalty=l2, solver=saga; total time=   0.2s\n",
      "[CV] END .....................C=200, penalty=l2, solver=saga; total time=   0.2s\n",
      "[CV] END .....................C=200, penalty=l2, solver=saga; total time=   0.2s\n",
      "[CV] END ........C=200, penalty=elasticnet, solver=newton cg; total time=   0.0s\n",
      "[CV] END ........C=200, penalty=elasticnet, solver=newton cg; total time=   0.0s\n",
      "[CV] END ........C=200, penalty=elasticnet, solver=newton cg; total time=   0.0s\n",
      "[CV] END ........C=200, penalty=elasticnet, solver=newton cg; total time=   0.0s\n",
      "[CV] END ........C=200, penalty=elasticnet, solver=newton cg; total time=   0.0s\n",
      "[CV] END ............C=200, penalty=elasticnet, solver=lbfgs; total time=   0.0s\n",
      "[CV] END ............C=200, penalty=elasticnet, solver=lbfgs; total time=   0.0s\n",
      "[CV] END ............C=200, penalty=elasticnet, solver=lbfgs; total time=   0.0s\n",
      "[CV] END ............C=200, penalty=elasticnet, solver=lbfgs; total time=   0.0s\n",
      "[CV] END ............C=200, penalty=elasticnet, solver=lbfgs; total time=   0.0s\n",
      "[CV] END ........C=200, penalty=elasticnet, solver=liblinear; total time=   0.0s\n",
      "[CV] END ........C=200, penalty=elasticnet, solver=liblinear; total time=   0.0s\n",
      "[CV] END ........C=200, penalty=elasticnet, solver=liblinear; total time=   0.0s\n",
      "[CV] END ........C=200, penalty=elasticnet, solver=liblinear; total time=   0.0s\n",
      "[CV] END ........C=200, penalty=elasticnet, solver=liblinear; total time=   0.0s\n",
      "[CV] END ..............C=200, penalty=elasticnet, solver=sag; total time=   0.0s\n",
      "[CV] END ..............C=200, penalty=elasticnet, solver=sag; total time=   0.0s\n",
      "[CV] END ..............C=200, penalty=elasticnet, solver=sag; total time=   0.0s\n",
      "[CV] END ..............C=200, penalty=elasticnet, solver=sag; total time=   0.0s\n",
      "[CV] END ..............C=200, penalty=elasticnet, solver=sag; total time=   0.0s\n",
      "[CV] END .............C=200, penalty=elasticnet, solver=saga; total time=   0.0s\n",
      "[CV] END .............C=200, penalty=elasticnet, solver=saga; total time=   0.0s\n",
      "[CV] END .............C=200, penalty=elasticnet, solver=saga; total time=   0.0s\n",
      "[CV] END .............C=200, penalty=elasticnet, solver=saga; total time=   0.0s\n",
      "[CV] END .............C=200, penalty=elasticnet, solver=saga; total time=   0.0s\n",
      "[CV] END ..............C=300, penalty=none, solver=newton cg; total time=   0.0s\n",
      "[CV] END ..............C=300, penalty=none, solver=newton cg; total time=   0.0s\n",
      "[CV] END ..............C=300, penalty=none, solver=newton cg; total time=   0.0s\n",
      "[CV] END ..............C=300, penalty=none, solver=newton cg; total time=   0.0s\n",
      "[CV] END ..............C=300, penalty=none, solver=newton cg; total time=   0.0s\n",
      "[CV] END ..................C=300, penalty=none, solver=lbfgs; total time=   0.1s\n",
      "[CV] END ..................C=300, penalty=none, solver=lbfgs; total time=   0.1s\n",
      "[CV] END ..................C=300, penalty=none, solver=lbfgs; total time=   0.1s\n",
      "[CV] END ..................C=300, penalty=none, solver=lbfgs; total time=   0.1s\n",
      "[CV] END ..................C=300, penalty=none, solver=lbfgs; total time=   0.1s\n",
      "[CV] END ..............C=300, penalty=none, solver=liblinear; total time=   0.0s\n",
      "[CV] END ..............C=300, penalty=none, solver=liblinear; total time=   0.0s\n",
      "[CV] END ..............C=300, penalty=none, solver=liblinear; total time=   0.0s\n",
      "[CV] END ..............C=300, penalty=none, solver=liblinear; total time=   0.0s\n",
      "[CV] END ..............C=300, penalty=none, solver=liblinear; total time=   0.0s\n",
      "[CV] END ....................C=300, penalty=none, solver=sag; total time=   0.2s\n",
      "[CV] END ....................C=300, penalty=none, solver=sag; total time=   0.2s\n",
      "[CV] END ....................C=300, penalty=none, solver=sag; total time=   0.2s\n",
      "[CV] END ....................C=300, penalty=none, solver=sag; total time=   0.2s\n",
      "[CV] END ....................C=300, penalty=none, solver=sag; total time=   0.2s\n",
      "[CV] END ...................C=300, penalty=none, solver=saga; total time=   0.3s\n",
      "[CV] END ...................C=300, penalty=none, solver=saga; total time=   0.2s\n",
      "[CV] END ...................C=300, penalty=none, solver=saga; total time=   0.3s\n",
      "[CV] END ...................C=300, penalty=none, solver=saga; total time=   0.2s\n",
      "[CV] END ...................C=300, penalty=none, solver=saga; total time=   0.2s\n",
      "[CV] END ................C=300, penalty=l1, solver=newton cg; total time=   0.0s\n",
      "[CV] END ................C=300, penalty=l1, solver=newton cg; total time=   0.0s\n",
      "[CV] END ................C=300, penalty=l1, solver=newton cg; total time=   0.0s\n",
      "[CV] END ................C=300, penalty=l1, solver=newton cg; total time=   0.0s\n",
      "[CV] END ................C=300, penalty=l1, solver=newton cg; total time=   0.0s\n",
      "[CV] END ....................C=300, penalty=l1, solver=lbfgs; total time=   0.0s\n",
      "[CV] END ....................C=300, penalty=l1, solver=lbfgs; total time=   0.0s\n",
      "[CV] END ....................C=300, penalty=l1, solver=lbfgs; total time=   0.0s\n",
      "[CV] END ....................C=300, penalty=l1, solver=lbfgs; total time=   0.0s\n",
      "[CV] END ....................C=300, penalty=l1, solver=lbfgs; total time=   0.0s\n",
      "[CV] END ................C=300, penalty=l1, solver=liblinear; total time=   0.0s\n",
      "[CV] END ................C=300, penalty=l1, solver=liblinear; total time=   0.0s\n",
      "[CV] END ................C=300, penalty=l1, solver=liblinear; total time=   0.0s\n",
      "[CV] END ................C=300, penalty=l1, solver=liblinear; total time=   0.0s\n",
      "[CV] END ................C=300, penalty=l1, solver=liblinear; total time=   0.0s\n",
      "[CV] END ......................C=300, penalty=l1, solver=sag; total time=   0.0s\n",
      "[CV] END ......................C=300, penalty=l1, solver=sag; total time=   0.0s\n",
      "[CV] END ......................C=300, penalty=l1, solver=sag; total time=   0.0s\n",
      "[CV] END ......................C=300, penalty=l1, solver=sag; total time=   0.0s\n",
      "[CV] END ......................C=300, penalty=l1, solver=sag; total time=   0.0s\n",
      "[CV] END .....................C=300, penalty=l1, solver=saga; total time=   0.3s\n",
      "[CV] END .....................C=300, penalty=l1, solver=saga; total time=   0.3s\n",
      "[CV] END .....................C=300, penalty=l1, solver=saga; total time=   0.3s\n",
      "[CV] END .....................C=300, penalty=l1, solver=saga; total time=   0.3s\n"
     ]
    },
    {
     "name": "stdout",
     "output_type": "stream",
     "text": [
      "[CV] END .....................C=300, penalty=l1, solver=saga; total time=   0.3s\n",
      "[CV] END ................C=300, penalty=l2, solver=newton cg; total time=   0.0s\n",
      "[CV] END ................C=300, penalty=l2, solver=newton cg; total time=   0.0s\n",
      "[CV] END ................C=300, penalty=l2, solver=newton cg; total time=   0.0s\n",
      "[CV] END ................C=300, penalty=l2, solver=newton cg; total time=   0.0s\n",
      "[CV] END ................C=300, penalty=l2, solver=newton cg; total time=   0.0s\n",
      "[CV] END ....................C=300, penalty=l2, solver=lbfgs; total time=   0.1s\n",
      "[CV] END ....................C=300, penalty=l2, solver=lbfgs; total time=   0.1s\n",
      "[CV] END ....................C=300, penalty=l2, solver=lbfgs; total time=   0.1s\n",
      "[CV] END ....................C=300, penalty=l2, solver=lbfgs; total time=   0.1s\n",
      "[CV] END ....................C=300, penalty=l2, solver=lbfgs; total time=   0.1s\n",
      "[CV] END ................C=300, penalty=l2, solver=liblinear; total time=   0.0s\n",
      "[CV] END ................C=300, penalty=l2, solver=liblinear; total time=   0.0s\n",
      "[CV] END ................C=300, penalty=l2, solver=liblinear; total time=   0.0s\n",
      "[CV] END ................C=300, penalty=l2, solver=liblinear; total time=   0.0s\n",
      "[CV] END ................C=300, penalty=l2, solver=liblinear; total time=   0.0s\n",
      "[CV] END ......................C=300, penalty=l2, solver=sag; total time=   0.3s\n",
      "[CV] END ......................C=300, penalty=l2, solver=sag; total time=   0.2s\n",
      "[CV] END ......................C=300, penalty=l2, solver=sag; total time=   0.2s\n",
      "[CV] END ......................C=300, penalty=l2, solver=sag; total time=   0.2s\n",
      "[CV] END ......................C=300, penalty=l2, solver=sag; total time=   0.2s\n",
      "[CV] END .....................C=300, penalty=l2, solver=saga; total time=   0.2s\n",
      "[CV] END .....................C=300, penalty=l2, solver=saga; total time=   0.2s\n",
      "[CV] END .....................C=300, penalty=l2, solver=saga; total time=   0.2s\n",
      "[CV] END .....................C=300, penalty=l2, solver=saga; total time=   0.2s\n",
      "[CV] END .....................C=300, penalty=l2, solver=saga; total time=   0.2s\n",
      "[CV] END ........C=300, penalty=elasticnet, solver=newton cg; total time=   0.0s\n",
      "[CV] END ........C=300, penalty=elasticnet, solver=newton cg; total time=   0.0s\n",
      "[CV] END ........C=300, penalty=elasticnet, solver=newton cg; total time=   0.0s\n",
      "[CV] END ........C=300, penalty=elasticnet, solver=newton cg; total time=   0.0s\n",
      "[CV] END ........C=300, penalty=elasticnet, solver=newton cg; total time=   0.0s\n",
      "[CV] END ............C=300, penalty=elasticnet, solver=lbfgs; total time=   0.0s\n",
      "[CV] END ............C=300, penalty=elasticnet, solver=lbfgs; total time=   0.0s\n",
      "[CV] END ............C=300, penalty=elasticnet, solver=lbfgs; total time=   0.0s\n",
      "[CV] END ............C=300, penalty=elasticnet, solver=lbfgs; total time=   0.0s\n",
      "[CV] END ............C=300, penalty=elasticnet, solver=lbfgs; total time=   0.0s\n",
      "[CV] END ........C=300, penalty=elasticnet, solver=liblinear; total time=   0.0s\n",
      "[CV] END ........C=300, penalty=elasticnet, solver=liblinear; total time=   0.0s\n",
      "[CV] END ........C=300, penalty=elasticnet, solver=liblinear; total time=   0.0s\n",
      "[CV] END ........C=300, penalty=elasticnet, solver=liblinear; total time=   0.0s\n",
      "[CV] END ........C=300, penalty=elasticnet, solver=liblinear; total time=   0.0s\n",
      "[CV] END ..............C=300, penalty=elasticnet, solver=sag; total time=   0.0s\n",
      "[CV] END ..............C=300, penalty=elasticnet, solver=sag; total time=   0.0s\n",
      "[CV] END ..............C=300, penalty=elasticnet, solver=sag; total time=   0.0s\n",
      "[CV] END ..............C=300, penalty=elasticnet, solver=sag; total time=   0.0s\n",
      "[CV] END ..............C=300, penalty=elasticnet, solver=sag; total time=   0.0s\n",
      "[CV] END .............C=300, penalty=elasticnet, solver=saga; total time=   0.0s\n",
      "[CV] END .............C=300, penalty=elasticnet, solver=saga; total time=   0.0s\n",
      "[CV] END .............C=300, penalty=elasticnet, solver=saga; total time=   0.0s\n",
      "[CV] END .............C=300, penalty=elasticnet, solver=saga; total time=   0.0s\n",
      "[CV] END .............C=300, penalty=elasticnet, solver=saga; total time=   0.0s\n"
     ]
    },
    {
     "data": {
      "text/plain": [
       "GridSearchCV(estimator=LogisticRegression(),\n",
       "             param_grid={'C': [0.1, 0.2, 0.3, 0.4, 0.5, 1, 10, 20, 50, 100, 200,\n",
       "                               300],\n",
       "                         'penalty': ['none', 'l1', 'l2', 'elasticnet'],\n",
       "                         'solver': ['newton cg', 'lbfgs', 'liblinear', 'sag',\n",
       "                                    'saga']},\n",
       "             verbose=2)"
      ]
     },
     "execution_count": 84,
     "metadata": {},
     "output_type": "execute_result"
    }
   ],
   "source": [
    "from sklearn.model_selection import GridSearchCV\n",
    "\n",
    "parameters={\n",
    "    'solver' : ['newton cg', 'lbfgs', 'liblinear', 'sag', 'saga'],\n",
    "    'C':[.1,.2,.3,.4,.5,1,10,20,50,100,200,300],\n",
    "    'penalty' : ['none', 'l1', 'l2', 'elasticnet']\n",
    "}\n",
    "grid_model2=GridSearchCV(LogisticRegression(),parameters,verbose=2)\n",
    "grid_model2.fit(X_train2,y_train2)"
   ]
  },
  {
   "cell_type": "code",
   "execution_count": 85,
   "metadata": {},
   "outputs": [
    {
     "name": "stdout",
     "output_type": "stream",
     "text": [
      "{'C': 0.1, 'penalty': 'none', 'solver': 'lbfgs'}\n"
     ]
    },
    {
     "data": {
      "text/plain": [
       "0.6949649542320141"
      ]
     },
     "execution_count": 85,
     "metadata": {},
     "output_type": "execute_result"
    }
   ],
   "source": [
    "print(grid_model1.best_params_ )\n",
    "grid_model2.best_score_"
   ]
  },
  {
   "cell_type": "code",
   "execution_count": 89,
   "metadata": {},
   "outputs": [],
   "source": [
    "pred1=grid_model1.predict(X_test)\n",
    "pred2=grid_model2.predict(X_test)"
   ]
  },
  {
   "cell_type": "code",
   "execution_count": 88,
   "metadata": {},
   "outputs": [],
   "source": [
    "p1=[]\n",
    "for i in pred1:\n",
    "    if i == 'Low Potential':\n",
    "        p1.append(0)\n",
    "    else:\n",
    "        p1.append(1)\n",
    "p2=[]\n",
    "for i in pred2:\n",
    "    if i == 'Low Potential':\n",
    "        p2.append(0)\n",
    "    else:\n",
    "        p2.append(1)\n",
    "ytest=[]\n",
    "for i in y_test:\n",
    "    if i == 'Low Potential':\n",
    "        ytest.append(0)\n",
    "    else:\n",
    "        ytest.append(1)"
   ]
  },
  {
   "cell_type": "code",
   "execution_count": 90,
   "metadata": {},
   "outputs": [],
   "source": [
    "from statistics import mean, median, mode, stdev\n",
    "final_pred = np.array([])\n",
    "for i in range(0,len(X_test)):\n",
    "    final_pred = np.append(final_pred, median([p1[i], p2[i]]))"
   ]
  },
  {
   "cell_type": "code",
   "execution_count": 110,
   "metadata": {},
   "outputs": [
    {
     "data": {
      "text/plain": [
       "array([0., 0., 0., ..., 0., 0., 0.])"
      ]
     },
     "execution_count": 110,
     "metadata": {},
     "output_type": "execute_result"
    }
   ],
   "source": [
    "final_pred"
   ]
  },
  {
   "cell_type": "code",
   "execution_count": 113,
   "metadata": {},
   "outputs": [
    {
     "name": "stdout",
     "output_type": "stream",
     "text": [
      "              precision    recall  f1-score   support\n",
      "\n",
      "         0.0       0.83      0.74      0.78      1039\n",
      "         1.0       0.52      0.65      0.58       446\n",
      "\n",
      "    accuracy                           0.71      1485\n",
      "   macro avg       0.68      0.70      0.68      1485\n",
      "weighted avg       0.74      0.71      0.72      1485\n",
      "\n"
     ]
    }
   ],
   "source": [
    "print(classification_report(final_pred,ytest))"
   ]
  },
  {
   "cell_type": "code",
   "execution_count": 93,
   "metadata": {},
   "outputs": [],
   "source": [
    "Result=[]\n",
    "for i in final_pred:\n",
    "    if i == '0':\n",
    "        Result.append('Low Potential')\n",
    "    else:\n",
    "        Result.append('High Potential')"
   ]
  },
  {
   "cell_type": "markdown",
   "metadata": {},
   "source": [
    "# Additional"
   ]
  },
  {
   "cell_type": "code",
   "execution_count": 132,
   "metadata": {},
   "outputs": [],
   "source": [
    "from sklearn.tree import DecisionTreeClassifier\n",
    "decisiontree=DecisionTreeClassifier()\n",
    "from sklearn.ensemble import RandomForestClassifier\n",
    "forest=RandomForestClassifier()\n",
    "from sklearn.linear_model import LogisticRegression\n",
    "LR= LogisticRegression()"
   ]
  },
  {
   "cell_type": "code",
   "execution_count": 139,
   "metadata": {},
   "outputs": [
    {
     "name": "stdout",
     "output_type": "stream",
     "text": [
      "The accuracy for DecisionTree and Random Forest is: 0.696969696969697\n"
     ]
    }
   ],
   "source": [
    "from sklearn.ensemble import VotingClassifier\n",
    "ensemble=VotingClassifier(estimators=[('Decision Tree', decisiontree), ('Random Forest', forest)], \n",
    "                       voting='soft', weights=[2,1]).fit(X_train1,y_train1)\n",
    "print('The accuracy for DecisionTree and Random Forest is:',ensemble.score(X_test,y_test))"
   ]
  },
  {
   "cell_type": "code",
   "execution_count": 140,
   "metadata": {},
   "outputs": [
    {
     "name": "stdout",
     "output_type": "stream",
     "text": [
      "The accuracy for Logisticregression and Random Forest is: 0.6996632996632997\n"
     ]
    }
   ],
   "source": [
    "from sklearn.ensemble import VotingClassifier\n",
    "ensemble=VotingClassifier(estimators=[('Logistic regression', LR), ('Random Forest', forest)], \n",
    "                       voting='soft', weights=[2,13]).fit(X_train2,y_train2)\n",
    "print('The accuracy for Logisticregression and Random Forest is:',ensemble.score(X_test,y_test))"
   ]
  },
  {
   "cell_type": "code",
   "execution_count": 143,
   "metadata": {},
   "outputs": [
    {
     "name": "stdout",
     "output_type": "stream",
     "text": [
      "The accuracy for Logisticregression and Random Forest is: 0.7164983164983165\n"
     ]
    }
   ],
   "source": [
    "from sklearn.ensemble import VotingClassifier\n",
    "ensemble=VotingClassifier(estimators=[('Logistic regression', LR), ('Random Forest', forest)], \n",
    "                       voting='soft', weights=[2,1]).fit(X_train2,y_train2)\n",
    "print('The accuracy for Logisticregression and Random Forest is:',ensemble.score(X_test,y_test))"
   ]
  },
  {
   "cell_type": "markdown",
   "metadata": {},
   "source": [
    "# Before feature engineering"
   ]
  },
  {
   "cell_type": "code",
   "execution_count": 7,
   "metadata": {},
   "outputs": [
    {
     "data": {
      "text/html": [
       "<div>\n",
       "<style scoped>\n",
       "    .dataframe tbody tr th:only-of-type {\n",
       "        vertical-align: middle;\n",
       "    }\n",
       "\n",
       "    .dataframe tbody tr th {\n",
       "        vertical-align: top;\n",
       "    }\n",
       "\n",
       "    .dataframe thead th {\n",
       "        text-align: right;\n",
       "    }\n",
       "</style>\n",
       "<table border=\"1\" class=\"dataframe\">\n",
       "  <thead>\n",
       "    <tr style=\"text-align: right;\">\n",
       "      <th></th>\n",
       "      <th>Model</th>\n",
       "      <th>Accuracy</th>\n",
       "      <th>F1 score 0</th>\n",
       "      <th>F1 score 1</th>\n",
       "      <th>F1 score 2</th>\n",
       "    </tr>\n",
       "  </thead>\n",
       "  <tbody>\n",
       "    <tr>\n",
       "      <th>0</th>\n",
       "      <td>RF</td>\n",
       "      <td>56</td>\n",
       "      <td>60</td>\n",
       "      <td>57</td>\n",
       "      <td>52</td>\n",
       "    </tr>\n",
       "    <tr>\n",
       "      <th>1</th>\n",
       "      <td>LR</td>\n",
       "      <td>50</td>\n",
       "      <td>55</td>\n",
       "      <td>54</td>\n",
       "      <td>34</td>\n",
       "    </tr>\n",
       "    <tr>\n",
       "      <th>2</th>\n",
       "      <td>SVC</td>\n",
       "      <td>56</td>\n",
       "      <td>58</td>\n",
       "      <td>57</td>\n",
       "      <td>52</td>\n",
       "    </tr>\n",
       "    <tr>\n",
       "      <th>3</th>\n",
       "      <td>KNN</td>\n",
       "      <td>52</td>\n",
       "      <td>56</td>\n",
       "      <td>54</td>\n",
       "      <td>43</td>\n",
       "    </tr>\n",
       "    <tr>\n",
       "      <th>4</th>\n",
       "      <td>NB</td>\n",
       "      <td>42</td>\n",
       "      <td>47</td>\n",
       "      <td>52</td>\n",
       "      <td>0</td>\n",
       "    </tr>\n",
       "  </tbody>\n",
       "</table>\n",
       "</div>"
      ],
      "text/plain": [
       "  Model  Accuracy  F1 score 0  F1 score 1  F1 score 2\n",
       "0    RF        56          60          57          52\n",
       "1    LR        50          55          54          34\n",
       "2   SVC        56          58          57          52\n",
       "3   KNN        52          56          54          43\n",
       "4    NB        42          47          52           0"
      ]
     },
     "execution_count": 7,
     "metadata": {},
     "output_type": "execute_result"
    }
   ],
   "source": [
    "pf=pd.read_excel(\"BEFORE ACCURACY.xlsx\")\n",
    "pf.head()"
   ]
  },
  {
   "cell_type": "code",
   "execution_count": 8,
   "metadata": {},
   "outputs": [
    {
     "data": {
      "text/plain": [
       "<matplotlib.legend.Legend at 0x7febe0428490>"
      ]
     },
     "execution_count": 8,
     "metadata": {},
     "output_type": "execute_result"
    },
    {
     "data": {
      "image/png": "[encoded data removed]",
      "text/plain": [
       "<Figure size 1000x600 with 1 Axes>"
      ]
     },
     "metadata": {
      "needs_background": "light"
     },
     "output_type": "display_data"
    }
   ],
   "source": [
    "fig = plt.figure(figsize=(10,6), dpi=100)\n",
    "ax = fig.add_axes([0,0,1,1])\n",
    "\n",
    "ax.plot(pf.Model, pf['F1 score 0'],label=\"F1-score 0\",marker='o')\n",
    "ax.plot(pf.Model, pf.Accuracy,label=\"Accuracy\",marker='o')\n",
    "ax.plot(pf.Model, pf['F1 score 1'],label=\"F1-score 1\",marker='o')\n",
    "ax.plot(pf.Model, pf['F1 score 2'],label=\"F1-score 2\",marker='o')\n",
    "ax.plot()\n",
    "ax.legend()"
   ]
  },
  {
   "cell_type": "markdown",
   "metadata": {},
   "source": [
    "# After feature engineering"
   ]
  },
  {
   "cell_type": "code",
   "execution_count": 4,
   "metadata": {},
   "outputs": [
    {
     "data": {
      "text/html": [
       "<div>\n",
       "<style scoped>\n",
       "    .dataframe tbody tr th:only-of-type {\n",
       "        vertical-align: middle;\n",
       "    }\n",
       "\n",
       "    .dataframe tbody tr th {\n",
       "        vertical-align: top;\n",
       "    }\n",
       "\n",
       "    .dataframe thead th {\n",
       "        text-align: right;\n",
       "    }\n",
       "</style>\n",
       "<table border=\"1\" class=\"dataframe\">\n",
       "  <thead>\n",
       "    <tr style=\"text-align: right;\">\n",
       "      <th></th>\n",
       "      <th>Model</th>\n",
       "      <th>Accuracy</th>\n",
       "      <th>F1 score 0</th>\n",
       "      <th>F1 score 1</th>\n",
       "    </tr>\n",
       "  </thead>\n",
       "  <tbody>\n",
       "    <tr>\n",
       "      <th>0</th>\n",
       "      <td>RF</td>\n",
       "      <td>70.10</td>\n",
       "      <td>55</td>\n",
       "      <td>78</td>\n",
       "    </tr>\n",
       "    <tr>\n",
       "      <th>1</th>\n",
       "      <td>LR</td>\n",
       "      <td>71.00</td>\n",
       "      <td>78</td>\n",
       "      <td>60</td>\n",
       "    </tr>\n",
       "    <tr>\n",
       "      <th>2</th>\n",
       "      <td>SVC</td>\n",
       "      <td>70.84</td>\n",
       "      <td>53</td>\n",
       "      <td>79</td>\n",
       "    </tr>\n",
       "    <tr>\n",
       "      <th>3</th>\n",
       "      <td>KNN</td>\n",
       "      <td>69.50</td>\n",
       "      <td>57</td>\n",
       "      <td>77</td>\n",
       "    </tr>\n",
       "    <tr>\n",
       "      <th>4</th>\n",
       "      <td>NB</td>\n",
       "      <td>62.90</td>\n",
       "      <td>49</td>\n",
       "      <td>71</td>\n",
       "    </tr>\n",
       "  </tbody>\n",
       "</table>\n",
       "</div>"
      ],
      "text/plain": [
       "  Model  Accuracy  F1 score 0  F1 score 1\n",
       "0    RF     70.10          55          78\n",
       "1    LR     71.00          78          60\n",
       "2   SVC     70.84          53          79\n",
       "3   KNN     69.50          57          77\n",
       "4    NB     62.90          49          71"
      ]
     },
     "execution_count": 4,
     "metadata": {},
     "output_type": "execute_result"
    }
   ],
   "source": [
    "pf=pd.read_excel(\"AFTER ACCURACY.xlsx\")\n",
    "pf.head()"
   ]
  },
  {
   "cell_type": "code",
   "execution_count": 6,
   "metadata": {},
   "outputs": [
    {
     "data": {
      "text/plain": [
       "<matplotlib.legend.Legend at 0x7febe0f0e1f0>"
      ]
     },
     "execution_count": 6,
     "metadata": {},
     "output_type": "execute_result"
    },
    {
     "data": {
      "image/png": "[encoded data removed]",
      "text/plain": [
       "<Figure size 1000x600 with 1 Axes>"
      ]
     },
     "metadata": {
      "needs_background": "light"
     },
     "output_type": "display_data"
    }
   ],
   "source": [
    "fig = plt.figure(figsize=(10,6), dpi=100)\n",
    "ax = fig.add_axes([0,0,1,1])\n",
    "\n",
    "ax.plot(pf.Model, pf['F1 score 0'],label=\"F1-score 0\",marker='o')\n",
    "ax.plot(pf.Model, pf.Accuracy,label=\"Accuracy\",marker='o')\n",
    "ax.plot(pf.Model, pf['F1 score 1'],label=\"F1-score 1\",marker='o')\n",
    "ax.plot()\n",
    "ax.legend()"
   ]
  },
  {
   "cell_type": "code",
   "execution_count": null,
   "metadata": {},
   "outputs": [],
   "source": []
  }
 ],
 "metadata": {
  "kernelspec": {
   "display_name": "Python 3",
   "language": "python",
   "name": "python3"
  },
  "language_info": {
   "codemirror_mode": {
    "name": "ipython",
    "version": 3
   },
   "file_extension": ".py",
   "mimetype": "text/x-python",
   "name": "python",
   "nbconvert_exporter": "python",
   "pygments_lexer": "ipython3",
   "version": "3.8.5"
  }
 },
 "nbformat": 4,
 "nbformat_minor": 4
}
